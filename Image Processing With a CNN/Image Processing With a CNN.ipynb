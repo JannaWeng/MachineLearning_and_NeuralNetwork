{
  "nbformat": 4,
  "nbformat_minor": 0,
  "metadata": {
    "colab": {
      "name": "Assignment07_Weng.ipynb",
      "provenance": [],
      "collapsed_sections": []
    },
    "kernelspec": {
      "name": "python3",
      "display_name": "Python 3"
    }
  },
  "cells": [
    {
      "cell_type": "markdown",
      "metadata": {
        "id": "F6lYlJeYRrDl"
      },
      "source": [
        "#**Ingest**"
      ]
    },
    {
      "cell_type": "code",
      "metadata": {
        "id": "j_kmUWvW6S6g"
      },
      "source": [
        "import numpy as np\n",
        "import pandas as pd\n",
        "from random import shuffle\n",
        "from google.colab import drive\n",
        "import os\n",
        "import cv2\n",
        "from tensorflow import keras\n",
        "from keras.models import Sequential\n",
        "from keras.layers import Dense\n",
        "from keras.layers import Dropout\n",
        "from keras.layers import Flatten\n",
        "from keras.layers.convolutional import Convolution2D\n",
        "from keras.layers.convolutional import MaxPooling2D"
      ],
      "execution_count": null,
      "outputs": []
    },
    {
      "cell_type": "code",
      "metadata": {
        "colab": {
          "base_uri": "https://localhost:8080/"
        },
        "id": "9DKPadDt6EGl",
        "outputId": "70a2a548-47c7-4d9c-bdc4-0b756f9bd622"
      },
      "source": [
        "drive.mount('/content/drive')"
      ],
      "execution_count": null,
      "outputs": [
        {
          "output_type": "stream",
          "text": [
            "Drive already mounted at /content/drive; to attempt to forcibly remount, call drive.mount(\"/content/drive\", force_remount=True).\n"
          ],
          "name": "stdout"
        }
      ]
    },
    {
      "cell_type": "code",
      "metadata": {
        "id": "vyRmNC4PR7K7"
      },
      "source": [
        "!unzip '/content/drive/My Drive/Data/train.zip'\n",
        "!unzip '/content/drive/My Drive/Data/test.zip'"
      ],
      "execution_count": null,
      "outputs": []
    },
    {
      "cell_type": "markdown",
      "metadata": {
        "id": "KCQJ2cwXRv9r"
      },
      "source": [
        "#**EDA**"
      ]
    },
    {
      "cell_type": "code",
      "metadata": {
        "id": "M-RDn8U_6w-N"
      },
      "source": [
        "train_path = \"./train\"\n",
        "test_path = \"./test\""
      ],
      "execution_count": null,
      "outputs": []
    },
    {
      "cell_type": "code",
      "metadata": {
        "id": "IwQWc3ud8wNr"
      },
      "source": [
        "ROWS = 64\n",
        "COLS = 64\n",
        "CHANNELS = 3"
      ],
      "execution_count": null,
      "outputs": []
    },
    {
      "cell_type": "code",
      "metadata": {
        "id": "ISi4BtUb80id"
      },
      "source": [
        "images      = [img for img in os.listdir(train_path)]\n",
        "images_dog  = [img for img in os.listdir(train_path) if \"dog\" in img]\n",
        "images_cat  = [img for img in os.listdir(train_path) if \"cat\" in img]\n",
        "\n",
        "images_test = [img for img in os.listdir(test_path)]"
      ],
      "execution_count": null,
      "outputs": []
    },
    {
      "cell_type": "code",
      "metadata": {
        "id": "t7DRkEOA89O5"
      },
      "source": [
        "train_dog = images_dog[:800]\n",
        "train_cat = images_cat[:800]\n",
        "valid_dog = images_dog[800:1000]\n",
        "valid_cat = images_cat[800:1000]\n",
        "\n",
        "train_list = train_dog + train_cat\n",
        "valid_list = valid_dog + valid_cat\n",
        "test_list  = images_test[0:]\n",
        "\n",
        "shuffle(train_list)\n",
        "\n",
        "train = np.ndarray(shape=(len(train_list),ROWS, COLS))\n",
        "train_color = np.ndarray(shape=(len(train_list), ROWS, COLS, CHANNELS), dtype=np.uint8)\n",
        "test = np.ndarray(shape=(len(test_list),ROWS, COLS))\n",
        "test_color = np.ndarray(shape=(len(images_test), ROWS, COLS, CHANNELS), dtype=np.uint8)\n",
        "valid = np.ndarray(shape=(len(valid_list), ROWS, COLS))\n",
        "valid_color = np.ndarray(shape=(len(valid_list), ROWS, COLS, CHANNELS), dtype=np.uint8)\n"
      ],
      "execution_count": null,
      "outputs": []
    },
    {
      "cell_type": "code",
      "metadata": {
        "id": "CoD18Qqj9KWB"
      },
      "source": [
        "labels = np.ndarray(len(train_list))\n",
        "\n",
        "for i, img_path in enumerate(train_list):\n",
        "    img_color = cv2.imread(os.path.join(train_path, img_path), 1)\n",
        "    img_color = cv2.resize(img_color, (ROWS, COLS), interpolation=cv2.INTER_CUBIC)\n",
        "    img = cv2.cvtColor(img_color, cv2.COLOR_BGR2GRAY)\n",
        "    \n",
        "    train[i] = img\n",
        "    train_color[i] = img_color\n",
        "   \n",
        "    if \"dog\" in img_path:\n",
        "        labels[i] = 0\n",
        "    else:\n",
        "        labels[i] = 1"
      ],
      "execution_count": null,
      "outputs": []
    },
    {
      "cell_type": "code",
      "metadata": {
        "id": "8Lao89P19QAy"
      },
      "source": [
        "valid_labels = np.ndarray(len(valid_list))\n",
        "\n",
        "for i, img_path in enumerate(valid_list):\n",
        "    img_color = cv2.imread(os.path.join(train_path, img_path), 1)\n",
        "    img_color = cv2.resize(img_color, (ROWS, COLS), interpolation=cv2.INTER_CUBIC)\n",
        "    img = cv2.cvtColor(img_color, cv2.COLOR_BGR2GRAY)\n",
        "    \n",
        "    valid[i] = img\n",
        "    valid_color[i] = img_color\n",
        "    \n",
        "    if \"dog\" in img_path:\n",
        "        valid_labels[i] = 0\n",
        "    else:\n",
        "        valid_labels[i] = 1"
      ],
      "execution_count": null,
      "outputs": []
    },
    {
      "cell_type": "code",
      "metadata": {
        "id": "9YqstjRQ9Vle"
      },
      "source": [
        "for i, img_path in enumerate(test_list):\n",
        "    img_color = cv2.imread(os.path.join(test_path, img_path), 1)\n",
        "    img_color = cv2.resize(img_color, (ROWS, COLS), interpolation=cv2.INTER_CUBIC)\n",
        "    img = cv2.cvtColor(img_color, cv2.COLOR_BGR2GRAY)\n",
        "    \n",
        "    test[i] = img\n",
        "    test_color[i] = img_color"
      ],
      "execution_count": null,
      "outputs": []
    },
    {
      "cell_type": "code",
      "metadata": {
        "id": "dfdaxdAD9eXF"
      },
      "source": [
        "from keras.utils import np_utils\n",
        "\n",
        "X_train = train_color / 255\n",
        "X_valid = valid_color / 255\n",
        "X_test  = test_color  / 255\n",
        "\n",
        "y_train = np_utils.to_categorical(labels)\n",
        "y_valid = np_utils.to_categorical(valid_labels)\n",
        "num_classes = y_valid.shape[1]"
      ],
      "execution_count": null,
      "outputs": []
    },
    {
      "cell_type": "markdown",
      "metadata": {
        "id": "S2w1EA1jR1NS"
      },
      "source": [
        "# **Model & Evaluate**"
      ]
    },
    {
      "cell_type": "markdown",
      "metadata": {
        "id": "WWKZcaB6FJ_p"
      },
      "source": [
        "Model 1"
      ]
    },
    {
      "cell_type": "code",
      "metadata": {
        "id": "hyFwNFt29wYT"
      },
      "source": [
        "def model1 ():\n",
        "  \n",
        "\tmodel = Sequential()\n",
        "\tmodel.add(Convolution2D(30, 5, 5, padding=\"same\", input_shape=(64, 64, 3), activation='relu'))\n",
        "\tmodel.add(MaxPooling2D(pool_size=(2, 2)))\n",
        "\tmodel.add(Convolution2D(15, 3, 3, activation='relu'))\n",
        "\tmodel.add(MaxPooling2D(pool_size=(2, 2)))\n",
        "\tmodel.add(Dropout(0.2))\n",
        "\tmodel.add(Flatten())\n",
        "\tmodel.add(Dense(128, activation='relu'))\n",
        "\tmodel.add(Dense(50, activation='relu'))\n",
        "\tmodel.add(Dense(num_classes, activation='softmax'))\n",
        " \n",
        "\tmodel.compile(loss='categorical_crossentropy', optimizer='adam', metrics=['accuracy'])\n",
        "\treturn model"
      ],
      "execution_count": null,
      "outputs": []
    },
    {
      "cell_type": "code",
      "metadata": {
        "colab": {
          "base_uri": "https://localhost:8080/"
        },
        "id": "gXdcdkfnAd7E",
        "outputId": "872632e6-6344-4e78-ec0f-89268d5f1a61"
      },
      "source": [
        "model1 = model1()\n",
        "history = model1.fit(X_train, y_train, validation_data=(X_valid, y_valid),epochs=20)\n",
        "scores = model1.evaluate(X_valid, y_valid)"
      ],
      "execution_count": null,
      "outputs": [
        {
          "output_type": "stream",
          "text": [
            "Epoch 1/20\n",
            "50/50 [==============================] - 2s 19ms/step - loss: 0.6945 - accuracy: 0.5104 - val_loss: 0.6921 - val_accuracy: 0.5100\n",
            "Epoch 2/20\n",
            "50/50 [==============================] - 1s 10ms/step - loss: 0.6924 - accuracy: 0.5296 - val_loss: 0.6893 - val_accuracy: 0.5500\n",
            "Epoch 3/20\n",
            "50/50 [==============================] - 1s 11ms/step - loss: 0.6929 - accuracy: 0.5121 - val_loss: 0.6932 - val_accuracy: 0.5000\n",
            "Epoch 4/20\n",
            "50/50 [==============================] - 1s 11ms/step - loss: 0.6903 - accuracy: 0.5349 - val_loss: 0.6876 - val_accuracy: 0.5425\n",
            "Epoch 5/20\n",
            "50/50 [==============================] - 1s 11ms/step - loss: 0.6835 - accuracy: 0.5298 - val_loss: 0.6734 - val_accuracy: 0.6075\n",
            "Epoch 6/20\n",
            "50/50 [==============================] - 1s 11ms/step - loss: 0.6797 - accuracy: 0.5599 - val_loss: 0.6705 - val_accuracy: 0.5825\n",
            "Epoch 7/20\n",
            "50/50 [==============================] - 1s 11ms/step - loss: 0.6652 - accuracy: 0.5917 - val_loss: 0.6657 - val_accuracy: 0.6125\n",
            "Epoch 8/20\n",
            "50/50 [==============================] - 1s 10ms/step - loss: 0.6664 - accuracy: 0.5787 - val_loss: 0.6609 - val_accuracy: 0.6075\n",
            "Epoch 9/20\n",
            "50/50 [==============================] - 1s 10ms/step - loss: 0.6454 - accuracy: 0.6437 - val_loss: 0.6456 - val_accuracy: 0.6175\n",
            "Epoch 10/20\n",
            "50/50 [==============================] - 1s 10ms/step - loss: 0.6291 - accuracy: 0.6522 - val_loss: 0.6448 - val_accuracy: 0.6200\n",
            "Epoch 11/20\n",
            "50/50 [==============================] - 1s 11ms/step - loss: 0.6169 - accuracy: 0.6672 - val_loss: 0.7383 - val_accuracy: 0.5250\n",
            "Epoch 12/20\n",
            "50/50 [==============================] - 1s 10ms/step - loss: 0.6339 - accuracy: 0.6334 - val_loss: 0.6672 - val_accuracy: 0.6275\n",
            "Epoch 13/20\n",
            "50/50 [==============================] - 1s 11ms/step - loss: 0.6302 - accuracy: 0.6367 - val_loss: 0.6386 - val_accuracy: 0.6400\n",
            "Epoch 14/20\n",
            "50/50 [==============================] - 1s 10ms/step - loss: 0.6104 - accuracy: 0.6483 - val_loss: 0.6418 - val_accuracy: 0.6425\n",
            "Epoch 15/20\n",
            "50/50 [==============================] - 1s 10ms/step - loss: 0.5622 - accuracy: 0.7212 - val_loss: 0.6538 - val_accuracy: 0.6200\n",
            "Epoch 16/20\n",
            "50/50 [==============================] - 1s 11ms/step - loss: 0.5878 - accuracy: 0.6722 - val_loss: 0.6418 - val_accuracy: 0.6325\n",
            "Epoch 17/20\n",
            "50/50 [==============================] - 1s 10ms/step - loss: 0.5409 - accuracy: 0.7244 - val_loss: 0.7021 - val_accuracy: 0.6100\n",
            "Epoch 18/20\n",
            "50/50 [==============================] - 1s 11ms/step - loss: 0.5826 - accuracy: 0.6734 - val_loss: 0.6535 - val_accuracy: 0.6300\n",
            "Epoch 19/20\n",
            "50/50 [==============================] - 1s 11ms/step - loss: 0.5480 - accuracy: 0.7104 - val_loss: 0.6728 - val_accuracy: 0.6150\n",
            "Epoch 20/20\n",
            "50/50 [==============================] - 1s 11ms/step - loss: 0.5146 - accuracy: 0.7477 - val_loss: 0.6805 - val_accuracy: 0.6100\n",
            "13/13 [==============================] - 0s 4ms/step - loss: 0.6805 - accuracy: 0.6100\n"
          ],
          "name": "stdout"
        }
      ]
    },
    {
      "cell_type": "code",
      "metadata": {
        "colab": {
          "base_uri": "https://localhost:8080/"
        },
        "id": "pi6YeeAhDf4-",
        "outputId": "59b5d426-e88a-44ca-fc4e-2777d4e05214"
      },
      "source": [
        "scores1 = model1.evaluate(X_valid, y_valid, verbose=0)\n",
        "print(\"Classification Error: %.2f%%\" % (100-scores1[1]*100))"
      ],
      "execution_count": null,
      "outputs": [
        {
          "output_type": "stream",
          "text": [
            "Classification Error: 39.00%\n"
          ],
          "name": "stdout"
        }
      ]
    },
    {
      "cell_type": "markdown",
      "metadata": {
        "id": "vy7k2XdDFMwL"
      },
      "source": [
        "Model 2"
      ]
    },
    {
      "cell_type": "code",
      "metadata": {
        "id": "Z2nZK8LrKARi"
      },
      "source": [
        "def model2 ():\n",
        "  \n",
        "\tmodel = Sequential()\n",
        "\tmodel.add(Convolution2D(30, 5, 5, padding=\"same\", input_shape=(64, 64, 3), activation='relu'))\n",
        "\tmodel.add(MaxPooling2D(pool_size=(2, 2)))\n",
        "\tmodel.add(Convolution2D(15, 3, 3, activation='relu'))\n",
        "\tmodel.add(MaxPooling2D(pool_size=(2, 2)))\n",
        "\tmodel.add(Dropout(0.2))\n",
        "\tmodel.add(Flatten())\n",
        "\tmodel.add(Dense(128, activation='relu'))\n",
        "\tmodel.add(Dense(50, activation='relu'))\n",
        "\tmodel.add(Dense(num_classes, activation='sigmoid'))\n",
        " \n",
        "\tmodel.compile(loss='binary_crossentropy', optimizer = 'adam', metrics = ['accuracy']) \n",
        "\treturn model"
      ],
      "execution_count": null,
      "outputs": []
    },
    {
      "cell_type": "code",
      "metadata": {
        "colab": {
          "base_uri": "https://localhost:8080/"
        },
        "id": "xEraJPbDMtem",
        "outputId": "badd4068-b7be-4809-cb24-c95ca8ae08e2"
      },
      "source": [
        "model2 = model2()\n",
        "history2 = model2.fit(X_train, y_train, validation_data=(X_valid, y_valid),epochs=20)\n",
        "scores = model2.evaluate(X_valid, y_valid)"
      ],
      "execution_count": null,
      "outputs": [
        {
          "output_type": "stream",
          "text": [
            "Epoch 1/20\n",
            "50/50 [==============================] - 1s 14ms/step - loss: 0.6946 - accuracy: 0.4942 - val_loss: 0.6930 - val_accuracy: 0.5000\n",
            "Epoch 2/20\n",
            "50/50 [==============================] - 1s 11ms/step - loss: 0.6928 - accuracy: 0.5173 - val_loss: 0.6918 - val_accuracy: 0.5375\n",
            "Epoch 3/20\n",
            "50/50 [==============================] - 1s 11ms/step - loss: 0.6921 - accuracy: 0.5246 - val_loss: 0.6928 - val_accuracy: 0.5100\n",
            "Epoch 4/20\n",
            "50/50 [==============================] - 1s 11ms/step - loss: 0.6922 - accuracy: 0.5123 - val_loss: 0.6911 - val_accuracy: 0.5475\n",
            "Epoch 5/20\n",
            "50/50 [==============================] - 1s 11ms/step - loss: 0.6933 - accuracy: 0.4964 - val_loss: 0.6914 - val_accuracy: 0.5275\n",
            "Epoch 6/20\n",
            "50/50 [==============================] - 1s 11ms/step - loss: 0.6923 - accuracy: 0.5196 - val_loss: 0.6901 - val_accuracy: 0.5525\n",
            "Epoch 7/20\n",
            "50/50 [==============================] - 1s 11ms/step - loss: 0.6896 - accuracy: 0.5400 - val_loss: 0.6935 - val_accuracy: 0.5000\n",
            "Epoch 8/20\n",
            "50/50 [==============================] - 1s 11ms/step - loss: 0.6927 - accuracy: 0.5157 - val_loss: 0.6926 - val_accuracy: 0.5425\n",
            "Epoch 9/20\n",
            "50/50 [==============================] - 1s 11ms/step - loss: 0.6927 - accuracy: 0.5169 - val_loss: 0.6925 - val_accuracy: 0.5275\n",
            "Epoch 10/20\n",
            "50/50 [==============================] - 1s 11ms/step - loss: 0.6925 - accuracy: 0.5087 - val_loss: 0.6921 - val_accuracy: 0.5000\n",
            "Epoch 11/20\n",
            "50/50 [==============================] - 1s 11ms/step - loss: 0.6907 - accuracy: 0.4978 - val_loss: 0.6921 - val_accuracy: 0.5100\n",
            "Epoch 12/20\n",
            "50/50 [==============================] - 1s 11ms/step - loss: 0.6888 - accuracy: 0.5484 - val_loss: 0.6863 - val_accuracy: 0.5925\n",
            "Epoch 13/20\n",
            "50/50 [==============================] - 1s 11ms/step - loss: 0.6897 - accuracy: 0.5067 - val_loss: 0.6892 - val_accuracy: 0.5350\n",
            "Epoch 14/20\n",
            "50/50 [==============================] - 1s 11ms/step - loss: 0.6865 - accuracy: 0.5404 - val_loss: 0.6932 - val_accuracy: 0.5025\n",
            "Epoch 15/20\n",
            "50/50 [==============================] - 1s 11ms/step - loss: 0.6922 - accuracy: 0.5164 - val_loss: 0.6875 - val_accuracy: 0.5475\n",
            "Epoch 16/20\n",
            "50/50 [==============================] - 1s 11ms/step - loss: 0.6842 - accuracy: 0.5581 - val_loss: 0.6827 - val_accuracy: 0.5800\n",
            "Epoch 17/20\n",
            "50/50 [==============================] - 1s 11ms/step - loss: 0.6788 - accuracy: 0.5794 - val_loss: 0.6908 - val_accuracy: 0.5275\n",
            "Epoch 18/20\n",
            "50/50 [==============================] - 1s 11ms/step - loss: 0.6801 - accuracy: 0.5625 - val_loss: 0.6791 - val_accuracy: 0.5700\n",
            "Epoch 19/20\n",
            "50/50 [==============================] - 1s 11ms/step - loss: 0.6823 - accuracy: 0.5622 - val_loss: 0.6788 - val_accuracy: 0.5950\n",
            "Epoch 20/20\n",
            "50/50 [==============================] - 1s 11ms/step - loss: 0.6735 - accuracy: 0.5741 - val_loss: 0.6696 - val_accuracy: 0.6025\n",
            "13/13 [==============================] - 0s 5ms/step - loss: 0.6696 - accuracy: 0.6025\n"
          ],
          "name": "stdout"
        }
      ]
    },
    {
      "cell_type": "code",
      "metadata": {
        "colab": {
          "base_uri": "https://localhost:8080/"
        },
        "id": "7Mp-TA4pNEEv",
        "outputId": "8884311c-3e3e-4458-b7fb-c0058986c5ed"
      },
      "source": [
        "scores2 = model2.evaluate(X_valid, y_valid, verbose=0)\n",
        "print(\"Classification Error: %.2f%%\" % (100-scores2[1]*100))"
      ],
      "execution_count": null,
      "outputs": [
        {
          "output_type": "stream",
          "text": [
            "Classification Error: 39.75%\n"
          ],
          "name": "stdout"
        }
      ]
    },
    {
      "cell_type": "markdown",
      "metadata": {
        "id": "MM1eJfOHNZ-c"
      },
      "source": [
        "Model 3"
      ]
    },
    {
      "cell_type": "code",
      "metadata": {
        "id": "J7kuwLFpNM0Z"
      },
      "source": [
        "def model3 ():\n",
        "  \n",
        "\tmodel = Sequential()\n",
        "\tmodel.add(Convolution2D(30, 5, 5, padding=\"same\", input_shape=(64, 64, 3), activation='relu'))\n",
        "\tmodel.add(MaxPooling2D(pool_size=(2, 2)))\n",
        "\tmodel.add(Convolution2D(15, 3, 3, activation='relu'))\n",
        "\tmodel.add(MaxPooling2D(pool_size=(2, 2)))\n",
        "\tmodel.add(Dropout(0.2))\n",
        "\tmodel.add(Flatten())\n",
        "\tmodel.add(Dense(128, activation='relu'))\n",
        "\tmodel.add(Dense(50, activation='relu'))\n",
        "\tmodel.add(Dense(num_classes, activation='softmax'))\n",
        " \n",
        "\tmodel.compile(loss='binary_crossentropy', optimizer = keras.optimizers.SGD(lr=0.2, momentum=0.9, decay=0.01), metrics = ['accuracy']) \n",
        "\treturn model"
      ],
      "execution_count": null,
      "outputs": []
    },
    {
      "cell_type": "code",
      "metadata": {
        "colab": {
          "base_uri": "https://localhost:8080/"
        },
        "id": "4Ague30QNcVc",
        "outputId": "04d27dee-1780-4878-873b-37da4f5f32af"
      },
      "source": [
        "model3 = model3()\n",
        "history3 = model3.fit(X_train, y_train, validation_data=(X_valid, y_valid),epochs=20)\n",
        "scores3 = model3.evaluate(X_valid, y_valid)"
      ],
      "execution_count": null,
      "outputs": [
        {
          "output_type": "stream",
          "text": [
            "Epoch 1/20\n",
            "50/50 [==============================] - 1s 14ms/step - loss: 0.6982 - accuracy: 0.5018 - val_loss: 0.6932 - val_accuracy: 0.5000\n",
            "Epoch 2/20\n",
            "50/50 [==============================] - 1s 11ms/step - loss: 0.6944 - accuracy: 0.4851 - val_loss: 0.6931 - val_accuracy: 0.5050\n",
            "Epoch 3/20\n",
            "50/50 [==============================] - 1s 10ms/step - loss: 0.6943 - accuracy: 0.4698 - val_loss: 0.6932 - val_accuracy: 0.5000\n",
            "Epoch 4/20\n",
            "50/50 [==============================] - 1s 10ms/step - loss: 0.6934 - accuracy: 0.4971 - val_loss: 0.6931 - val_accuracy: 0.5025\n",
            "Epoch 5/20\n",
            "50/50 [==============================] - 1s 10ms/step - loss: 0.6942 - accuracy: 0.5078 - val_loss: 0.6931 - val_accuracy: 0.5000\n",
            "Epoch 6/20\n",
            "50/50 [==============================] - 1s 10ms/step - loss: 0.6933 - accuracy: 0.5059 - val_loss: 0.6930 - val_accuracy: 0.5000\n",
            "Epoch 7/20\n",
            "50/50 [==============================] - 1s 10ms/step - loss: 0.6932 - accuracy: 0.4943 - val_loss: 0.6928 - val_accuracy: 0.5625\n",
            "Epoch 8/20\n",
            "50/50 [==============================] - 1s 11ms/step - loss: 0.6930 - accuracy: 0.4969 - val_loss: 0.6927 - val_accuracy: 0.5025\n",
            "Epoch 9/20\n",
            "50/50 [==============================] - 1s 10ms/step - loss: 0.6931 - accuracy: 0.5087 - val_loss: 0.6915 - val_accuracy: 0.5500\n",
            "Epoch 10/20\n",
            "50/50 [==============================] - 1s 11ms/step - loss: 0.6925 - accuracy: 0.5410 - val_loss: 0.6906 - val_accuracy: 0.5050\n",
            "Epoch 11/20\n",
            "50/50 [==============================] - 1s 10ms/step - loss: 0.6912 - accuracy: 0.5203 - val_loss: 0.6913 - val_accuracy: 0.5300\n",
            "Epoch 12/20\n",
            "50/50 [==============================] - 1s 11ms/step - loss: 0.6905 - accuracy: 0.5241 - val_loss: 0.6938 - val_accuracy: 0.5025\n",
            "Epoch 13/20\n",
            "50/50 [==============================] - 1s 10ms/step - loss: 0.6927 - accuracy: 0.5165 - val_loss: 0.6907 - val_accuracy: 0.5550\n",
            "Epoch 14/20\n",
            "50/50 [==============================] - 1s 11ms/step - loss: 0.6880 - accuracy: 0.5476 - val_loss: 0.6834 - val_accuracy: 0.5675\n",
            "Epoch 15/20\n",
            "50/50 [==============================] - 1s 10ms/step - loss: 0.6859 - accuracy: 0.5604 - val_loss: 0.6950 - val_accuracy: 0.5200\n",
            "Epoch 16/20\n",
            "50/50 [==============================] - 1s 10ms/step - loss: 0.6912 - accuracy: 0.5478 - val_loss: 0.6905 - val_accuracy: 0.5450\n",
            "Epoch 17/20\n",
            "50/50 [==============================] - 1s 11ms/step - loss: 0.6879 - accuracy: 0.5428 - val_loss: 0.6805 - val_accuracy: 0.5850\n",
            "Epoch 18/20\n",
            "50/50 [==============================] - 1s 10ms/step - loss: 0.6877 - accuracy: 0.5563 - val_loss: 0.6815 - val_accuracy: 0.5775\n",
            "Epoch 19/20\n",
            "50/50 [==============================] - 1s 10ms/step - loss: 0.6858 - accuracy: 0.5620 - val_loss: 0.6906 - val_accuracy: 0.5100\n",
            "Epoch 20/20\n",
            "50/50 [==============================] - 1s 10ms/step - loss: 0.6952 - accuracy: 0.5336 - val_loss: 0.6796 - val_accuracy: 0.5700\n",
            "13/13 [==============================] - 0s 4ms/step - loss: 0.6796 - accuracy: 0.5700\n"
          ],
          "name": "stdout"
        }
      ]
    },
    {
      "cell_type": "code",
      "metadata": {
        "colab": {
          "base_uri": "https://localhost:8080/"
        },
        "id": "4FDIuB51PsC7",
        "outputId": "4719f67d-aa68-453d-ee81-615143d86b90"
      },
      "source": [
        "scores3 = model3.evaluate(X_valid, y_valid, verbose=0)\n",
        "print(\"Classification Error: %.2f%%\" % (100-scores3[1]*100))"
      ],
      "execution_count": null,
      "outputs": [
        {
          "output_type": "stream",
          "text": [
            "Classification Error: 43.00%\n"
          ],
          "name": "stdout"
        }
      ]
    },
    {
      "cell_type": "markdown",
      "metadata": {
        "id": "tcotEXP4P7rV"
      },
      "source": [
        "Model 4"
      ]
    },
    {
      "cell_type": "code",
      "metadata": {
        "id": "UoH2shQ5P8h9"
      },
      "source": [
        "def model4 ():\n",
        "  \n",
        "\tmodel = Sequential()\n",
        "\tmodel.add(Convolution2D(30, 5, 5, padding=\"same\", input_shape=(64, 64, 3), activation='relu'))\n",
        "\tmodel.add(MaxPooling2D(pool_size=(2, 2)))\n",
        "\tmodel.add(Convolution2D(15, 3, 3, activation='relu'))\n",
        "\tmodel.add(MaxPooling2D(pool_size=(2, 2)))\n",
        "\tmodel.add(Dropout(0.5))\n",
        "\tmodel.add(Flatten())\n",
        "\tmodel.add(Dense(128, activation='relu'))\n",
        "\tmodel.add(Dense(50, activation='relu'))\n",
        "\tmodel.add(Dense(num_classes, activation='softmax'))\n",
        " \n",
        "\tmodel.compile(loss='binary_crossentropy', optimizer = keras.optimizers.SGD(lr=0.2, momentum=0.9, decay=0.01), metrics = ['accuracy']) \n",
        "\treturn model"
      ],
      "execution_count": null,
      "outputs": []
    },
    {
      "cell_type": "code",
      "metadata": {
        "colab": {
          "base_uri": "https://localhost:8080/"
        },
        "id": "zZzjW-VQQ4H0",
        "outputId": "8f75fa09-6cd5-4d3d-88d9-bd962e6ec022"
      },
      "source": [
        "model4 = model4()\n",
        "history4 = model4.fit(X_train, y_train, validation_data=(X_valid, y_valid),epochs=20)\n",
        "scores4 = model4.evaluate(X_valid, y_valid)"
      ],
      "execution_count": null,
      "outputs": [
        {
          "output_type": "stream",
          "text": [
            "Epoch 1/20\n",
            "50/50 [==============================] - 1s 14ms/step - loss: 0.6962 - accuracy: 0.4869 - val_loss: 0.6985 - val_accuracy: 0.5000\n",
            "Epoch 2/20\n",
            "50/50 [==============================] - 1s 10ms/step - loss: 0.6980 - accuracy: 0.4810 - val_loss: 0.6931 - val_accuracy: 0.5000\n",
            "Epoch 3/20\n",
            "50/50 [==============================] - 1s 10ms/step - loss: 0.6939 - accuracy: 0.4609 - val_loss: 0.6931 - val_accuracy: 0.5000\n",
            "Epoch 4/20\n",
            "50/50 [==============================] - 1s 10ms/step - loss: 0.6934 - accuracy: 0.4987 - val_loss: 0.6932 - val_accuracy: 0.5000\n",
            "Epoch 5/20\n",
            "50/50 [==============================] - 1s 10ms/step - loss: 0.6936 - accuracy: 0.4839 - val_loss: 0.6934 - val_accuracy: 0.5000\n",
            "Epoch 6/20\n",
            "50/50 [==============================] - 1s 11ms/step - loss: 0.6943 - accuracy: 0.4677 - val_loss: 0.6930 - val_accuracy: 0.5000\n",
            "Epoch 7/20\n",
            "50/50 [==============================] - 1s 10ms/step - loss: 0.6928 - accuracy: 0.5096 - val_loss: 0.6922 - val_accuracy: 0.5325\n",
            "Epoch 8/20\n",
            "50/50 [==============================] - 1s 11ms/step - loss: 0.6934 - accuracy: 0.4942 - val_loss: 0.6935 - val_accuracy: 0.5000\n",
            "Epoch 9/20\n",
            "50/50 [==============================] - 1s 10ms/step - loss: 0.6942 - accuracy: 0.4871 - val_loss: 0.6931 - val_accuracy: 0.5000\n",
            "Epoch 10/20\n",
            "50/50 [==============================] - 1s 10ms/step - loss: 0.6931 - accuracy: 0.5162 - val_loss: 0.6932 - val_accuracy: 0.5000\n",
            "Epoch 11/20\n",
            "50/50 [==============================] - 1s 11ms/step - loss: 0.6936 - accuracy: 0.4738 - val_loss: 0.6932 - val_accuracy: 0.5000\n",
            "Epoch 12/20\n",
            "50/50 [==============================] - 1s 10ms/step - loss: 0.6925 - accuracy: 0.5183 - val_loss: 0.6915 - val_accuracy: 0.5325\n",
            "Epoch 13/20\n",
            "50/50 [==============================] - 1s 10ms/step - loss: 0.6919 - accuracy: 0.5334 - val_loss: 0.6913 - val_accuracy: 0.5500\n",
            "Epoch 14/20\n",
            "50/50 [==============================] - 1s 10ms/step - loss: 0.6908 - accuracy: 0.5535 - val_loss: 0.6889 - val_accuracy: 0.5625\n",
            "Epoch 15/20\n",
            "50/50 [==============================] - 1s 11ms/step - loss: 0.6920 - accuracy: 0.5177 - val_loss: 0.6894 - val_accuracy: 0.5375\n",
            "Epoch 16/20\n",
            "50/50 [==============================] - 1s 10ms/step - loss: 0.6881 - accuracy: 0.5502 - val_loss: 0.6914 - val_accuracy: 0.5100\n",
            "Epoch 17/20\n",
            "50/50 [==============================] - 1s 11ms/step - loss: 0.6902 - accuracy: 0.5359 - val_loss: 0.6848 - val_accuracy: 0.5700\n",
            "Epoch 18/20\n",
            "50/50 [==============================] - 1s 11ms/step - loss: 0.6875 - accuracy: 0.5478 - val_loss: 0.6853 - val_accuracy: 0.5750\n",
            "Epoch 19/20\n",
            "50/50 [==============================] - 1s 11ms/step - loss: 0.6858 - accuracy: 0.5520 - val_loss: 0.6832 - val_accuracy: 0.5675\n",
            "Epoch 20/20\n",
            "50/50 [==============================] - 1s 11ms/step - loss: 0.6908 - accuracy: 0.5266 - val_loss: 0.6854 - val_accuracy: 0.5675\n",
            "13/13 [==============================] - 0s 5ms/step - loss: 0.6854 - accuracy: 0.5675\n"
          ],
          "name": "stdout"
        }
      ]
    },
    {
      "cell_type": "code",
      "metadata": {
        "colab": {
          "base_uri": "https://localhost:8080/"
        },
        "id": "Bh40yq0kQvkW",
        "outputId": "d0b9ee33-50a0-4876-bdbe-3941a13ae0be"
      },
      "source": [
        "scores4 = model4.evaluate(X_valid, y_valid, verbose=0)\n",
        "print(\"Classification Error: %.2f%%\" % (100-scores4[1]*100))"
      ],
      "execution_count": null,
      "outputs": [
        {
          "output_type": "stream",
          "text": [
            "Classification Error: 43.25%\n"
          ],
          "name": "stdout"
        }
      ]
    },
    {
      "cell_type": "markdown",
      "metadata": {
        "id": "rVh6YS8gR3jt"
      },
      "source": [
        "# **Conclusion**"
      ]
    },
    {
      "cell_type": "markdown",
      "metadata": {
        "id": "ZeQ2Gmy0SscU"
      },
      "source": [
        "Four models have been created and trained with various optimizers, activation functions, and droupout rates, while epoch is set up 30 for all of them. However, the highest accuracy rate is only 60.25%. It seems like more researches are needed to achieve higher accuracy. "
      ]
    }
  ]
}