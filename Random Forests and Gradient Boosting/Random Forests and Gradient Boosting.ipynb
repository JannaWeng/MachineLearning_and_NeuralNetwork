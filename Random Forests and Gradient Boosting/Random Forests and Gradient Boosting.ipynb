{
  "nbformat": 4,
  "nbformat_minor": 0,
  "metadata": {
    "colab": {
      "name": "Assignment04_Weng.ipynb",
      "provenance": [],
      "collapsed_sections": []
    },
    "kernelspec": {
      "name": "python3",
      "display_name": "Python 3"
    }
  },
  "cells": [
    {
      "cell_type": "markdown",
      "metadata": {
        "id": "ZFy2VfiHRQF5"
      },
      "source": [
        "#**Ingest & EDA**"
      ]
    },
    {
      "cell_type": "code",
      "metadata": {
        "colab": {
          "base_uri": "https://localhost:8080/"
        },
        "id": "DR2q1d4sR2_c",
        "outputId": "78ee53a8-e341-425e-a220-124854c84f89"
      },
      "source": [
        "import numpy as np\n",
        "import pandas as pd\n",
        "from google.colab import drive \n",
        "\n",
        "drive.mount('/content/gdrive')\n",
        "boston=pd.read_csv('gdrive/My Drive/boston.csv') \n",
        "print(boston.shape)"
      ],
      "execution_count": null,
      "outputs": [
        {
          "output_type": "stream",
          "text": [
            "Drive already mounted at /content/gdrive; to attempt to forcibly remount, call drive.mount(\"/content/gdrive\", force_remount=True).\n",
            "(506, 14)\n"
          ],
          "name": "stdout"
        }
      ]
    },
    {
      "cell_type": "code",
      "metadata": {
        "colab": {
          "base_uri": "https://localhost:8080/"
        },
        "id": "Q9OHQ989SW99",
        "outputId": "aa048bfc-b482-44b2-bc91-c1934cd2ac05"
      },
      "source": [
        "boston.dropna()\n",
        "print(boston.shape)"
      ],
      "execution_count": null,
      "outputs": [
        {
          "output_type": "stream",
          "text": [
            "(506, 14)\n"
          ],
          "name": "stdout"
        }
      ]
    },
    {
      "cell_type": "code",
      "metadata": {
        "colab": {
          "base_uri": "https://localhost:8080/"
        },
        "id": "f6zRuRX5SdrB",
        "outputId": "3513aea2-4c61-423e-edb0-4a05f67bc96c"
      },
      "source": [
        "list(boston.columns.values)"
      ],
      "execution_count": null,
      "outputs": [
        {
          "output_type": "execute_result",
          "data": {
            "text/plain": [
              "['neighborhood',\n",
              " 'crim',\n",
              " 'zn',\n",
              " 'indus',\n",
              " 'chas',\n",
              " 'nox',\n",
              " 'rooms',\n",
              " 'age',\n",
              " 'dis',\n",
              " 'rad',\n",
              " 'tax',\n",
              " 'ptratio',\n",
              " 'lstat',\n",
              " 'mv']"
            ]
          },
          "metadata": {
            "tags": []
          },
          "execution_count": 3
        }
      ]
    },
    {
      "cell_type": "code",
      "metadata": {
        "colab": {
          "base_uri": "https://localhost:8080/",
          "height": 171
        },
        "id": "0q4FdRSCShcI",
        "outputId": "c6c6795e-edc3-433d-aa88-5dad8095cdd1"
      },
      "source": [
        "boston.head()"
      ],
      "execution_count": null,
      "outputs": [
        {
          "output_type": "error",
          "ename": "NameError",
          "evalue": "ignored",
          "traceback": [
            "\u001b[0;31m---------------------------------------------------------------------------\u001b[0m",
            "\u001b[0;31mNameError\u001b[0m                                 Traceback (most recent call last)",
            "\u001b[0;32m<ipython-input-1-1de50cbffc6e>\u001b[0m in \u001b[0;36m<module>\u001b[0;34m()\u001b[0m\n\u001b[0;32m----> 1\u001b[0;31m \u001b[0mboston\u001b[0m\u001b[0;34m.\u001b[0m\u001b[0mhead\u001b[0m\u001b[0;34m(\u001b[0m\u001b[0;34m)\u001b[0m\u001b[0;34m\u001b[0m\u001b[0;34m\u001b[0m\u001b[0m\n\u001b[0m",
            "\u001b[0;31mNameError\u001b[0m: name 'boston' is not defined"
          ]
        }
      ]
    },
    {
      "cell_type": "code",
      "metadata": {
        "id": "T9D5H-FQSnX7"
      },
      "source": [
        "x=boston[['crim', 'zn', 'indus', 'chas', 'nox', 'rooms', 'age', 'dis', 'rad', 'tax', 'ptratio', 'lstat']]\n",
        "y=boston['mv']"
      ],
      "execution_count": null,
      "outputs": []
    },
    {
      "cell_type": "code",
      "metadata": {
        "id": "2WECITYTSm9O"
      },
      "source": [
        "from sklearn.model_selection import train_test_split\n",
        "x_train, x_test, y_train, y_test = train_test_split(\n",
        "     x, y, test_size=0.3, random_state=42)"
      ],
      "execution_count": null,
      "outputs": []
    },
    {
      "cell_type": "markdown",
      "metadata": {
        "id": "z-kpnr7ORT48"
      },
      "source": [
        "# **Model & Evaluate**"
      ]
    },
    {
      "cell_type": "markdown",
      "metadata": {
        "id": "76blX0ZCTMDx"
      },
      "source": [
        "**1. Linear Regressor and Evaluation**"
      ]
    },
    {
      "cell_type": "code",
      "metadata": {
        "id": "utDjcWEMTQ06"
      },
      "source": [
        "from sklearn.linear_model import LinearRegression\n",
        "lin_reg = LinearRegression()\n",
        "lin_reg.fit(x_train, y_train)\n",
        "y_predict1=lin_reg.predict(x_test)"
      ],
      "execution_count": null,
      "outputs": []
    },
    {
      "cell_type": "code",
      "metadata": {
        "colab": {
          "base_uri": "https://localhost:8080/"
        },
        "id": "FuRNr79zV9nW",
        "outputId": "8765d4ba-4177-4778-d405-756f6ebdf2ef"
      },
      "source": [
        "from sklearn.model_selection import cross_val_score\n",
        "from numpy import mean\n",
        "from numpy import absolute\n",
        "from math import sqrt\n",
        "\n",
        "scores1 = cross_val_score(lin_reg, x_train, y_train, cv=8,scoring='neg_mean_squared_error')\n",
        "print(sqrt(mean(absolute(scores1))))"
      ],
      "execution_count": null,
      "outputs": [
        {
          "output_type": "stream",
          "text": [
            "4.998435050875095\n"
          ],
          "name": "stdout"
        }
      ]
    },
    {
      "cell_type": "code",
      "metadata": {
        "colab": {
          "base_uri": "https://localhost:8080/",
          "height": 483
        },
        "id": "6sS8vf1TGbmc",
        "outputId": "1fae6ed6-0cfe-48f0-caa9-eaca7f83b851"
      },
      "source": [
        "from matplotlib import pyplot\n",
        "\n",
        "importance1 = lin_reg.coef_\n",
        "for i,v in enumerate(importance1):\n",
        "\tprint('Feature: %0d, Score: %.5f' % (i,v))\n",
        "pyplot.bar([x for x in range(len(importance1))], importance1)\n",
        "pyplot.show()"
      ],
      "execution_count": null,
      "outputs": [
        {
          "output_type": "stream",
          "text": [
            "Feature: 0, Score: -0.13891\n",
            "Feature: 1, Score: 0.03823\n",
            "Feature: 2, Score: 0.03942\n",
            "Feature: 3, Score: 3.43730\n",
            "Feature: 4, Score: -15.65810\n",
            "Feature: 5, Score: 3.88533\n",
            "Feature: 6, Score: -0.00910\n",
            "Feature: 7, Score: -1.42029\n",
            "Feature: 8, Score: 0.21982\n",
            "Feature: 9, Score: -0.00978\n",
            "Feature: 10, Score: -0.84766\n",
            "Feature: 11, Score: -0.58138\n"
          ],
          "name": "stdout"
        },
        {
          "output_type": "display_data",
          "data": {
            "image/png": "[encoded data removed]",
            "text/plain": [
              "<Figure size 432x288 with 1 Axes>"
            ]
          },
          "metadata": {
            "tags": [],
            "needs_background": "light"
          }
        }
      ]
    },
    {
      "cell_type": "markdown",
      "metadata": {
        "id": "2V18F9qaWzBe"
      },
      "source": [
        "**2. Stochastic Gradient Descent Regressor and Evaluation**"
      ]
    },
    {
      "cell_type": "code",
      "metadata": {
        "id": "LYSamnG_W6Ht"
      },
      "source": [
        "from sklearn.linear_model import SGDRegressor\n",
        "sgd_reg = SGDRegressor(max_iter=1000, tol=1e-3, penalty=None, eta0=0.1)\n",
        "sgd_reg.fit(x_train, y_train)\n",
        "y_predict2=sgd_reg.predict(x_test)"
      ],
      "execution_count": null,
      "outputs": []
    },
    {
      "cell_type": "code",
      "metadata": {
        "colab": {
          "base_uri": "https://localhost:8080/"
        },
        "id": "iiS3w3S7XLOD",
        "outputId": "e27a92bc-f5f1-4b84-f12e-9efca8757a90"
      },
      "source": [
        "scores2 = cross_val_score(sgd_reg, x_train, y_train, cv=8,scoring='neg_mean_squared_error')\n",
        "print(sqrt(mean(absolute(scores2))))"
      ],
      "execution_count": null,
      "outputs": [
        {
          "output_type": "stream",
          "text": [
            "862319534474307.8\n"
          ],
          "name": "stdout"
        }
      ]
    },
    {
      "cell_type": "code",
      "metadata": {
        "colab": {
          "base_uri": "https://localhost:8080/",
          "height": 495
        },
        "id": "ibNNxmL6HFAk",
        "outputId": "d2405496-df1a-4085-c8d6-44e84cf47263"
      },
      "source": [
        "importance2 = sgd_reg.coef_\n",
        "for i,v in enumerate(importance2):\n",
        "\tprint('Feature: %0d, Score: %.5f' % (i,v))\n",
        "pyplot.bar([x for x in range(len(importance2))], importance2)\n",
        "pyplot.show()"
      ],
      "execution_count": null,
      "outputs": [
        {
          "output_type": "stream",
          "text": [
            "Feature: 0, Score: 975123855118.10632\n",
            "Feature: 1, Score: -3116163034769.74023\n",
            "Feature: 2, Score: -2386207946891.21973\n",
            "Feature: 3, Score: -786434233861.74548\n",
            "Feature: 4, Score: -114635976550.69482\n",
            "Feature: 5, Score: -1709210087127.92554\n",
            "Feature: 6, Score: -2312972029176.96777\n",
            "Feature: 7, Score: 1550179876800.26318\n",
            "Feature: 8, Score: -1070894300843.23682\n",
            "Feature: 9, Score: -2496368545538.45361\n",
            "Feature: 10, Score: -1290417039274.63330\n",
            "Feature: 11, Score: -35953983471.15944\n"
          ],
          "name": "stdout"
        },
        {
          "output_type": "display_data",
          "data": {
            "image/png": "[encoded data removed]",
            "text/plain": [
              "<Figure size 432x288 with 1 Axes>"
            ]
          },
          "metadata": {
            "tags": [],
            "needs_background": "light"
          }
        }
      ]
    },
    {
      "cell_type": "markdown",
      "metadata": {
        "id": "zPkFUqQ1YJhf"
      },
      "source": [
        "**3. Ridge Regressor and Evaluation**\n",
        "\n"
      ]
    },
    {
      "cell_type": "code",
      "metadata": {
        "id": "lV3ezwEfYIt5"
      },
      "source": [
        "from sklearn.linear_model import Ridge\n",
        "ridge_reg = Ridge(alpha=1, solver=\"cholesky\")\n",
        "ridge_reg.fit(x_train, y_train)\n",
        "y_predict3=ridge_reg.predict(x_test)"
      ],
      "execution_count": null,
      "outputs": []
    },
    {
      "cell_type": "code",
      "metadata": {
        "colab": {
          "base_uri": "https://localhost:8080/"
        },
        "id": "NA6UEm0iYa__",
        "outputId": "b3051b10-5f85-42a2-bf12-6348c0d07cd8"
      },
      "source": [
        "scores3 = cross_val_score(ridge_reg, x_train, y_train, cv=8,scoring='neg_mean_squared_error')\n",
        "print(sqrt(mean(absolute(scores3))))"
      ],
      "execution_count": null,
      "outputs": [
        {
          "output_type": "stream",
          "text": [
            "5.015463649791794\n"
          ],
          "name": "stdout"
        }
      ]
    },
    {
      "cell_type": "code",
      "metadata": {
        "colab": {
          "base_uri": "https://localhost:8080/",
          "height": 483
        },
        "id": "iHj5LUCqHN3m",
        "outputId": "c05e0bad-5109-46ac-edc6-fbfdfc4a2498"
      },
      "source": [
        "importance3 = ridge_reg.coef_\n",
        "for i,v in enumerate(importance3):\n",
        "\tprint('Feature: %0d, Score: %.5f' % (i,v))\n",
        "pyplot.bar([x for x in range(len(importance3))], importance3)\n",
        "pyplot.show()"
      ],
      "execution_count": null,
      "outputs": [
        {
          "output_type": "stream",
          "text": [
            "Feature: 0, Score: -0.13392\n",
            "Feature: 1, Score: 0.03939\n",
            "Feature: 2, Score: 0.00723\n",
            "Feature: 3, Score: 3.24077\n",
            "Feature: 4, Score: -7.97444\n",
            "Feature: 5, Score: 3.89192\n",
            "Feature: 6, Score: -0.01559\n",
            "Feature: 7, Score: -1.30422\n",
            "Feature: 8, Score: 0.20201\n",
            "Feature: 9, Score: -0.01048\n",
            "Feature: 10, Score: -0.76246\n",
            "Feature: 11, Score: -0.59837\n"
          ],
          "name": "stdout"
        },
        {
          "output_type": "display_data",
          "data": {
            "image/png": "[encoded data removed]",
            "text/plain": [
              "<Figure size 432x288 with 1 Axes>"
            ]
          },
          "metadata": {
            "tags": [],
            "needs_background": "light"
          }
        }
      ]
    },
    {
      "cell_type": "markdown",
      "metadata": {
        "id": "EairS2GrYgIy"
      },
      "source": [
        "**4. Lasso Regressor and Evaluation**"
      ]
    },
    {
      "cell_type": "code",
      "metadata": {
        "id": "WRdSGf5CYlSy"
      },
      "source": [
        "from sklearn.linear_model import Lasso\n",
        "lasso_reg = Lasso(alpha=0.1)\n",
        "lasso_reg.fit(x_train, y_train)\n",
        "y_predict4=lasso_reg.predict(x_test)"
      ],
      "execution_count": null,
      "outputs": []
    },
    {
      "cell_type": "code",
      "metadata": {
        "colab": {
          "base_uri": "https://localhost:8080/"
        },
        "id": "EX5gmVwkYz9i",
        "outputId": "b22cc4e8-9931-49a5-c337-e3e2aceae6cd"
      },
      "source": [
        "scores4 = cross_val_score(lasso_reg, x_train, y_train, cv=8,scoring='neg_mean_squared_error')\n",
        "print(sqrt(mean(absolute(scores4))))"
      ],
      "execution_count": null,
      "outputs": [
        {
          "output_type": "stream",
          "text": [
            "5.083674925949758\n"
          ],
          "name": "stdout"
        }
      ]
    },
    {
      "cell_type": "code",
      "metadata": {
        "colab": {
          "base_uri": "https://localhost:8080/",
          "height": 483
        },
        "id": "QDBFzhvTHidD",
        "outputId": "2f86a8a1-f99f-409c-a78a-9c32bd48bbd8"
      },
      "source": [
        "importance4 = lasso_reg.coef_\n",
        "for i,v in enumerate(importance4):\n",
        "\tprint('Feature: %0d, Score: %.5f' % (i,v))\n",
        "pyplot.bar([x for x in range(len(importance4))], importance4)\n",
        "pyplot.show()"
      ],
      "execution_count": null,
      "outputs": [
        {
          "output_type": "stream",
          "text": [
            "Feature: 0, Score: -0.12842\n",
            "Feature: 1, Score: 0.04111\n",
            "Feature: 2, Score: -0.01242\n",
            "Feature: 3, Score: 1.81667\n",
            "Feature: 4, Score: -0.00000\n",
            "Feature: 5, Score: 3.71525\n",
            "Feature: 6, Score: -0.01802\n",
            "Feature: 7, Score: -1.13593\n",
            "Feature: 8, Score: 0.19189\n",
            "Feature: 9, Score: -0.01171\n",
            "Feature: 10, Score: -0.67687\n",
            "Feature: 11, Score: -0.63838\n"
          ],
          "name": "stdout"
        },
        {
          "output_type": "display_data",
          "data": {
            "image/png": "[encoded data removed]",
            "text/plain": [
              "<Figure size 432x288 with 1 Axes>"
            ]
          },
          "metadata": {
            "tags": [],
            "needs_background": "light"
          }
        }
      ]
    },
    {
      "cell_type": "markdown",
      "metadata": {
        "id": "XUz8NV_gZISa"
      },
      "source": [
        "**5. Elastic Net Regressor and Evaluation**"
      ]
    },
    {
      "cell_type": "code",
      "metadata": {
        "id": "MxE4r3aDZMIi"
      },
      "source": [
        "from sklearn.linear_model import ElasticNet\n",
        "elastic_net_reg = ElasticNet(alpha=0.1, l1_ratio=0.5)\n",
        "elastic_net_reg.fit(x_train, y_train)\n",
        "y_predict5=elastic_net_reg.predict(x_test)"
      ],
      "execution_count": null,
      "outputs": []
    },
    {
      "cell_type": "code",
      "metadata": {
        "colab": {
          "base_uri": "https://localhost:8080/"
        },
        "id": "F4e7YWRzZVZ7",
        "outputId": "c3f702a6-996f-4447-c808-373230124789"
      },
      "source": [
        "scores5 = cross_val_score(elastic_net_reg, x_train, y_train, cv=8,scoring='neg_mean_squared_error')\n",
        "print(sqrt(mean(absolute(scores5))))"
      ],
      "execution_count": null,
      "outputs": [
        {
          "output_type": "stream",
          "text": [
            "5.084707053465774\n"
          ],
          "name": "stdout"
        }
      ]
    },
    {
      "cell_type": "code",
      "metadata": {
        "colab": {
          "base_uri": "https://localhost:8080/",
          "height": 483
        },
        "id": "7hAt_BadHmMd",
        "outputId": "e2d53e48-9893-48b9-ae20-47d8b8668b7e"
      },
      "source": [
        "importance5 = elastic_net_reg.coef_\n",
        "for i,v in enumerate(importance5):\n",
        "\tprint('Feature: %0d, Score: %.5f' % (i,v))\n",
        "pyplot.bar([x for x in range(len(importance5))], importance5)\n",
        "pyplot.show()"
      ],
      "execution_count": null,
      "outputs": [
        {
          "output_type": "stream",
          "text": [
            "Feature: 0, Score: -0.13202\n",
            "Feature: 1, Score: 0.04332\n",
            "Feature: 2, Score: -0.02065\n",
            "Feature: 3, Score: 1.47438\n",
            "Feature: 4, Score: -0.00000\n",
            "Feature: 5, Score: 3.29142\n",
            "Feature: 6, Score: -0.01517\n",
            "Feature: 7, Score: -1.15764\n",
            "Feature: 8, Score: 0.21062\n",
            "Feature: 9, Score: -0.01223\n",
            "Feature: 10, Score: -0.70410\n",
            "Feature: 11, Score: -0.66781\n"
          ],
          "name": "stdout"
        },
        {
          "output_type": "display_data",
          "data": {
            "image/png": "[encoded data removed]",
            "text/plain": [
              "<Figure size 432x288 with 1 Axes>"
            ]
          },
          "metadata": {
            "tags": [],
            "needs_background": "light"
          }
        }
      ]
    },
    {
      "cell_type": "markdown",
      "metadata": {
        "id": "_x2O5axXZjju"
      },
      "source": [
        "**6. Random Forest Regressor and Evaluation**"
      ]
    },
    {
      "cell_type": "code",
      "metadata": {
        "id": "tPeS0ei8Z1XH"
      },
      "source": [
        "from sklearn.ensemble import RandomForestRegressor\n",
        "rnd_reg = RandomForestRegressor(n_estimators=500, max_leaf_nodes=16, n_jobs=-1)\n",
        "rnd_reg.fit(x_train, y_train)\n",
        "y_predict6=rnd_reg.predict(x_test)"
      ],
      "execution_count": null,
      "outputs": []
    },
    {
      "cell_type": "code",
      "metadata": {
        "colab": {
          "base_uri": "https://localhost:8080/"
        },
        "id": "jPtMq1_oaE-T",
        "outputId": "088e80e7-5d31-4111-cdb5-c2f69e3b36f0"
      },
      "source": [
        "scores6 = cross_val_score(rnd_reg, x_train, y_train, cv=8,scoring='neg_mean_squared_error')\n",
        "print(sqrt(mean(absolute(scores6))))"
      ],
      "execution_count": null,
      "outputs": [
        {
          "output_type": "stream",
          "text": [
            "3.7863671127200775\n"
          ],
          "name": "stdout"
        }
      ]
    },
    {
      "cell_type": "code",
      "metadata": {
        "colab": {
          "base_uri": "https://localhost:8080/",
          "height": 483
        },
        "id": "EVG_N8mjH90O",
        "outputId": "af4385ef-55a9-4f30-a7ab-a9fff906762a"
      },
      "source": [
        "importance6 = rnd_reg.feature_importances_\n",
        "for i,v in enumerate(importance6):\n",
        "\tprint('Feature: %0d, Score: %.5f' % (i,v))\n",
        "pyplot.bar([x for x in range(len(importance6))], importance6)\n",
        "pyplot.show()"
      ],
      "execution_count": null,
      "outputs": [
        {
          "output_type": "stream",
          "text": [
            "Feature: 0, Score: 0.02725\n",
            "Feature: 1, Score: 0.00121\n",
            "Feature: 2, Score: 0.00308\n",
            "Feature: 3, Score: 0.00094\n",
            "Feature: 4, Score: 0.01065\n",
            "Feature: 5, Score: 0.43620\n",
            "Feature: 6, Score: 0.00753\n",
            "Feature: 7, Score: 0.05975\n",
            "Feature: 8, Score: 0.00239\n",
            "Feature: 9, Score: 0.00816\n",
            "Feature: 10, Score: 0.01379\n",
            "Feature: 11, Score: 0.42906\n"
          ],
          "name": "stdout"
        },
        {
          "output_type": "display_data",
          "data": {
            "image/png": "[encoded data removed]",
            "text/plain": [
              "<Figure size 432x288 with 1 Axes>"
            ]
          },
          "metadata": {
            "tags": [],
            "needs_background": "light"
          }
        }
      ]
    },
    {
      "cell_type": "markdown",
      "metadata": {
        "id": "t88ADQyBaMeX"
      },
      "source": [
        "**7. Gradient Boosting Regressor and Evaluation**"
      ]
    },
    {
      "cell_type": "code",
      "metadata": {
        "id": "j5A-2rQxafdN"
      },
      "source": [
        "from sklearn.ensemble import GradientBoostingRegressor\n",
        "gbrt_reg = GradientBoostingRegressor(max_depth=2, n_estimators=3, learning_rate=1.0)\n",
        "gbrt_reg.fit(x_train, y_train)\n",
        "y_predict7=gbrt_reg.predict(x_test)"
      ],
      "execution_count": null,
      "outputs": []
    },
    {
      "cell_type": "code",
      "metadata": {
        "colab": {
          "base_uri": "https://localhost:8080/"
        },
        "id": "hP3H6aidaL2a",
        "outputId": "75f0e66f-3ed4-4bf3-abf7-0b543ecc468b"
      },
      "source": [
        "scores7 = cross_val_score(gbrt_reg, x_train, y_train, cv=8,scoring='neg_mean_squared_error')\n",
        "print(sqrt(mean(absolute(scores7))))"
      ],
      "execution_count": null,
      "outputs": [
        {
          "output_type": "stream",
          "text": [
            "5.3959619085245\n"
          ],
          "name": "stdout"
        }
      ]
    },
    {
      "cell_type": "code",
      "metadata": {
        "colab": {
          "base_uri": "https://localhost:8080/",
          "height": 487
        },
        "id": "T_WAApwmIQ-8",
        "outputId": "04b3dfd7-22c1-4da5-cb62-ce22c94cf2ce"
      },
      "source": [
        "importance7 = gbrt_reg.feature_importances_\n",
        "for i,v in enumerate(importance7):\n",
        "\tprint('Feature: %0d, Score: %.5f' % (i,v))\n",
        "pyplot.bar([x for x in range(len(importance7))], importance7)\n",
        "pyplot.show()"
      ],
      "execution_count": null,
      "outputs": [
        {
          "output_type": "stream",
          "text": [
            "Feature: 0, Score: 0.03027\n",
            "Feature: 1, Score: 0.00000\n",
            "Feature: 2, Score: 0.00000\n",
            "Feature: 3, Score: 0.00000\n",
            "Feature: 4, Score: 0.00000\n",
            "Feature: 5, Score: 0.66712\n",
            "Feature: 6, Score: 0.00000\n",
            "Feature: 7, Score: 0.07762\n",
            "Feature: 8, Score: 0.00000\n",
            "Feature: 9, Score: 0.00000\n",
            "Feature: 10, Score: 0.00000\n",
            "Feature: 11, Score: 0.22499\n"
          ],
          "name": "stdout"
        },
        {
          "output_type": "display_data",
          "data": {
            "image/png": "[encoded data removed]",
            "text/plain": [
              "<Figure size 432x288 with 1 Axes>"
            ]
          },
          "metadata": {
            "tags": [],
            "needs_background": "light"
          }
        }
      ]
    },
    {
      "cell_type": "markdown",
      "metadata": {
        "id": "KkPnAIzWbJyJ"
      },
      "source": [
        "**8. XGBoost Regressor and Evaluation**"
      ]
    },
    {
      "cell_type": "code",
      "metadata": {
        "colab": {
          "base_uri": "https://localhost:8080/"
        },
        "id": "xVggHkoGbI-A",
        "outputId": "20b42963-f163-4da8-90a9-124f0c0f07f2"
      },
      "source": [
        "import xgboost\n",
        "xgb_reg = xgboost.XGBRegressor()\n",
        "xgb_reg.fit(x_train, y_train)\n",
        "y_predict8=xgb_reg.predict(x_test)"
      ],
      "execution_count": null,
      "outputs": [
        {
          "output_type": "stream",
          "text": [
            "[21:02:08] WARNING: /workspace/src/objective/regression_obj.cu:152: reg:linear is now deprecated in favor of reg:squarederror.\n"
          ],
          "name": "stdout"
        }
      ]
    },
    {
      "cell_type": "code",
      "metadata": {
        "colab": {
          "base_uri": "https://localhost:8080/"
        },
        "id": "ONwIkFIab0A9",
        "outputId": "bb94320a-8617-44f7-a31e-995617cb3e2c"
      },
      "source": [
        "scores8 = cross_val_score(xgb_reg, x_train, y_train, cv=8,scoring='neg_mean_squared_error')\n",
        "print(sqrt(mean(absolute(scores8))))"
      ],
      "execution_count": null,
      "outputs": [
        {
          "output_type": "stream",
          "text": [
            "[21:02:08] WARNING: /workspace/src/objective/regression_obj.cu:152: reg:linear is now deprecated in favor of reg:squarederror.\n",
            "[21:02:08] WARNING: /workspace/src/objective/regression_obj.cu:152: reg:linear is now deprecated in favor of reg:squarederror.\n",
            "[21:02:08] WARNING: /workspace/src/objective/regression_obj.cu:152: reg:linear is now deprecated in favor of reg:squarederror.\n",
            "[21:02:08] WARNING: /workspace/src/objective/regression_obj.cu:152: reg:linear is now deprecated in favor of reg:squarederror.\n",
            "[21:02:08] WARNING: /workspace/src/objective/regression_obj.cu:152: reg:linear is now deprecated in favor of reg:squarederror.\n",
            "[21:02:08] WARNING: /workspace/src/objective/regression_obj.cu:152: reg:linear is now deprecated in favor of reg:squarederror.\n",
            "[21:02:08] WARNING: /workspace/src/objective/regression_obj.cu:152: reg:linear is now deprecated in favor of reg:squarederror.\n",
            "[21:02:08] WARNING: /workspace/src/objective/regression_obj.cu:152: reg:linear is now deprecated in favor of reg:squarederror.\n",
            "3.4168631439320674\n"
          ],
          "name": "stdout"
        }
      ]
    },
    {
      "cell_type": "code",
      "metadata": {
        "colab": {
          "base_uri": "https://localhost:8080/",
          "height": 483
        },
        "id": "laXO36XSIYgj",
        "outputId": "d12775aa-9660-4279-c218-c70e3306b5fc"
      },
      "source": [
        "importance8 = xgb_reg.feature_importances_\n",
        "for i,v in enumerate(importance8):\n",
        "\tprint('Feature: %0d, Score: %.5f' % (i,v))\n",
        "pyplot.bar([x for x in range(len(importance8))], importance8)\n",
        "pyplot.show()"
      ],
      "execution_count": null,
      "outputs": [
        {
          "output_type": "stream",
          "text": [
            "Feature: 0, Score: 0.02227\n",
            "Feature: 1, Score: 0.00261\n",
            "Feature: 2, Score: 0.00991\n",
            "Feature: 3, Score: 0.01836\n",
            "Feature: 4, Score: 0.07449\n",
            "Feature: 5, Score: 0.23127\n",
            "Feature: 6, Score: 0.01464\n",
            "Feature: 7, Score: 0.03546\n",
            "Feature: 8, Score: 0.00996\n",
            "Feature: 9, Score: 0.02303\n",
            "Feature: 10, Score: 0.04948\n",
            "Feature: 11, Score: 0.50854\n"
          ],
          "name": "stdout"
        },
        {
          "output_type": "display_data",
          "data": {
            "image/png": "[encoded data removed]",
            "text/plain": [
              "<Figure size 432x288 with 1 Axes>"
            ]
          },
          "metadata": {
            "tags": [],
            "needs_background": "light"
          }
        }
      ]
    },
    {
      "cell_type": "markdown",
      "metadata": {
        "id": "SQWMokSHRZPd"
      },
      "source": [
        "# **Exposition, Problem Description, and Management Recommendations**"
      ]
    },
    {
      "cell_type": "markdown",
      "metadata": {
        "id": "enCDndOUI4bg"
      },
      "source": [
        "We've built 8 regression models to predict the median value of homes in thousands of 1970 dollars, based on 12 home features. \n",
        "\n",
        "\n",
        "There are no missing values in this dataset, so we assume this is a cleaned dataset and we skip any data cleanning process.\n",
        "\n",
        "We've also evaluated all 8 regression models with RMSE during cross-validation. Results are listed per below:\n",
        "\n",
        "*   Linear Regressor: 4.998435050875095\n",
        "*   Stochastic Gradient Descent Regressor: 862319534474307.8\n",
        "*   Ridge Regressor: 5.015463649791794\n",
        "*   Lasso Regressor: 5.083674925949758\n",
        "*   Elastic Net Regressor: 5.084707053465774\n",
        "*   Random Forest Regressor: 3.7863671127200775\n",
        "*   Gradient Boosting Regressor: 5.3959619085245\n",
        "*   XGBoost Regressor: 3.4168631439320674\n",
        "\n",
        "The smaller value of RMSE, the better the models are. Thus, based on the above comparisons, my recommendation is to choose Random Forest Regressor or XGBoost Regressor for prediction purpose.\n",
        "\n",
        "From bar plots of Random Forest Regressor Model and XGBoost Regressor Modle, it seems like feature 11 (lstat) and feature 5 (rooms) are the most important variables in predicting home prices. "
      ]
    }
  ]
}