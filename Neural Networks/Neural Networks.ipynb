{
  "nbformat": 4,
  "nbformat_minor": 0,
  "metadata": {
    "colab": {
      "name": "Assignment06_Weng.ipynb",
      "provenance": [],
      "collapsed_sections": []
    },
    "kernelspec": {
      "name": "python3",
      "display_name": "Python 3"
    }
  },
  "cells": [
    {
      "cell_type": "markdown",
      "metadata": {
        "id": "j9AYLYGoFQee"
      },
      "source": [
        "**Project: Digit Recognizer** "
      ]
    },
    {
      "cell_type": "markdown",
      "metadata": {
        "id": "mUyDbaPkFScb"
      },
      "source": [
        "#**Ingest**"
      ]
    },
    {
      "cell_type": "code",
      "metadata": {
        "id": "lYARmrukFcqb"
      },
      "source": [
        "import pandas as pd\n",
        "import numpy as np\n",
        "import matplotlib.pyplot as plt\n",
        "from google.colab import drive \n",
        "from sklearn.model_selection import train_test_split\n",
        "import tensorflow as tf\n",
        "from tensorflow import keras\n",
        "from keras.models import load_model\n",
        "from datetime import datetime\n",
        "import time"
      ],
      "execution_count": null,
      "outputs": []
    },
    {
      "cell_type": "code",
      "metadata": {
        "colab": {
          "base_uri": "https://localhost:8080/"
        },
        "id": "Ynq5BXGDFjF0",
        "outputId": "0c1f2e8b-6b61-4d7a-aea4-43d28ba17f23"
      },
      "source": [
        "drive.mount('/content/gdrive')\n",
        "train=pd.read_csv('gdrive/My Drive/train05.csv')\n",
        "test=pd.read_csv('gdrive/My Drive/test05.csv')"
      ],
      "execution_count": null,
      "outputs": [
        {
          "output_type": "stream",
          "text": [
            "Mounted at /content/gdrive\n"
          ],
          "name": "stdout"
        }
      ]
    },
    {
      "cell_type": "markdown",
      "metadata": {
        "id": "fs-NndHHF2vH"
      },
      "source": [
        "#**EDA**"
      ]
    },
    {
      "cell_type": "code",
      "metadata": {
        "colab": {
          "base_uri": "https://localhost:8080/"
        },
        "id": "7y4I9Tv3F7NN",
        "outputId": "0759ac44-6e73-45ee-9a25-9f22c2b2a05d"
      },
      "source": [
        "print(train.shape)\n",
        "print(test.shape)"
      ],
      "execution_count": null,
      "outputs": [
        {
          "output_type": "stream",
          "text": [
            "(42000, 785)\n",
            "(28000, 784)\n"
          ],
          "name": "stdout"
        }
      ]
    },
    {
      "cell_type": "code",
      "metadata": {
        "id": "hbfIYHH8GEFg"
      },
      "source": [
        "y=train['label']\n",
        "train.drop(\"label\",axis=1,inplace=True)\n",
        "x = train.values"
      ],
      "execution_count": null,
      "outputs": []
    },
    {
      "cell_type": "code",
      "metadata": {
        "id": "nZFhtTrtGHK6"
      },
      "source": [
        "x_train_full, x_test, y_train_full, y_test = train_test_split(x, y, test_size=0.2, stratify=y, random_state=123)"
      ],
      "execution_count": null,
      "outputs": []
    },
    {
      "cell_type": "code",
      "metadata": {
        "colab": {
          "base_uri": "https://localhost:8080/"
        },
        "id": "k2RofTptPCNB",
        "outputId": "1dbe7fac-aea7-4598-9ad2-7670440bd0b9"
      },
      "source": [
        "print(x_train_full.shape)\n",
        "print(x_test.shape)"
      ],
      "execution_count": null,
      "outputs": [
        {
          "output_type": "stream",
          "text": [
            "(33600, 784)\n",
            "(8400, 784)\n"
          ],
          "name": "stdout"
        }
      ]
    },
    {
      "cell_type": "code",
      "metadata": {
        "colab": {
          "base_uri": "https://localhost:8080/"
        },
        "id": "G1ZNkiHvGHlh",
        "outputId": "076bba23-db53-43cd-8910-b62c7fa145b2"
      },
      "source": [
        "x_valid, x_train = x_train_full[:5000] / 255.0, x_train_full[5000:] / 255.0\n",
        "y_valid, y_train = y_train_full[:5000], y_train_full[5000:]\n",
        "x_test = x_test / 255.0\n",
        "\n",
        "print(x_valid.shape)\n",
        "print(x_train.shape)"
      ],
      "execution_count": null,
      "outputs": [
        {
          "output_type": "stream",
          "text": [
            "(5000, 784)\n",
            "(28600, 784)\n"
          ],
          "name": "stdout"
        }
      ]
    },
    {
      "cell_type": "code",
      "metadata": {
        "id": "A1whFnsktDgx",
        "colab": {
          "base_uri": "https://localhost:8080/"
        },
        "outputId": "286afca1-43dd-4b51-bf46-cc945a3498bd"
      },
      "source": [
        "x_train = x_train.reshape(28600, 784)\n",
        "x_valid = x_valid.reshape(5000, 784)\n",
        "x_test = x_test.reshape(8400, 784)\n",
        "x_train = x_train.astype('float32')\n",
        "x_valid = x_valid.astype('float32')\n",
        "x_test = x_test.astype('float32')\n",
        "x_train.shape"
      ],
      "execution_count": null,
      "outputs": [
        {
          "output_type": "execute_result",
          "data": {
            "text/plain": [
              "(28600, 784)"
            ]
          },
          "metadata": {
            "tags": []
          },
          "execution_count": 10
        }
      ]
    },
    {
      "cell_type": "markdown",
      "metadata": {
        "id": "IMEdQ8EXFUWH"
      },
      "source": [
        "# **Model & Evaluate**"
      ]
    },
    {
      "cell_type": "markdown",
      "metadata": {
        "id": "1V6gL4aczNfp"
      },
      "source": [
        "Model 1: 2 Layers with 10 nodes per Layer"
      ]
    },
    {
      "cell_type": "code",
      "metadata": {
        "colab": {
          "base_uri": "https://localhost:8080/"
        },
        "id": "EvhrvwtLMeuF",
        "outputId": "8ec1be98-b0d8-47a5-d9b9-c2caa34a43cd"
      },
      "source": [
        "start=datetime.now()\n",
        "model1 = keras.models.Sequential([\n",
        "    keras.layers.Flatten(input_shape=[28, 28]),\n",
        "    keras.layers.Dense(10, activation=\"relu\"),\n",
        "    keras.layers.Dense(10, activation=\"softmax\")\n",
        "])\n",
        "model1.compile(loss=\"sparse_categorical_crossentropy\",\n",
        "              optimizer=\"sgd\",\n",
        "              metrics=[\"accuracy\"])\n",
        "history1 = model1.fit(x_train, y_train, epochs=30, validation_data=(x_valid, y_valid))\n",
        "end=datetime.now()\n",
        "t=end-start\n",
        "print(t)"
      ],
      "execution_count": null,
      "outputs": [
        {
          "output_type": "stream",
          "text": [
            "Epoch 1/30\n",
            "WARNING:tensorflow:Model was constructed with shape (None, 28, 28) for input KerasTensor(type_spec=TensorSpec(shape=(None, 28, 28), dtype=tf.float32, name='flatten_input'), name='flatten_input', description=\"created by layer 'flatten_input'\"), but it was called on an input with incompatible shape (None, 784).\n",
            "WARNING:tensorflow:Model was constructed with shape (None, 28, 28) for input KerasTensor(type_spec=TensorSpec(shape=(None, 28, 28), dtype=tf.float32, name='flatten_input'), name='flatten_input', description=\"created by layer 'flatten_input'\"), but it was called on an input with incompatible shape (None, 784).\n",
            "858/894 [===========================>..] - ETA: 0s - loss: 1.6351 - accuracy: 0.4535WARNING:tensorflow:Model was constructed with shape (None, 28, 28) for input KerasTensor(type_spec=TensorSpec(shape=(None, 28, 28), dtype=tf.float32, name='flatten_input'), name='flatten_input', description=\"created by layer 'flatten_input'\"), but it was called on an input with incompatible shape (None, 784).\n",
            "894/894 [==============================] - 2s 2ms/step - loss: 1.6174 - accuracy: 0.4608 - val_loss: 0.6985 - val_accuracy: 0.8176\n",
            "Epoch 2/30\n",
            "894/894 [==============================] - 1s 1ms/step - loss: 0.6139 - accuracy: 0.8386 - val_loss: 0.4895 - val_accuracy: 0.8638\n",
            "Epoch 3/30\n",
            "894/894 [==============================] - 1s 2ms/step - loss: 0.4541 - accuracy: 0.8712 - val_loss: 0.4226 - val_accuracy: 0.8792\n",
            "Epoch 4/30\n",
            "894/894 [==============================] - 1s 1ms/step - loss: 0.3856 - accuracy: 0.8900 - val_loss: 0.3891 - val_accuracy: 0.8912\n",
            "Epoch 5/30\n",
            "894/894 [==============================] - 1s 1ms/step - loss: 0.3637 - accuracy: 0.8969 - val_loss: 0.3705 - val_accuracy: 0.8962\n",
            "Epoch 6/30\n",
            "894/894 [==============================] - 1s 1ms/step - loss: 0.3427 - accuracy: 0.9021 - val_loss: 0.3571 - val_accuracy: 0.9006\n",
            "Epoch 7/30\n",
            "894/894 [==============================] - 1s 2ms/step - loss: 0.3293 - accuracy: 0.9044 - val_loss: 0.3466 - val_accuracy: 0.9044\n",
            "Epoch 8/30\n",
            "894/894 [==============================] - 1s 1ms/step - loss: 0.3162 - accuracy: 0.9107 - val_loss: 0.3410 - val_accuracy: 0.9052\n",
            "Epoch 9/30\n",
            "894/894 [==============================] - 1s 1ms/step - loss: 0.3073 - accuracy: 0.9131 - val_loss: 0.3363 - val_accuracy: 0.9078\n",
            "Epoch 10/30\n",
            "894/894 [==============================] - 1s 1ms/step - loss: 0.3049 - accuracy: 0.9119 - val_loss: 0.3306 - val_accuracy: 0.9106\n",
            "Epoch 11/30\n",
            "894/894 [==============================] - 1s 1ms/step - loss: 0.2960 - accuracy: 0.9129 - val_loss: 0.3280 - val_accuracy: 0.9090\n",
            "Epoch 12/30\n",
            "894/894 [==============================] - 1s 1ms/step - loss: 0.2879 - accuracy: 0.9174 - val_loss: 0.3262 - val_accuracy: 0.9100\n",
            "Epoch 13/30\n",
            "894/894 [==============================] - 1s 1ms/step - loss: 0.2858 - accuracy: 0.9182 - val_loss: 0.3228 - val_accuracy: 0.9110\n",
            "Epoch 14/30\n",
            "894/894 [==============================] - 1s 2ms/step - loss: 0.2853 - accuracy: 0.9196 - val_loss: 0.3214 - val_accuracy: 0.9104\n",
            "Epoch 15/30\n",
            "894/894 [==============================] - 1s 1ms/step - loss: 0.2797 - accuracy: 0.9191 - val_loss: 0.3167 - val_accuracy: 0.9114\n",
            "Epoch 16/30\n",
            "894/894 [==============================] - 1s 2ms/step - loss: 0.2740 - accuracy: 0.9208 - val_loss: 0.3145 - val_accuracy: 0.9134\n",
            "Epoch 17/30\n",
            "894/894 [==============================] - 1s 1ms/step - loss: 0.2714 - accuracy: 0.9230 - val_loss: 0.3123 - val_accuracy: 0.9140\n",
            "Epoch 18/30\n",
            "894/894 [==============================] - 1s 1ms/step - loss: 0.2705 - accuracy: 0.9228 - val_loss: 0.3108 - val_accuracy: 0.9150\n",
            "Epoch 19/30\n",
            "894/894 [==============================] - 1s 1ms/step - loss: 0.2617 - accuracy: 0.9244 - val_loss: 0.3113 - val_accuracy: 0.9130\n",
            "Epoch 20/30\n",
            "894/894 [==============================] - 1s 1ms/step - loss: 0.2643 - accuracy: 0.9243 - val_loss: 0.3094 - val_accuracy: 0.9164\n",
            "Epoch 21/30\n",
            "894/894 [==============================] - 1s 1ms/step - loss: 0.2605 - accuracy: 0.9255 - val_loss: 0.3072 - val_accuracy: 0.9154\n",
            "Epoch 22/30\n",
            "894/894 [==============================] - 1s 1ms/step - loss: 0.2553 - accuracy: 0.9258 - val_loss: 0.3051 - val_accuracy: 0.9156\n",
            "Epoch 23/30\n",
            "894/894 [==============================] - 1s 2ms/step - loss: 0.2507 - accuracy: 0.9277 - val_loss: 0.3053 - val_accuracy: 0.9160\n",
            "Epoch 24/30\n",
            "894/894 [==============================] - 1s 2ms/step - loss: 0.2484 - accuracy: 0.9292 - val_loss: 0.3038 - val_accuracy: 0.9168\n",
            "Epoch 25/30\n",
            "894/894 [==============================] - 1s 1ms/step - loss: 0.2573 - accuracy: 0.9258 - val_loss: 0.3072 - val_accuracy: 0.9174\n",
            "Epoch 26/30\n",
            "894/894 [==============================] - 1s 1ms/step - loss: 0.2561 - accuracy: 0.9291 - val_loss: 0.3020 - val_accuracy: 0.9174\n",
            "Epoch 27/30\n",
            "894/894 [==============================] - 1s 1ms/step - loss: 0.2458 - accuracy: 0.9290 - val_loss: 0.2994 - val_accuracy: 0.9188\n",
            "Epoch 28/30\n",
            "894/894 [==============================] - 1s 2ms/step - loss: 0.2547 - accuracy: 0.9277 - val_loss: 0.2999 - val_accuracy: 0.9182\n",
            "Epoch 29/30\n",
            "894/894 [==============================] - 1s 1ms/step - loss: 0.2442 - accuracy: 0.9297 - val_loss: 0.2983 - val_accuracy: 0.9170\n",
            "Epoch 30/30\n",
            "894/894 [==============================] - 1s 1ms/step - loss: 0.2561 - accuracy: 0.9273 - val_loss: 0.2969 - val_accuracy: 0.9178\n",
            "0:00:41.346502\n"
          ],
          "name": "stdout"
        }
      ]
    },
    {
      "cell_type": "code",
      "metadata": {
        "colab": {
          "base_uri": "https://localhost:8080/"
        },
        "id": "Rhf98f9sL6-a",
        "outputId": "3a7eaa99-077a-4a49-80d0-2395b3be5b03"
      },
      "source": [
        "model1.save(\"my_keras_model.h6-1\")"
      ],
      "execution_count": null,
      "outputs": [
        {
          "output_type": "stream",
          "text": [
            "INFO:tensorflow:Assets written to: my_keras_model.h6-1/assets\n"
          ],
          "name": "stdout"
        }
      ]
    },
    {
      "cell_type": "markdown",
      "metadata": {
        "id": "v3JqP5gFLpDR"
      },
      "source": [
        "Model 2: 2 Layers with 20 nodes per Layer (except the output layer with 10 nodes)"
      ]
    },
    {
      "cell_type": "code",
      "metadata": {
        "colab": {
          "base_uri": "https://localhost:8080/"
        },
        "id": "soQ3-zBLLu8g",
        "outputId": "c1ce163a-10ab-4c69-a2c6-c594b20f22b4"
      },
      "source": [
        "start=datetime.now()\n",
        "model2 = keras.models.Sequential([\n",
        "    keras.layers.Flatten(input_shape=[28, 28]),\n",
        "    keras.layers.Dense(20, activation=\"relu\"),\n",
        "    keras.layers.Dense(10, activation=\"softmax\")\n",
        "])\n",
        "model2.compile(loss=\"sparse_categorical_crossentropy\",\n",
        "              optimizer=\"sgd\",\n",
        "              metrics=[\"accuracy\"])\n",
        "history2 = model2.fit(x_train, y_train, epochs=30, validation_data=(x_valid, y_valid))\n",
        "end=datetime.now()\n",
        "t=end-start\n",
        "print(t)"
      ],
      "execution_count": null,
      "outputs": [
        {
          "output_type": "stream",
          "text": [
            "Epoch 1/30\n",
            "WARNING:tensorflow:Model was constructed with shape (None, 28, 28) for input KerasTensor(type_spec=TensorSpec(shape=(None, 28, 28), dtype=tf.float32, name='flatten_1_input'), name='flatten_1_input', description=\"created by layer 'flatten_1_input'\"), but it was called on an input with incompatible shape (None, 784).\n",
            "WARNING:tensorflow:Model was constructed with shape (None, 28, 28) for input KerasTensor(type_spec=TensorSpec(shape=(None, 28, 28), dtype=tf.float32, name='flatten_1_input'), name='flatten_1_input', description=\"created by layer 'flatten_1_input'\"), but it was called on an input with incompatible shape (None, 784).\n",
            "892/894 [============================>.] - ETA: 0s - loss: 1.6617 - accuracy: 0.4896WARNING:tensorflow:Model was constructed with shape (None, 28, 28) for input KerasTensor(type_spec=TensorSpec(shape=(None, 28, 28), dtype=tf.float32, name='flatten_1_input'), name='flatten_1_input', description=\"created by layer 'flatten_1_input'\"), but it was called on an input with incompatible shape (None, 784).\n",
            "894/894 [==============================] - 2s 2ms/step - loss: 1.6600 - accuracy: 0.4903 - val_loss: 0.5958 - val_accuracy: 0.8512\n",
            "Epoch 2/30\n",
            "894/894 [==============================] - 1s 2ms/step - loss: 0.5182 - accuracy: 0.8702 - val_loss: 0.4287 - val_accuracy: 0.8822\n",
            "Epoch 3/30\n",
            "894/894 [==============================] - 1s 1ms/step - loss: 0.3958 - accuracy: 0.8921 - val_loss: 0.3750 - val_accuracy: 0.8954\n",
            "Epoch 4/30\n",
            "894/894 [==============================] - 1s 1ms/step - loss: 0.3568 - accuracy: 0.9012 - val_loss: 0.3507 - val_accuracy: 0.9052\n",
            "Epoch 5/30\n",
            "894/894 [==============================] - 1s 2ms/step - loss: 0.3192 - accuracy: 0.9068 - val_loss: 0.3341 - val_accuracy: 0.9056\n",
            "Epoch 6/30\n",
            "894/894 [==============================] - 1s 1ms/step - loss: 0.3023 - accuracy: 0.9154 - val_loss: 0.3178 - val_accuracy: 0.9118\n",
            "Epoch 7/30\n",
            "894/894 [==============================] - 1s 2ms/step - loss: 0.2847 - accuracy: 0.9182 - val_loss: 0.3121 - val_accuracy: 0.9138\n",
            "Epoch 8/30\n",
            "894/894 [==============================] - 1s 1ms/step - loss: 0.2748 - accuracy: 0.9214 - val_loss: 0.3005 - val_accuracy: 0.9156\n",
            "Epoch 9/30\n",
            "894/894 [==============================] - 1s 2ms/step - loss: 0.2763 - accuracy: 0.9230 - val_loss: 0.2961 - val_accuracy: 0.9184\n",
            "Epoch 10/30\n",
            "894/894 [==============================] - 2s 2ms/step - loss: 0.2636 - accuracy: 0.9232 - val_loss: 0.2901 - val_accuracy: 0.9178\n",
            "Epoch 11/30\n",
            "894/894 [==============================] - 1s 1ms/step - loss: 0.2588 - accuracy: 0.9255 - val_loss: 0.2835 - val_accuracy: 0.9210\n",
            "Epoch 12/30\n",
            "894/894 [==============================] - 1s 1ms/step - loss: 0.2467 - accuracy: 0.9294 - val_loss: 0.2810 - val_accuracy: 0.9224\n",
            "Epoch 13/30\n",
            "894/894 [==============================] - 1s 1ms/step - loss: 0.2417 - accuracy: 0.9320 - val_loss: 0.2777 - val_accuracy: 0.9224\n",
            "Epoch 14/30\n",
            "894/894 [==============================] - 1s 2ms/step - loss: 0.2404 - accuracy: 0.9335 - val_loss: 0.2720 - val_accuracy: 0.9258\n",
            "Epoch 15/30\n",
            "894/894 [==============================] - 1s 2ms/step - loss: 0.2275 - accuracy: 0.9374 - val_loss: 0.2715 - val_accuracy: 0.9248\n",
            "Epoch 16/30\n",
            "894/894 [==============================] - 1s 1ms/step - loss: 0.2267 - accuracy: 0.9358 - val_loss: 0.2681 - val_accuracy: 0.9262\n",
            "Epoch 17/30\n",
            "894/894 [==============================] - 1s 1ms/step - loss: 0.2240 - accuracy: 0.9367 - val_loss: 0.2642 - val_accuracy: 0.9282\n",
            "Epoch 18/30\n",
            "894/894 [==============================] - 1s 2ms/step - loss: 0.2147 - accuracy: 0.9403 - val_loss: 0.2611 - val_accuracy: 0.9304\n",
            "Epoch 19/30\n",
            "894/894 [==============================] - 1s 2ms/step - loss: 0.2173 - accuracy: 0.9393 - val_loss: 0.2590 - val_accuracy: 0.9308\n",
            "Epoch 20/30\n",
            "894/894 [==============================] - 1s 2ms/step - loss: 0.2093 - accuracy: 0.9421 - val_loss: 0.2564 - val_accuracy: 0.9320\n",
            "Epoch 21/30\n",
            "894/894 [==============================] - 1s 2ms/step - loss: 0.2048 - accuracy: 0.9422 - val_loss: 0.2554 - val_accuracy: 0.9302\n",
            "Epoch 22/30\n",
            "894/894 [==============================] - 2s 2ms/step - loss: 0.2019 - accuracy: 0.9435 - val_loss: 0.2541 - val_accuracy: 0.9314\n",
            "Epoch 23/30\n",
            "894/894 [==============================] - 1s 2ms/step - loss: 0.1973 - accuracy: 0.9444 - val_loss: 0.2526 - val_accuracy: 0.9310\n",
            "Epoch 24/30\n",
            "894/894 [==============================] - 1s 2ms/step - loss: 0.1947 - accuracy: 0.9451 - val_loss: 0.2483 - val_accuracy: 0.9350\n",
            "Epoch 25/30\n",
            "894/894 [==============================] - 2s 2ms/step - loss: 0.1859 - accuracy: 0.9475 - val_loss: 0.2478 - val_accuracy: 0.9342\n",
            "Epoch 26/30\n",
            "894/894 [==============================] - 2s 2ms/step - loss: 0.1908 - accuracy: 0.9469 - val_loss: 0.2457 - val_accuracy: 0.9336\n",
            "Epoch 27/30\n",
            "894/894 [==============================] - 1s 2ms/step - loss: 0.1911 - accuracy: 0.9464 - val_loss: 0.2453 - val_accuracy: 0.9334\n",
            "Epoch 28/30\n",
            "894/894 [==============================] - 1s 2ms/step - loss: 0.1907 - accuracy: 0.9456 - val_loss: 0.2432 - val_accuracy: 0.9350\n",
            "Epoch 29/30\n",
            "894/894 [==============================] - 1s 2ms/step - loss: 0.1768 - accuracy: 0.9513 - val_loss: 0.2413 - val_accuracy: 0.9358\n",
            "Epoch 30/30\n",
            "894/894 [==============================] - 1s 2ms/step - loss: 0.1807 - accuracy: 0.9513 - val_loss: 0.2384 - val_accuracy: 0.9366\n",
            "0:00:42.431662\n"
          ],
          "name": "stdout"
        }
      ]
    },
    {
      "cell_type": "code",
      "metadata": {
        "colab": {
          "base_uri": "https://localhost:8080/"
        },
        "id": "FJFgKFENMAg6",
        "outputId": "9ff85810-8df2-424c-8d38-55d278d1b361"
      },
      "source": [
        "model2.save(\"my_keras_model.h6-2\")"
      ],
      "execution_count": null,
      "outputs": [
        {
          "output_type": "stream",
          "text": [
            "INFO:tensorflow:Assets written to: my_keras_model.h6-2/assets\n"
          ],
          "name": "stdout"
        }
      ]
    },
    {
      "cell_type": "markdown",
      "metadata": {
        "id": "yhpMVSUFMjJn"
      },
      "source": [
        "Model 3: 5 Layers with 10 nodes per Layer"
      ]
    },
    {
      "cell_type": "code",
      "metadata": {
        "colab": {
          "base_uri": "https://localhost:8080/"
        },
        "id": "qLjB8cQSMpG6",
        "outputId": "24812a4e-c6ff-40f3-cbb9-bc6e23603e9f"
      },
      "source": [
        "start=datetime.now()\n",
        "model3 = keras.models.Sequential([\n",
        "    keras.layers.Flatten(input_shape=[28, 28]),\n",
        "    keras.layers.Dense(10, activation=\"relu\"),\n",
        "    keras.layers.Dense(10, activation=\"relu\"),\n",
        "    keras.layers.Dense(10, activation=\"relu\"),\n",
        "    keras.layers.Dense(10, activation=\"relu\"),\n",
        "    keras.layers.Dense(10, activation=\"softmax\")\n",
        "])\n",
        "model3.compile(loss=\"sparse_categorical_crossentropy\",\n",
        "              optimizer=\"sgd\",\n",
        "              metrics=[\"accuracy\"])\n",
        "history3 = model3.fit(x_train, y_train, epochs=30, validation_data=(x_valid, y_valid))\n",
        "end=datetime.now()\n",
        "t=end-start\n",
        "print(t)"
      ],
      "execution_count": null,
      "outputs": [
        {
          "output_type": "stream",
          "text": [
            "Epoch 1/30\n",
            "WARNING:tensorflow:Model was constructed with shape (None, 28, 28) for input KerasTensor(type_spec=TensorSpec(shape=(None, 28, 28), dtype=tf.float32, name='flatten_2_input'), name='flatten_2_input', description=\"created by layer 'flatten_2_input'\"), but it was called on an input with incompatible shape (None, 784).\n",
            "WARNING:tensorflow:Model was constructed with shape (None, 28, 28) for input KerasTensor(type_spec=TensorSpec(shape=(None, 28, 28), dtype=tf.float32, name='flatten_2_input'), name='flatten_2_input', description=\"created by layer 'flatten_2_input'\"), but it was called on an input with incompatible shape (None, 784).\n",
            "877/894 [============================>.] - ETA: 0s - loss: 2.1955 - accuracy: 0.1386WARNING:tensorflow:Model was constructed with shape (None, 28, 28) for input KerasTensor(type_spec=TensorSpec(shape=(None, 28, 28), dtype=tf.float32, name='flatten_2_input'), name='flatten_2_input', description=\"created by layer 'flatten_2_input'\"), but it was called on an input with incompatible shape (None, 784).\n",
            "894/894 [==============================] - 2s 2ms/step - loss: 2.1923 - accuracy: 0.1398 - val_loss: 1.6835 - val_accuracy: 0.3446\n",
            "Epoch 2/30\n",
            "894/894 [==============================] - 1s 2ms/step - loss: 1.5428 - accuracy: 0.4155 - val_loss: 1.1077 - val_accuracy: 0.5914\n",
            "Epoch 3/30\n",
            "894/894 [==============================] - 1s 2ms/step - loss: 0.9290 - accuracy: 0.6982 - val_loss: 0.6895 - val_accuracy: 0.8080\n",
            "Epoch 4/30\n",
            "894/894 [==============================] - 1s 2ms/step - loss: 0.6371 - accuracy: 0.8205 - val_loss: 0.5587 - val_accuracy: 0.8482\n",
            "Epoch 5/30\n",
            "894/894 [==============================] - 1s 2ms/step - loss: 0.5281 - accuracy: 0.8530 - val_loss: 0.5097 - val_accuracy: 0.8600\n",
            "Epoch 6/30\n",
            "894/894 [==============================] - 1s 2ms/step - loss: 0.4573 - accuracy: 0.8724 - val_loss: 0.4653 - val_accuracy: 0.8698\n",
            "Epoch 7/30\n",
            "894/894 [==============================] - 1s 2ms/step - loss: 0.4077 - accuracy: 0.8845 - val_loss: 0.4405 - val_accuracy: 0.8748\n",
            "Epoch 8/30\n",
            "894/894 [==============================] - 1s 2ms/step - loss: 0.3743 - accuracy: 0.8967 - val_loss: 0.4486 - val_accuracy: 0.8762\n",
            "Epoch 9/30\n",
            "894/894 [==============================] - 1s 2ms/step - loss: 0.3547 - accuracy: 0.9007 - val_loss: 0.4032 - val_accuracy: 0.8856\n",
            "Epoch 10/30\n",
            "894/894 [==============================] - 1s 2ms/step - loss: 0.3318 - accuracy: 0.9024 - val_loss: 0.3742 - val_accuracy: 0.8940\n",
            "Epoch 11/30\n",
            "894/894 [==============================] - 1s 2ms/step - loss: 0.3253 - accuracy: 0.9092 - val_loss: 0.3677 - val_accuracy: 0.8980\n",
            "Epoch 12/30\n",
            "894/894 [==============================] - 1s 2ms/step - loss: 0.3115 - accuracy: 0.9098 - val_loss: 0.3714 - val_accuracy: 0.8940\n",
            "Epoch 13/30\n",
            "894/894 [==============================] - 1s 2ms/step - loss: 0.3031 - accuracy: 0.9154 - val_loss: 0.3546 - val_accuracy: 0.8990\n",
            "Epoch 14/30\n",
            "894/894 [==============================] - 1s 2ms/step - loss: 0.2879 - accuracy: 0.9179 - val_loss: 0.3429 - val_accuracy: 0.8990\n",
            "Epoch 15/30\n",
            "894/894 [==============================] - 1s 2ms/step - loss: 0.2756 - accuracy: 0.9216 - val_loss: 0.3669 - val_accuracy: 0.8982\n",
            "Epoch 16/30\n",
            "894/894 [==============================] - 1s 2ms/step - loss: 0.2748 - accuracy: 0.9201 - val_loss: 0.3351 - val_accuracy: 0.9048\n",
            "Epoch 17/30\n",
            "894/894 [==============================] - 1s 2ms/step - loss: 0.2684 - accuracy: 0.9236 - val_loss: 0.3176 - val_accuracy: 0.9074\n",
            "Epoch 18/30\n",
            "894/894 [==============================] - 1s 2ms/step - loss: 0.2610 - accuracy: 0.9227 - val_loss: 0.3165 - val_accuracy: 0.9116\n",
            "Epoch 19/30\n",
            "894/894 [==============================] - 1s 2ms/step - loss: 0.2483 - accuracy: 0.9296 - val_loss: 0.3081 - val_accuracy: 0.9112\n",
            "Epoch 20/30\n",
            "894/894 [==============================] - 1s 2ms/step - loss: 0.2429 - accuracy: 0.9289 - val_loss: 0.3139 - val_accuracy: 0.9082\n",
            "Epoch 21/30\n",
            "894/894 [==============================] - 1s 2ms/step - loss: 0.2359 - accuracy: 0.9332 - val_loss: 0.3069 - val_accuracy: 0.9148\n",
            "Epoch 22/30\n",
            "894/894 [==============================] - 2s 2ms/step - loss: 0.2238 - accuracy: 0.9365 - val_loss: 0.3000 - val_accuracy: 0.9152\n",
            "Epoch 23/30\n",
            "894/894 [==============================] - 1s 2ms/step - loss: 0.2234 - accuracy: 0.9348 - val_loss: 0.3005 - val_accuracy: 0.9138\n",
            "Epoch 24/30\n",
            "894/894 [==============================] - 1s 2ms/step - loss: 0.2251 - accuracy: 0.9356 - val_loss: 0.2951 - val_accuracy: 0.9132\n",
            "Epoch 25/30\n",
            "894/894 [==============================] - 1s 2ms/step - loss: 0.2102 - accuracy: 0.9386 - val_loss: 0.2902 - val_accuracy: 0.9164\n",
            "Epoch 26/30\n",
            "894/894 [==============================] - 1s 2ms/step - loss: 0.2241 - accuracy: 0.9377 - val_loss: 0.2854 - val_accuracy: 0.9210\n",
            "Epoch 27/30\n",
            "894/894 [==============================] - 1s 2ms/step - loss: 0.2110 - accuracy: 0.9381 - val_loss: 0.2942 - val_accuracy: 0.9166\n",
            "Epoch 28/30\n",
            "894/894 [==============================] - 1s 2ms/step - loss: 0.2094 - accuracy: 0.9390 - val_loss: 0.3009 - val_accuracy: 0.9140\n",
            "Epoch 29/30\n",
            "894/894 [==============================] - 1s 2ms/step - loss: 0.2066 - accuracy: 0.9411 - val_loss: 0.2965 - val_accuracy: 0.9202\n",
            "Epoch 30/30\n",
            "894/894 [==============================] - 1s 2ms/step - loss: 0.2014 - accuracy: 0.9410 - val_loss: 0.3101 - val_accuracy: 0.9126\n",
            "0:00:43.481919\n"
          ],
          "name": "stdout"
        }
      ]
    },
    {
      "cell_type": "code",
      "metadata": {
        "colab": {
          "base_uri": "https://localhost:8080/"
        },
        "id": "mwl-fjiFM3EG",
        "outputId": "4f9598ce-c880-49ee-ff36-2784959366f6"
      },
      "source": [
        "model3.save(\"my_keras_model.h6-3\")"
      ],
      "execution_count": null,
      "outputs": [
        {
          "output_type": "stream",
          "text": [
            "INFO:tensorflow:Assets written to: my_keras_model.h6-3/assets\n"
          ],
          "name": "stdout"
        }
      ]
    },
    {
      "cell_type": "markdown",
      "metadata": {
        "id": "MzvVuqbSM6am"
      },
      "source": [
        "Model 4: 5 Layers with 20 nodes per Layer (except the output layer with 10 nodes)"
      ]
    },
    {
      "cell_type": "code",
      "metadata": {
        "colab": {
          "base_uri": "https://localhost:8080/"
        },
        "id": "JLeHplPCM-Bf",
        "outputId": "7f6c36b7-5548-4972-f879-815380239b64"
      },
      "source": [
        "start=datetime.now()\n",
        "model4 = keras.models.Sequential([\n",
        "    keras.layers.Flatten(input_shape=[28, 28]),\n",
        "    keras.layers.Dense(20, activation=\"relu\"),\n",
        "    keras.layers.Dense(20, activation=\"relu\"),\n",
        "    keras.layers.Dense(20, activation=\"relu\"),\n",
        "    keras.layers.Dense(20, activation=\"relu\"),\n",
        "    keras.layers.Dense(10, activation=\"softmax\")\n",
        "])\n",
        "model4.compile(loss=\"sparse_categorical_crossentropy\",\n",
        "              optimizer=\"sgd\",\n",
        "              metrics=[\"accuracy\"])\n",
        "history4 = model4.fit(x_train, y_train, epochs=30, validation_data=(x_valid, y_valid))\n",
        "end=datetime.now()\n",
        "t=end-start\n",
        "print(t)"
      ],
      "execution_count": null,
      "outputs": [
        {
          "output_type": "stream",
          "text": [
            "Epoch 1/30\n",
            "WARNING:tensorflow:Model was constructed with shape (None, 28, 28) for input KerasTensor(type_spec=TensorSpec(shape=(None, 28, 28), dtype=tf.float32, name='flatten_3_input'), name='flatten_3_input', description=\"created by layer 'flatten_3_input'\"), but it was called on an input with incompatible shape (None, 784).\n",
            "WARNING:tensorflow:Model was constructed with shape (None, 28, 28) for input KerasTensor(type_spec=TensorSpec(shape=(None, 28, 28), dtype=tf.float32, name='flatten_3_input'), name='flatten_3_input', description=\"created by layer 'flatten_3_input'\"), but it was called on an input with incompatible shape (None, 784).\n",
            "860/894 [===========================>..] - ETA: 0s - loss: 1.9698 - accuracy: 0.3059WARNING:tensorflow:Model was constructed with shape (None, 28, 28) for input KerasTensor(type_spec=TensorSpec(shape=(None, 28, 28), dtype=tf.float32, name='flatten_3_input'), name='flatten_3_input', description=\"created by layer 'flatten_3_input'\"), but it was called on an input with incompatible shape (None, 784).\n",
            "894/894 [==============================] - 2s 2ms/step - loss: 1.9527 - accuracy: 0.3128 - val_loss: 0.7840 - val_accuracy: 0.7612\n",
            "Epoch 2/30\n",
            "894/894 [==============================] - 1s 2ms/step - loss: 0.6259 - accuracy: 0.8112 - val_loss: 0.4963 - val_accuracy: 0.8474\n",
            "Epoch 3/30\n",
            "894/894 [==============================] - 1s 2ms/step - loss: 0.4052 - accuracy: 0.8794 - val_loss: 0.3833 - val_accuracy: 0.8836\n",
            "Epoch 4/30\n",
            "894/894 [==============================] - 1s 2ms/step - loss: 0.3310 - accuracy: 0.9039 - val_loss: 0.3593 - val_accuracy: 0.8970\n",
            "Epoch 5/30\n",
            "894/894 [==============================] - 1s 2ms/step - loss: 0.2900 - accuracy: 0.9162 - val_loss: 0.3084 - val_accuracy: 0.9098\n",
            "Epoch 6/30\n",
            "894/894 [==============================] - 1s 2ms/step - loss: 0.2674 - accuracy: 0.9228 - val_loss: 0.3112 - val_accuracy: 0.9114\n",
            "Epoch 7/30\n",
            "894/894 [==============================] - 2s 2ms/step - loss: 0.2413 - accuracy: 0.9289 - val_loss: 0.2695 - val_accuracy: 0.9262\n",
            "Epoch 8/30\n",
            "894/894 [==============================] - 1s 2ms/step - loss: 0.2214 - accuracy: 0.9345 - val_loss: 0.2578 - val_accuracy: 0.9268\n",
            "Epoch 9/30\n",
            "894/894 [==============================] - 1s 2ms/step - loss: 0.2126 - accuracy: 0.9359 - val_loss: 0.2492 - val_accuracy: 0.9290\n",
            "Epoch 10/30\n",
            "894/894 [==============================] - 1s 2ms/step - loss: 0.1922 - accuracy: 0.9427 - val_loss: 0.2611 - val_accuracy: 0.9248\n",
            "Epoch 11/30\n",
            "894/894 [==============================] - 1s 2ms/step - loss: 0.1890 - accuracy: 0.9430 - val_loss: 0.2447 - val_accuracy: 0.9304\n",
            "Epoch 12/30\n",
            "894/894 [==============================] - 1s 2ms/step - loss: 0.1861 - accuracy: 0.9439 - val_loss: 0.2238 - val_accuracy: 0.9348\n",
            "Epoch 13/30\n",
            "894/894 [==============================] - 1s 2ms/step - loss: 0.1668 - accuracy: 0.9493 - val_loss: 0.2165 - val_accuracy: 0.9396\n",
            "Epoch 14/30\n",
            "894/894 [==============================] - 1s 2ms/step - loss: 0.1602 - accuracy: 0.9526 - val_loss: 0.2288 - val_accuracy: 0.9346\n",
            "Epoch 15/30\n",
            "894/894 [==============================] - 1s 2ms/step - loss: 0.1503 - accuracy: 0.9545 - val_loss: 0.2188 - val_accuracy: 0.9382\n",
            "Epoch 16/30\n",
            "894/894 [==============================] - 1s 2ms/step - loss: 0.1475 - accuracy: 0.9544 - val_loss: 0.2202 - val_accuracy: 0.9366\n",
            "Epoch 17/30\n",
            "894/894 [==============================] - 1s 2ms/step - loss: 0.1447 - accuracy: 0.9588 - val_loss: 0.2017 - val_accuracy: 0.9426\n",
            "Epoch 18/30\n",
            "894/894 [==============================] - 1s 2ms/step - loss: 0.1335 - accuracy: 0.9588 - val_loss: 0.2338 - val_accuracy: 0.9342\n",
            "Epoch 19/30\n",
            "894/894 [==============================] - 1s 2ms/step - loss: 0.1356 - accuracy: 0.9589 - val_loss: 0.2217 - val_accuracy: 0.9378\n",
            "Epoch 20/30\n",
            "894/894 [==============================] - 1s 2ms/step - loss: 0.1312 - accuracy: 0.9604 - val_loss: 0.2138 - val_accuracy: 0.9412\n",
            "Epoch 21/30\n",
            "894/894 [==============================] - 1s 2ms/step - loss: 0.1186 - accuracy: 0.9645 - val_loss: 0.2079 - val_accuracy: 0.9412\n",
            "Epoch 22/30\n",
            "894/894 [==============================] - 1s 2ms/step - loss: 0.1169 - accuracy: 0.9650 - val_loss: 0.2064 - val_accuracy: 0.9440\n",
            "Epoch 23/30\n",
            "894/894 [==============================] - 1s 2ms/step - loss: 0.1137 - accuracy: 0.9660 - val_loss: 0.1992 - val_accuracy: 0.9464\n",
            "Epoch 24/30\n",
            "894/894 [==============================] - 1s 2ms/step - loss: 0.1083 - accuracy: 0.9664 - val_loss: 0.2027 - val_accuracy: 0.9462\n",
            "Epoch 25/30\n",
            "894/894 [==============================] - 2s 2ms/step - loss: 0.1058 - accuracy: 0.9690 - val_loss: 0.2036 - val_accuracy: 0.9462\n",
            "Epoch 26/30\n",
            "894/894 [==============================] - 1s 2ms/step - loss: 0.1048 - accuracy: 0.9690 - val_loss: 0.1928 - val_accuracy: 0.9526\n",
            "Epoch 27/30\n",
            "894/894 [==============================] - 1s 2ms/step - loss: 0.1011 - accuracy: 0.9696 - val_loss: 0.2104 - val_accuracy: 0.9446\n",
            "Epoch 28/30\n",
            "894/894 [==============================] - 1s 2ms/step - loss: 0.0975 - accuracy: 0.9700 - val_loss: 0.2198 - val_accuracy: 0.9418\n",
            "Epoch 29/30\n",
            "894/894 [==============================] - 1s 2ms/step - loss: 0.1020 - accuracy: 0.9698 - val_loss: 0.1982 - val_accuracy: 0.9490\n",
            "Epoch 30/30\n",
            "894/894 [==============================] - 1s 2ms/step - loss: 0.0911 - accuracy: 0.9720 - val_loss: 0.2002 - val_accuracy: 0.9482\n",
            "0:00:44.028939\n"
          ],
          "name": "stdout"
        }
      ]
    },
    {
      "cell_type": "code",
      "metadata": {
        "colab": {
          "base_uri": "https://localhost:8080/"
        },
        "id": "D0mCxLHCNc3-",
        "outputId": "b8041139-de01-428e-d03b-ae49f18dbce2"
      },
      "source": [
        "model4.save(\"my_keras_model.h6-4\")"
      ],
      "execution_count": null,
      "outputs": [
        {
          "output_type": "stream",
          "text": [
            "INFO:tensorflow:Assets written to: my_keras_model.h6-4/assets\n"
          ],
          "name": "stdout"
        }
      ]
    },
    {
      "cell_type": "code",
      "metadata": {
        "id": "w58PeUPLJVV1"
      },
      "source": [
        "def get_sec(time_str):\n",
        "    h, m, s = time_str.split(':')\n",
        "    return int(h) * 3600 + int(m) * 60 + float(s)\n",
        "\n",
        "\n",
        "t1=get_sec('0:00:41.346502')\n",
        "t2=get_sec('0:00:42.431662')\n",
        "t3=get_sec('0:00:43.481919')\n",
        "t4=get_sec('0:00:44.028939')"
      ],
      "execution_count": null,
      "outputs": []
    },
    {
      "cell_type": "code",
      "metadata": {
        "id": "Rr5qYHrvQK1w"
      },
      "source": [
        "atrain1=history1.history['accuracy'][29]\n",
        "atrain2=history2.history['accuracy'][29]\n",
        "atrain3=history3.history['accuracy'][29]\n",
        "atrain4=history4.history['accuracy'][29]"
      ],
      "execution_count": null,
      "outputs": []
    },
    {
      "cell_type": "code",
      "metadata": {
        "colab": {
          "base_uri": "https://localhost:8080/"
        },
        "id": "z3KzzuK0N-ik",
        "outputId": "9f01f920-e55a-412c-930e-d0417471ff30"
      },
      "source": [
        "model1 = keras.models.load_model(\"my_keras_model.h6-1\")\n",
        "model2 = keras.models.load_model(\"my_keras_model.h6-2\")\n",
        "model3 = keras.models.load_model(\"my_keras_model.h6-3\")\n",
        "model4 = keras.models.load_model(\"my_keras_model.h6-4\")\n",
        "\n",
        "metrics1 = model1.evaluate(x_test, y_test, verbose=2)\n",
        "metrics2 = model2.evaluate(x_test, y_test, verbose=2)\n",
        "metrics3 = model3.evaluate(x_test, y_test, verbose=2)\n",
        "metrics4 = model4.evaluate(x_test, y_test, verbose=2)\n",
        "\n",
        "atest1=metrics1[1]\n",
        "atest2=metrics2[1]\n",
        "atest3=metrics3[1]\n",
        "atest4=metrics4[1]"
      ],
      "execution_count": null,
      "outputs": [
        {
          "output_type": "stream",
          "text": [
            "WARNING:tensorflow:Model was constructed with shape (None, 28, 28) for input KerasTensor(type_spec=TensorSpec(shape=(None, 28, 28), dtype=tf.float32, name='flatten_input'), name='flatten_input', description=\"created by layer 'flatten_input'\"), but it was called on an input with incompatible shape (None, 784).\n",
            "263/263 - 0s - loss: 0.2783 - accuracy: 0.9198\n",
            "WARNING:tensorflow:Model was constructed with shape (None, 28, 28) for input KerasTensor(type_spec=TensorSpec(shape=(None, 28, 28), dtype=tf.float32, name='flatten_1_input'), name='flatten_1_input', description=\"created by layer 'flatten_1_input'\"), but it was called on an input with incompatible shape (None, 784).\n",
            "263/263 - 0s - loss: 0.2185 - accuracy: 0.9365\n",
            "WARNING:tensorflow:Model was constructed with shape (None, 28, 28) for input KerasTensor(type_spec=TensorSpec(shape=(None, 28, 28), dtype=tf.float32, name='flatten_2_input'), name='flatten_2_input', description=\"created by layer 'flatten_2_input'\"), but it was called on an input with incompatible shape (None, 784).\n",
            "263/263 - 0s - loss: 0.3132 - accuracy: 0.9167\n",
            "WARNING:tensorflow:Model was constructed with shape (None, 28, 28) for input KerasTensor(type_spec=TensorSpec(shape=(None, 28, 28), dtype=tf.float32, name='flatten_3_input'), name='flatten_3_input', description=\"created by layer 'flatten_3_input'\"), but it was called on an input with incompatible shape (None, 784).\n",
            "263/263 - 0s - loss: 0.1919 - accuracy: 0.9489\n"
          ],
          "name": "stdout"
        }
      ]
    },
    {
      "cell_type": "code",
      "metadata": {
        "colab": {
          "base_uri": "https://localhost:8080/",
          "height": 168
        },
        "id": "eB4MEdj2RKCu",
        "outputId": "3c5c7dac-f65f-4a16-e64b-f5349256e131"
      },
      "source": [
        "d = {'Number of Layers': [2,2,5,5], 'Nodes per Layer': [10,20,10,20], 'Processing Time': [t1,t2,t3,t4],'Training Set Accuracy': [atrain1,atrain2,atrain3,atrain4],'Test Set Accuracy': [atest1,atest2,atest3,atest4]}\n",
        "output = pd.DataFrame(data=d)\n",
        "output"
      ],
      "execution_count": null,
      "outputs": [
        {
          "output_type": "execute_result",
          "data": {
            "text/html": [
              "<div>\n",
              "<style scoped>\n",
              "    .dataframe tbody tr th:only-of-type {\n",
              "        vertical-align: middle;\n",
              "    }\n",
              "\n",
              "    .dataframe tbody tr th {\n",
              "        vertical-align: top;\n",
              "    }\n",
              "\n",
              "    .dataframe thead th {\n",
              "        text-align: right;\n",
              "    }\n",
              "</style>\n",
              "<table border=\"1\" class=\"dataframe\">\n",
              "  <thead>\n",
              "    <tr style=\"text-align: right;\">\n",
              "      <th></th>\n",
              "      <th>Number of Layers</th>\n",
              "      <th>Nodes per Layer</th>\n",
              "      <th>Processing Time</th>\n",
              "      <th>Training Set Accuracy</th>\n",
              "      <th>Test Set Accuracy</th>\n",
              "    </tr>\n",
              "  </thead>\n",
              "  <tbody>\n",
              "    <tr>\n",
              "      <th>0</th>\n",
              "      <td>2</td>\n",
              "      <td>10</td>\n",
              "      <td>41.346502</td>\n",
              "      <td>0.930385</td>\n",
              "      <td>0.919762</td>\n",
              "    </tr>\n",
              "    <tr>\n",
              "      <th>1</th>\n",
              "      <td>2</td>\n",
              "      <td>20</td>\n",
              "      <td>42.431662</td>\n",
              "      <td>0.950420</td>\n",
              "      <td>0.936548</td>\n",
              "    </tr>\n",
              "    <tr>\n",
              "      <th>2</th>\n",
              "      <td>5</td>\n",
              "      <td>10</td>\n",
              "      <td>43.481919</td>\n",
              "      <td>0.940245</td>\n",
              "      <td>0.916667</td>\n",
              "    </tr>\n",
              "    <tr>\n",
              "      <th>3</th>\n",
              "      <td>5</td>\n",
              "      <td>20</td>\n",
              "      <td>44.028939</td>\n",
              "      <td>0.970594</td>\n",
              "      <td>0.948929</td>\n",
              "    </tr>\n",
              "  </tbody>\n",
              "</table>\n",
              "</div>"
            ],
            "text/plain": [
              "   Number of Layers  Nodes per Layer  ...  Training Set Accuracy  Test Set Accuracy\n",
              "0                 2               10  ...               0.930385           0.919762\n",
              "1                 2               20  ...               0.950420           0.936548\n",
              "2                 5               10  ...               0.940245           0.916667\n",
              "3                 5               20  ...               0.970594           0.948929\n",
              "\n",
              "[4 rows x 5 columns]"
            ]
          },
          "metadata": {
            "tags": []
          },
          "execution_count": 25
        }
      ]
    },
    {
      "cell_type": "markdown",
      "metadata": {
        "id": "CmmcjNtvzmcc"
      },
      "source": [
        "Model 4 Status"
      ]
    },
    {
      "cell_type": "code",
      "metadata": {
        "colab": {
          "base_uri": "https://localhost:8080/",
          "height": 297
        },
        "id": "8EExZMbAQavE",
        "outputId": "2930c8b7-3979-4aad-d55c-a1a0cfe61ddc"
      },
      "source": [
        "fig = plt.figure()\n",
        "plt.subplot(2,1,1)\n",
        "plt.plot(history4.history['accuracy'])\n",
        "plt.plot(history4.history['val_accuracy'])\n",
        "plt.title('model 4 accuracy')\n",
        "plt.ylabel('accuracy')\n",
        "plt.xlabel('epoch')\n",
        "plt.legend(['train', 'valid'], loc='lower right')\n",
        "\n",
        "plt.subplot(2,1,2)\n",
        "plt.plot(history4.history['loss'])\n",
        "plt.plot(history4.history['val_loss'])\n",
        "plt.title('model 4 loss')\n",
        "plt.ylabel('loss')\n",
        "plt.xlabel('epoch')\n",
        "plt.legend(['train', 'valid'], loc='upper right')\n",
        "\n",
        "plt.tight_layout()"
      ],
      "execution_count": null,
      "outputs": [
        {
          "output_type": "display_data",
          "data": {
            "image/png": "[encoded data removed]",
            "text/plain": [
              "<Figure size 432x288 with 2 Axes>"
            ]
          },
          "metadata": {
            "tags": [],
            "needs_background": "light"
          }
        }
      ]
    },
    {
      "cell_type": "markdown",
      "metadata": {
        "id": "lrJ51yHzFWUe"
      },
      "source": [
        "# **Conclusion**"
      ]
    },
    {
      "cell_type": "markdown",
      "metadata": {
        "id": "MzislVebvULX"
      },
      "source": [
        "After setting the epoch to 30, we've recorded processing times with various models of different layers and nodes per layer in Tensorflow Keras with data set MNIST, and we've found out that the processing times are actually very similar for all trails. And of course, the less layers and nodes can result in less processing time. \n",
        "\n",
        "We've also recorded the training accuracies and testing accuracies for all models, and we've found out that the more layers and more nodes, the higher the accuracy. \n",
        "\n",
        "I believe the most trustworthy model out of these 4 models is one with 5 layders and 20 nodes per layer, because it is with highest training accuracy of 0.970594\tand testing accuracy of 0.948929. Also its running time is very similar to other models, only with a 2.68s difference comparing to the fastest model. \n",
        "  "
      ]
    }
  ]
}