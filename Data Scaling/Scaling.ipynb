{
  "nbformat": 4,
  "nbformat_minor": 0,
  "metadata": {
    "colab": {
      "name": "Assignment01_Weng.ipynb",
      "provenance": [],
      "collapsed_sections": []
    },
    "kernelspec": {
      "name": "python3",
      "display_name": "Python 3"
    }
  },
  "cells": [
    {
      "cell_type": "markdown",
      "metadata": {
        "id": "gdairfkSllS_"
      },
      "source": [
        "**Data Preparation & Exploration**\r\n"
      ]
    },
    {
      "cell_type": "code",
      "metadata": {
        "colab": {
          "base_uri": "https://localhost:8080/"
        },
        "id": "FVPNWavalt_i",
        "outputId": "bd1fdc36-c7a3-4751-d0fa-aaaf6683a1ed"
      },
      "source": [
        "import pandas as pd\r\n",
        "import matplotlib.pyplot as plt\r\n",
        "from google.colab import drive \r\n",
        "from sklearn.preprocessing import MinMaxScaler\r\n",
        "from sklearn.preprocessing import StandardScaler\r\n",
        "\r\n",
        "drive.mount('/content/gdrive')\r\n",
        "df_data=pd.read_csv('gdrive/My Drive/data.csv')"
      ],
      "execution_count": null,
      "outputs": [
        {
          "output_type": "stream",
          "text": [
            "Drive already mounted at /content/gdrive; to attempt to forcibly remount, call drive.mount(\"/content/gdrive\", force_remount=True).\n"
          ],
          "name": "stdout"
        }
      ]
    },
    {
      "cell_type": "code",
      "metadata": {
        "colab": {
          "base_uri": "https://localhost:8080/",
          "height": 272
        },
        "id": "jhL02GiRnIuY",
        "outputId": "44d736f1-1377-4ab7-c959-b3ce2747aaa1"
      },
      "source": [
        "df_data.head(n=6)"
      ],
      "execution_count": null,
      "outputs": [
        {
          "output_type": "execute_result",
          "data": {
            "text/html": [
              "<div>\n",
              "<style scoped>\n",
              "    .dataframe tbody tr th:only-of-type {\n",
              "        vertical-align: middle;\n",
              "    }\n",
              "\n",
              "    .dataframe tbody tr th {\n",
              "        vertical-align: top;\n",
              "    }\n",
              "\n",
              "    .dataframe thead th {\n",
              "        text-align: right;\n",
              "    }\n",
              "</style>\n",
              "<table border=\"1\" class=\"dataframe\">\n",
              "  <thead>\n",
              "    <tr style=\"text-align: right;\">\n",
              "      <th></th>\n",
              "      <th>dateRep</th>\n",
              "      <th>year_week</th>\n",
              "      <th>cases_weekly</th>\n",
              "      <th>deaths_weekly</th>\n",
              "      <th>countriesAndTerritories</th>\n",
              "      <th>geoId</th>\n",
              "      <th>countryterritoryCode</th>\n",
              "      <th>popData2019</th>\n",
              "      <th>continentExp</th>\n",
              "      <th>notification_rate_per_100000_population_14-days</th>\n",
              "    </tr>\n",
              "  </thead>\n",
              "  <tbody>\n",
              "    <tr>\n",
              "      <th>0</th>\n",
              "      <td>11/01/2021</td>\n",
              "      <td>2021-01</td>\n",
              "      <td>675</td>\n",
              "      <td>71</td>\n",
              "      <td>Afghanistan</td>\n",
              "      <td>AF</td>\n",
              "      <td>AFG</td>\n",
              "      <td>38041757.0</td>\n",
              "      <td>Asia</td>\n",
              "      <td>4.15</td>\n",
              "    </tr>\n",
              "    <tr>\n",
              "      <th>1</th>\n",
              "      <td>04/01/2021</td>\n",
              "      <td>2020-53</td>\n",
              "      <td>902</td>\n",
              "      <td>60</td>\n",
              "      <td>Afghanistan</td>\n",
              "      <td>AF</td>\n",
              "      <td>AFG</td>\n",
              "      <td>38041757.0</td>\n",
              "      <td>Asia</td>\n",
              "      <td>7.61</td>\n",
              "    </tr>\n",
              "    <tr>\n",
              "      <th>2</th>\n",
              "      <td>28/12/2020</td>\n",
              "      <td>2020-52</td>\n",
              "      <td>1994</td>\n",
              "      <td>88</td>\n",
              "      <td>Afghanistan</td>\n",
              "      <td>AF</td>\n",
              "      <td>AFG</td>\n",
              "      <td>38041757.0</td>\n",
              "      <td>Asia</td>\n",
              "      <td>7.19</td>\n",
              "    </tr>\n",
              "    <tr>\n",
              "      <th>3</th>\n",
              "      <td>21/12/2020</td>\n",
              "      <td>2020-51</td>\n",
              "      <td>740</td>\n",
              "      <td>111</td>\n",
              "      <td>Afghanistan</td>\n",
              "      <td>AF</td>\n",
              "      <td>AFG</td>\n",
              "      <td>38041757.0</td>\n",
              "      <td>Asia</td>\n",
              "      <td>6.56</td>\n",
              "    </tr>\n",
              "    <tr>\n",
              "      <th>4</th>\n",
              "      <td>14/12/2020</td>\n",
              "      <td>2020-50</td>\n",
              "      <td>1757</td>\n",
              "      <td>71</td>\n",
              "      <td>Afghanistan</td>\n",
              "      <td>AF</td>\n",
              "      <td>AFG</td>\n",
              "      <td>38041757.0</td>\n",
              "      <td>Asia</td>\n",
              "      <td>9.01</td>\n",
              "    </tr>\n",
              "    <tr>\n",
              "      <th>5</th>\n",
              "      <td>07/12/2020</td>\n",
              "      <td>2020-49</td>\n",
              "      <td>1672</td>\n",
              "      <td>137</td>\n",
              "      <td>Afghanistan</td>\n",
              "      <td>AF</td>\n",
              "      <td>AFG</td>\n",
              "      <td>38041757.0</td>\n",
              "      <td>Asia</td>\n",
              "      <td>7.22</td>\n",
              "    </tr>\n",
              "  </tbody>\n",
              "</table>\n",
              "</div>"
            ],
            "text/plain": [
              "      dateRep  ... notification_rate_per_100000_population_14-days\n",
              "0  11/01/2021  ...                                            4.15\n",
              "1  04/01/2021  ...                                            7.61\n",
              "2  28/12/2020  ...                                            7.19\n",
              "3  21/12/2020  ...                                            6.56\n",
              "4  14/12/2020  ...                                            9.01\n",
              "5  07/12/2020  ...                                            7.22\n",
              "\n",
              "[6 rows x 10 columns]"
            ]
          },
          "metadata": {
            "tags": []
          },
          "execution_count": 2
        }
      ]
    },
    {
      "cell_type": "code",
      "metadata": {
        "colab": {
          "base_uri": "https://localhost:8080/",
          "height": 297
        },
        "id": "coGcsPnupez-",
        "outputId": "3f330020-be2d-41ee-cdbb-afb7b8f6b045"
      },
      "source": [
        "df_data.describe()"
      ],
      "execution_count": null,
      "outputs": [
        {
          "output_type": "execute_result",
          "data": {
            "text/html": [
              "<div>\n",
              "<style scoped>\n",
              "    .dataframe tbody tr th:only-of-type {\n",
              "        vertical-align: middle;\n",
              "    }\n",
              "\n",
              "    .dataframe tbody tr th {\n",
              "        vertical-align: top;\n",
              "    }\n",
              "\n",
              "    .dataframe thead th {\n",
              "        text-align: right;\n",
              "    }\n",
              "</style>\n",
              "<table border=\"1\" class=\"dataframe\">\n",
              "  <thead>\n",
              "    <tr style=\"text-align: right;\">\n",
              "      <th></th>\n",
              "      <th>cases_weekly</th>\n",
              "      <th>deaths_weekly</th>\n",
              "      <th>popData2019</th>\n",
              "      <th>notification_rate_per_100000_population_14-days</th>\n",
              "    </tr>\n",
              "  </thead>\n",
              "  <tbody>\n",
              "    <tr>\n",
              "      <th>count</th>\n",
              "      <td>9.791000e+03</td>\n",
              "      <td>9791.000000</td>\n",
              "      <td>9.769000e+03</td>\n",
              "      <td>9556.000000</td>\n",
              "    </tr>\n",
              "    <tr>\n",
              "      <th>mean</th>\n",
              "      <td>9.171902e+03</td>\n",
              "      <td>198.195179</td>\n",
              "      <td>4.043069e+07</td>\n",
              "      <td>77.844643</td>\n",
              "    </tr>\n",
              "    <tr>\n",
              "      <th>std</th>\n",
              "      <td>5.562173e+04</td>\n",
              "      <td>926.689829</td>\n",
              "      <td>1.515012e+08</td>\n",
              "      <td>189.287209</td>\n",
              "    </tr>\n",
              "    <tr>\n",
              "      <th>min</th>\n",
              "      <td>-3.864000e+03</td>\n",
              "      <td>-875.000000</td>\n",
              "      <td>8.150000e+02</td>\n",
              "      <td>-132.600000</td>\n",
              "    </tr>\n",
              "    <tr>\n",
              "      <th>25%</th>\n",
              "      <td>8.000000e+00</td>\n",
              "      <td>0.000000</td>\n",
              "      <td>1.293120e+06</td>\n",
              "      <td>0.810000</td>\n",
              "    </tr>\n",
              "    <tr>\n",
              "      <th>50%</th>\n",
              "      <td>1.670000e+02</td>\n",
              "      <td>2.000000</td>\n",
              "      <td>7.169456e+06</td>\n",
              "      <td>7.690000</td>\n",
              "    </tr>\n",
              "    <tr>\n",
              "      <th>75%</th>\n",
              "      <td>2.334500e+03</td>\n",
              "      <td>37.000000</td>\n",
              "      <td>2.851583e+07</td>\n",
              "      <td>61.965000</td>\n",
              "    </tr>\n",
              "    <tr>\n",
              "      <th>max</th>\n",
              "      <td>1.782792e+06</td>\n",
              "      <td>22852.000000</td>\n",
              "      <td>1.433784e+09</td>\n",
              "      <td>4343.440000</td>\n",
              "    </tr>\n",
              "  </tbody>\n",
              "</table>\n",
              "</div>"
            ],
            "text/plain": [
              "       cases_weekly  ...  notification_rate_per_100000_population_14-days\n",
              "count  9.791000e+03  ...                                      9556.000000\n",
              "mean   9.171902e+03  ...                                        77.844643\n",
              "std    5.562173e+04  ...                                       189.287209\n",
              "min   -3.864000e+03  ...                                      -132.600000\n",
              "25%    8.000000e+00  ...                                         0.810000\n",
              "50%    1.670000e+02  ...                                         7.690000\n",
              "75%    2.334500e+03  ...                                        61.965000\n",
              "max    1.782792e+06  ...                                      4343.440000\n",
              "\n",
              "[8 rows x 4 columns]"
            ]
          },
          "metadata": {
            "tags": []
          },
          "execution_count": 3
        }
      ]
    },
    {
      "cell_type": "code",
      "metadata": {
        "colab": {
          "base_uri": "https://localhost:8080/"
        },
        "id": "OedpIZCKoFjT",
        "outputId": "dfb433e6-d6b3-4c0a-8fcb-63ca04cefd21"
      },
      "source": [
        "df_data.info()"
      ],
      "execution_count": null,
      "outputs": [
        {
          "output_type": "stream",
          "text": [
            "<class 'pandas.core.frame.DataFrame'>\n",
            "RangeIndex: 9791 entries, 0 to 9790\n",
            "Data columns (total 10 columns):\n",
            " #   Column                                           Non-Null Count  Dtype  \n",
            "---  ------                                           --------------  -----  \n",
            " 0   dateRep                                          9791 non-null   object \n",
            " 1   year_week                                        9791 non-null   object \n",
            " 2   cases_weekly                                     9791 non-null   int64  \n",
            " 3   deaths_weekly                                    9791 non-null   int64  \n",
            " 4   countriesAndTerritories                          9791 non-null   object \n",
            " 5   geoId                                            9747 non-null   object \n",
            " 6   countryterritoryCode                             9769 non-null   object \n",
            " 7   popData2019                                      9769 non-null   float64\n",
            " 8   continentExp                                     9791 non-null   object \n",
            " 9   notification_rate_per_100000_population_14-days  9556 non-null   float64\n",
            "dtypes: float64(2), int64(2), object(6)\n",
            "memory usage: 765.0+ KB\n"
          ],
          "name": "stdout"
        }
      ]
    },
    {
      "cell_type": "code",
      "metadata": {
        "colab": {
          "base_uri": "https://localhost:8080/"
        },
        "id": "jLaZbNLtsyVb",
        "outputId": "468c0ff5-6a7f-4438-8b77-d160a696631c"
      },
      "source": [
        "df_data=df_data.dropna()\r\n",
        "df_data.info()"
      ],
      "execution_count": null,
      "outputs": [
        {
          "output_type": "stream",
          "text": [
            "<class 'pandas.core.frame.DataFrame'>\n",
            "Int64Index: 9513 entries, 0 to 9789\n",
            "Data columns (total 10 columns):\n",
            " #   Column                                           Non-Null Count  Dtype  \n",
            "---  ------                                           --------------  -----  \n",
            " 0   dateRep                                          9513 non-null   object \n",
            " 1   year_week                                        9513 non-null   object \n",
            " 2   cases_weekly                                     9513 non-null   int64  \n",
            " 3   deaths_weekly                                    9513 non-null   int64  \n",
            " 4   countriesAndTerritories                          9513 non-null   object \n",
            " 5   geoId                                            9513 non-null   object \n",
            " 6   countryterritoryCode                             9513 non-null   object \n",
            " 7   popData2019                                      9513 non-null   float64\n",
            " 8   continentExp                                     9513 non-null   object \n",
            " 9   notification_rate_per_100000_population_14-days  9513 non-null   float64\n",
            "dtypes: float64(2), int64(2), object(6)\n",
            "memory usage: 817.5+ KB\n"
          ],
          "name": "stdout"
        }
      ]
    },
    {
      "cell_type": "markdown",
      "metadata": {
        "id": "W9Idv3rJq4N-"
      },
      "source": [
        "**Data Visualization**\r\n"
      ]
    },
    {
      "cell_type": "code",
      "metadata": {
        "colab": {
          "base_uri": "https://localhost:8080/",
          "height": 272
        },
        "id": "8DTdgQ6EsF1d",
        "outputId": "142a0dff-0710-40ac-c0aa-0ad01fa378f8"
      },
      "source": [
        "fatality_rate=df_data['deaths_weekly']/df_data['popData2019']*1000000\r\n",
        "df_data['fatality_rate']=fatality_rate\r\n",
        "df_data.head(n=6)"
      ],
      "execution_count": null,
      "outputs": [
        {
          "output_type": "execute_result",
          "data": {
            "text/html": [
              "<div>\n",
              "<style scoped>\n",
              "    .dataframe tbody tr th:only-of-type {\n",
              "        vertical-align: middle;\n",
              "    }\n",
              "\n",
              "    .dataframe tbody tr th {\n",
              "        vertical-align: top;\n",
              "    }\n",
              "\n",
              "    .dataframe thead th {\n",
              "        text-align: right;\n",
              "    }\n",
              "</style>\n",
              "<table border=\"1\" class=\"dataframe\">\n",
              "  <thead>\n",
              "    <tr style=\"text-align: right;\">\n",
              "      <th></th>\n",
              "      <th>dateRep</th>\n",
              "      <th>year_week</th>\n",
              "      <th>cases_weekly</th>\n",
              "      <th>deaths_weekly</th>\n",
              "      <th>countriesAndTerritories</th>\n",
              "      <th>geoId</th>\n",
              "      <th>countryterritoryCode</th>\n",
              "      <th>popData2019</th>\n",
              "      <th>continentExp</th>\n",
              "      <th>notification_rate_per_100000_population_14-days</th>\n",
              "      <th>fatality_rate</th>\n",
              "    </tr>\n",
              "  </thead>\n",
              "  <tbody>\n",
              "    <tr>\n",
              "      <th>0</th>\n",
              "      <td>11/01/2021</td>\n",
              "      <td>2021-01</td>\n",
              "      <td>675</td>\n",
              "      <td>71</td>\n",
              "      <td>Afghanistan</td>\n",
              "      <td>AF</td>\n",
              "      <td>AFG</td>\n",
              "      <td>38041757.0</td>\n",
              "      <td>Asia</td>\n",
              "      <td>4.15</td>\n",
              "      <td>1.866370</td>\n",
              "    </tr>\n",
              "    <tr>\n",
              "      <th>1</th>\n",
              "      <td>04/01/2021</td>\n",
              "      <td>2020-53</td>\n",
              "      <td>902</td>\n",
              "      <td>60</td>\n",
              "      <td>Afghanistan</td>\n",
              "      <td>AF</td>\n",
              "      <td>AFG</td>\n",
              "      <td>38041757.0</td>\n",
              "      <td>Asia</td>\n",
              "      <td>7.61</td>\n",
              "      <td>1.577214</td>\n",
              "    </tr>\n",
              "    <tr>\n",
              "      <th>2</th>\n",
              "      <td>28/12/2020</td>\n",
              "      <td>2020-52</td>\n",
              "      <td>1994</td>\n",
              "      <td>88</td>\n",
              "      <td>Afghanistan</td>\n",
              "      <td>AF</td>\n",
              "      <td>AFG</td>\n",
              "      <td>38041757.0</td>\n",
              "      <td>Asia</td>\n",
              "      <td>7.19</td>\n",
              "      <td>2.313248</td>\n",
              "    </tr>\n",
              "    <tr>\n",
              "      <th>3</th>\n",
              "      <td>21/12/2020</td>\n",
              "      <td>2020-51</td>\n",
              "      <td>740</td>\n",
              "      <td>111</td>\n",
              "      <td>Afghanistan</td>\n",
              "      <td>AF</td>\n",
              "      <td>AFG</td>\n",
              "      <td>38041757.0</td>\n",
              "      <td>Asia</td>\n",
              "      <td>6.56</td>\n",
              "      <td>2.917846</td>\n",
              "    </tr>\n",
              "    <tr>\n",
              "      <th>4</th>\n",
              "      <td>14/12/2020</td>\n",
              "      <td>2020-50</td>\n",
              "      <td>1757</td>\n",
              "      <td>71</td>\n",
              "      <td>Afghanistan</td>\n",
              "      <td>AF</td>\n",
              "      <td>AFG</td>\n",
              "      <td>38041757.0</td>\n",
              "      <td>Asia</td>\n",
              "      <td>9.01</td>\n",
              "      <td>1.866370</td>\n",
              "    </tr>\n",
              "    <tr>\n",
              "      <th>5</th>\n",
              "      <td>07/12/2020</td>\n",
              "      <td>2020-49</td>\n",
              "      <td>1672</td>\n",
              "      <td>137</td>\n",
              "      <td>Afghanistan</td>\n",
              "      <td>AF</td>\n",
              "      <td>AFG</td>\n",
              "      <td>38041757.0</td>\n",
              "      <td>Asia</td>\n",
              "      <td>7.22</td>\n",
              "      <td>3.601306</td>\n",
              "    </tr>\n",
              "  </tbody>\n",
              "</table>\n",
              "</div>"
            ],
            "text/plain": [
              "      dateRep  ... fatality_rate\n",
              "0  11/01/2021  ...      1.866370\n",
              "1  04/01/2021  ...      1.577214\n",
              "2  28/12/2020  ...      2.313248\n",
              "3  21/12/2020  ...      2.917846\n",
              "4  14/12/2020  ...      1.866370\n",
              "5  07/12/2020  ...      3.601306\n",
              "\n",
              "[6 rows x 11 columns]"
            ]
          },
          "metadata": {
            "tags": []
          },
          "execution_count": 6
        }
      ]
    },
    {
      "cell_type": "code",
      "metadata": {
        "colab": {
          "base_uri": "https://localhost:8080/",
          "height": 334
        },
        "id": "C_3BN0f1tbpR",
        "outputId": "c036fd0a-3680-4e7d-ca89-883c32a87ffb"
      },
      "source": [
        "df_rate = df_data.groupby(['countryterritoryCode'])['fatality_rate'].sum()\r\n",
        "df_rate.plot.bar()"
      ],
      "execution_count": null,
      "outputs": [
        {
          "output_type": "execute_result",
          "data": {
            "text/plain": [
              "<matplotlib.axes._subplots.AxesSubplot at 0x7f1cf63e4be0>"
            ]
          },
          "metadata": {
            "tags": []
          },
          "execution_count": 7
        },
        {
          "output_type": "display_data",
          "data": {
            "image/png": "[encoded data removed]",
            "text/plain": [
              "<Figure size 432x288 with 1 Axes>"
            ]
          },
          "metadata": {
            "tags": [],
            "needs_background": "light"
          }
        }
      ]
    },
    {
      "cell_type": "code",
      "metadata": {
        "colab": {
          "base_uri": "https://localhost:8080/",
          "height": 329
        },
        "id": "4fGiV_QSxMjp",
        "outputId": "2974442e-83f1-4854-f519-34b73f1867d4"
      },
      "source": [
        "df_time = df_data.groupby(['year_week'])['deaths_weekly'].sum()\r\n",
        "df_time.plot.bar()"
      ],
      "execution_count": null,
      "outputs": [
        {
          "output_type": "execute_result",
          "data": {
            "text/plain": [
              "<matplotlib.axes._subplots.AxesSubplot at 0x7f1cf57d2fd0>"
            ]
          },
          "metadata": {
            "tags": []
          },
          "execution_count": 15
        },
        {
          "output_type": "display_data",
          "data": {
            "image/png": "[encoded data removed]",
            "text/plain": [
              "<Figure size 432x288 with 1 Axes>"
            ]
          },
          "metadata": {
            "tags": [],
            "needs_background": "light"
          }
        }
      ]
    },
    {
      "cell_type": "code",
      "metadata": {
        "colab": {
          "base_uri": "https://localhost:8080/",
          "height": 328
        },
        "id": "o5AH9Eww2n6c",
        "outputId": "94218ca6-9e8b-4556-f337-54dbb11a88a8"
      },
      "source": [
        "df_rate_continent = df_data.groupby(['continentExp'])['deaths_weekly'].sum()\r\n",
        "df_rate_continent.plot.bar()"
      ],
      "execution_count": null,
      "outputs": [
        {
          "output_type": "execute_result",
          "data": {
            "text/plain": [
              "<matplotlib.axes._subplots.AxesSubplot at 0x7f1cf55cc668>"
            ]
          },
          "metadata": {
            "tags": []
          },
          "execution_count": 16
        },
        {
          "output_type": "display_data",
          "data": {
            "image/png": "[encoded data removed]",
            "text/plain": [
              "<Figure size 432x288 with 1 Axes>"
            ]
          },
          "metadata": {
            "tags": [],
            "needs_background": "light"
          }
        }
      ]
    },
    {
      "cell_type": "markdown",
      "metadata": {
        "id": "tu-1mQjeq8uK"
      },
      "source": [
        "**Data Scaling and Comparisons**"
      ]
    },
    {
      "cell_type": "code",
      "metadata": {
        "colab": {
          "base_uri": "https://localhost:8080/",
          "height": 272
        },
        "id": "02G0aUL2taBz",
        "outputId": "4d44cc98-94e2-4445-aaee-dd69a36d3c25"
      },
      "source": [
        "scaler = MinMaxScaler()\r\n",
        "df_data[['deaths_weekly_MinMaxScale']] = scaler.fit_transform(df_data[['deaths_weekly']])\r\n",
        "df_data.head(n=6)"
      ],
      "execution_count": null,
      "outputs": [
        {
          "output_type": "execute_result",
          "data": {
            "text/html": [
              "<div>\n",
              "<style scoped>\n",
              "    .dataframe tbody tr th:only-of-type {\n",
              "        vertical-align: middle;\n",
              "    }\n",
              "\n",
              "    .dataframe tbody tr th {\n",
              "        vertical-align: top;\n",
              "    }\n",
              "\n",
              "    .dataframe thead th {\n",
              "        text-align: right;\n",
              "    }\n",
              "</style>\n",
              "<table border=\"1\" class=\"dataframe\">\n",
              "  <thead>\n",
              "    <tr style=\"text-align: right;\">\n",
              "      <th></th>\n",
              "      <th>dateRep</th>\n",
              "      <th>year_week</th>\n",
              "      <th>cases_weekly</th>\n",
              "      <th>deaths_weekly</th>\n",
              "      <th>countriesAndTerritories</th>\n",
              "      <th>geoId</th>\n",
              "      <th>countryterritoryCode</th>\n",
              "      <th>popData2019</th>\n",
              "      <th>continentExp</th>\n",
              "      <th>notification_rate_per_100000_population_14-days</th>\n",
              "      <th>fatality_rate</th>\n",
              "      <th>deaths_weekly_MinMaxScale</th>\n",
              "      <th>deaths_weekly_StandardScale</th>\n",
              "    </tr>\n",
              "  </thead>\n",
              "  <tbody>\n",
              "    <tr>\n",
              "      <th>0</th>\n",
              "      <td>11/01/2021</td>\n",
              "      <td>2021-01</td>\n",
              "      <td>675</td>\n",
              "      <td>71</td>\n",
              "      <td>Afghanistan</td>\n",
              "      <td>AF</td>\n",
              "      <td>AFG</td>\n",
              "      <td>38041757.0</td>\n",
              "      <td>Asia</td>\n",
              "      <td>4.15</td>\n",
              "      <td>1.866370</td>\n",
              "      <td>0.039870</td>\n",
              "      <td>-0.141524</td>\n",
              "    </tr>\n",
              "    <tr>\n",
              "      <th>1</th>\n",
              "      <td>04/01/2021</td>\n",
              "      <td>2020-53</td>\n",
              "      <td>902</td>\n",
              "      <td>60</td>\n",
              "      <td>Afghanistan</td>\n",
              "      <td>AF</td>\n",
              "      <td>AFG</td>\n",
              "      <td>38041757.0</td>\n",
              "      <td>Asia</td>\n",
              "      <td>7.61</td>\n",
              "      <td>1.577214</td>\n",
              "      <td>0.039407</td>\n",
              "      <td>-0.153233</td>\n",
              "    </tr>\n",
              "    <tr>\n",
              "      <th>2</th>\n",
              "      <td>28/12/2020</td>\n",
              "      <td>2020-52</td>\n",
              "      <td>1994</td>\n",
              "      <td>88</td>\n",
              "      <td>Afghanistan</td>\n",
              "      <td>AF</td>\n",
              "      <td>AFG</td>\n",
              "      <td>38041757.0</td>\n",
              "      <td>Asia</td>\n",
              "      <td>7.19</td>\n",
              "      <td>2.313248</td>\n",
              "      <td>0.040587</td>\n",
              "      <td>-0.123429</td>\n",
              "    </tr>\n",
              "    <tr>\n",
              "      <th>3</th>\n",
              "      <td>21/12/2020</td>\n",
              "      <td>2020-51</td>\n",
              "      <td>740</td>\n",
              "      <td>111</td>\n",
              "      <td>Afghanistan</td>\n",
              "      <td>AF</td>\n",
              "      <td>AFG</td>\n",
              "      <td>38041757.0</td>\n",
              "      <td>Asia</td>\n",
              "      <td>6.56</td>\n",
              "      <td>2.917846</td>\n",
              "      <td>0.041556</td>\n",
              "      <td>-0.098947</td>\n",
              "    </tr>\n",
              "    <tr>\n",
              "      <th>4</th>\n",
              "      <td>14/12/2020</td>\n",
              "      <td>2020-50</td>\n",
              "      <td>1757</td>\n",
              "      <td>71</td>\n",
              "      <td>Afghanistan</td>\n",
              "      <td>AF</td>\n",
              "      <td>AFG</td>\n",
              "      <td>38041757.0</td>\n",
              "      <td>Asia</td>\n",
              "      <td>9.01</td>\n",
              "      <td>1.866370</td>\n",
              "      <td>0.039870</td>\n",
              "      <td>-0.141524</td>\n",
              "    </tr>\n",
              "    <tr>\n",
              "      <th>5</th>\n",
              "      <td>07/12/2020</td>\n",
              "      <td>2020-49</td>\n",
              "      <td>1672</td>\n",
              "      <td>137</td>\n",
              "      <td>Afghanistan</td>\n",
              "      <td>AF</td>\n",
              "      <td>AFG</td>\n",
              "      <td>38041757.0</td>\n",
              "      <td>Asia</td>\n",
              "      <td>7.22</td>\n",
              "      <td>3.601306</td>\n",
              "      <td>0.042652</td>\n",
              "      <td>-0.071271</td>\n",
              "    </tr>\n",
              "  </tbody>\n",
              "</table>\n",
              "</div>"
            ],
            "text/plain": [
              "      dateRep year_week  ...  deaths_weekly_MinMaxScale  deaths_weekly_StandardScale\n",
              "0  11/01/2021   2021-01  ...                   0.039870                    -0.141524\n",
              "1  04/01/2021   2020-53  ...                   0.039407                    -0.153233\n",
              "2  28/12/2020   2020-52  ...                   0.040587                    -0.123429\n",
              "3  21/12/2020   2020-51  ...                   0.041556                    -0.098947\n",
              "4  14/12/2020   2020-50  ...                   0.039870                    -0.141524\n",
              "5  07/12/2020   2020-49  ...                   0.042652                    -0.071271\n",
              "\n",
              "[6 rows x 13 columns]"
            ]
          },
          "metadata": {
            "tags": []
          },
          "execution_count": 20
        }
      ]
    },
    {
      "cell_type": "code",
      "metadata": {
        "colab": {
          "base_uri": "https://localhost:8080/",
          "height": 328
        },
        "id": "UX-SuSCg3CAM",
        "outputId": "3a792ec5-c37e-4b96-8e34-cb2c725a70b9"
      },
      "source": [
        "df_rate_continent_mmscale= df_data.groupby(['continentExp'])['deaths_weekly_MinMaxScale'].sum()\r\n",
        "df_rate_continent_mmscale.plot.bar()"
      ],
      "execution_count": null,
      "outputs": [
        {
          "output_type": "execute_result",
          "data": {
            "text/plain": [
              "<matplotlib.axes._subplots.AxesSubplot at 0x7f1cf55a2208>"
            ]
          },
          "metadata": {
            "tags": []
          },
          "execution_count": 18
        },
        {
          "output_type": "display_data",
          "data": {
            "image/png": "[encoded data removed]",
            "text/plain": [
              "<Figure size 432x288 with 1 Axes>"
            ]
          },
          "metadata": {
            "tags": [],
            "needs_background": "light"
          }
        }
      ]
    },
    {
      "cell_type": "code",
      "metadata": {
        "colab": {
          "base_uri": "https://localhost:8080/",
          "height": 272
        },
        "id": "VrIhuHsH1yms",
        "outputId": "6cbc05f8-83d0-4e36-a078-e7957d7b9238"
      },
      "source": [
        "scaler = StandardScaler()\r\n",
        "df_data[['deaths_weekly_StandardScale']] = scaler.fit_transform(df_data[['deaths_weekly']])\r\n",
        "df_data.head(n=6)"
      ],
      "execution_count": null,
      "outputs": [
        {
          "output_type": "execute_result",
          "data": {
            "text/html": [
              "<div>\n",
              "<style scoped>\n",
              "    .dataframe tbody tr th:only-of-type {\n",
              "        vertical-align: middle;\n",
              "    }\n",
              "\n",
              "    .dataframe tbody tr th {\n",
              "        vertical-align: top;\n",
              "    }\n",
              "\n",
              "    .dataframe thead th {\n",
              "        text-align: right;\n",
              "    }\n",
              "</style>\n",
              "<table border=\"1\" class=\"dataframe\">\n",
              "  <thead>\n",
              "    <tr style=\"text-align: right;\">\n",
              "      <th></th>\n",
              "      <th>dateRep</th>\n",
              "      <th>year_week</th>\n",
              "      <th>cases_weekly</th>\n",
              "      <th>deaths_weekly</th>\n",
              "      <th>countriesAndTerritories</th>\n",
              "      <th>geoId</th>\n",
              "      <th>countryterritoryCode</th>\n",
              "      <th>popData2019</th>\n",
              "      <th>continentExp</th>\n",
              "      <th>notification_rate_per_100000_population_14-days</th>\n",
              "      <th>fatality_rate</th>\n",
              "      <th>deaths_weekly_MinMaxScale</th>\n",
              "      <th>deaths_weekly_StandardScale</th>\n",
              "    </tr>\n",
              "  </thead>\n",
              "  <tbody>\n",
              "    <tr>\n",
              "      <th>0</th>\n",
              "      <td>11/01/2021</td>\n",
              "      <td>2021-01</td>\n",
              "      <td>675</td>\n",
              "      <td>71</td>\n",
              "      <td>Afghanistan</td>\n",
              "      <td>AF</td>\n",
              "      <td>AFG</td>\n",
              "      <td>38041757.0</td>\n",
              "      <td>Asia</td>\n",
              "      <td>4.15</td>\n",
              "      <td>1.866370</td>\n",
              "      <td>0.039870</td>\n",
              "      <td>-0.141524</td>\n",
              "    </tr>\n",
              "    <tr>\n",
              "      <th>1</th>\n",
              "      <td>04/01/2021</td>\n",
              "      <td>2020-53</td>\n",
              "      <td>902</td>\n",
              "      <td>60</td>\n",
              "      <td>Afghanistan</td>\n",
              "      <td>AF</td>\n",
              "      <td>AFG</td>\n",
              "      <td>38041757.0</td>\n",
              "      <td>Asia</td>\n",
              "      <td>7.61</td>\n",
              "      <td>1.577214</td>\n",
              "      <td>0.039407</td>\n",
              "      <td>-0.153233</td>\n",
              "    </tr>\n",
              "    <tr>\n",
              "      <th>2</th>\n",
              "      <td>28/12/2020</td>\n",
              "      <td>2020-52</td>\n",
              "      <td>1994</td>\n",
              "      <td>88</td>\n",
              "      <td>Afghanistan</td>\n",
              "      <td>AF</td>\n",
              "      <td>AFG</td>\n",
              "      <td>38041757.0</td>\n",
              "      <td>Asia</td>\n",
              "      <td>7.19</td>\n",
              "      <td>2.313248</td>\n",
              "      <td>0.040587</td>\n",
              "      <td>-0.123429</td>\n",
              "    </tr>\n",
              "    <tr>\n",
              "      <th>3</th>\n",
              "      <td>21/12/2020</td>\n",
              "      <td>2020-51</td>\n",
              "      <td>740</td>\n",
              "      <td>111</td>\n",
              "      <td>Afghanistan</td>\n",
              "      <td>AF</td>\n",
              "      <td>AFG</td>\n",
              "      <td>38041757.0</td>\n",
              "      <td>Asia</td>\n",
              "      <td>6.56</td>\n",
              "      <td>2.917846</td>\n",
              "      <td>0.041556</td>\n",
              "      <td>-0.098947</td>\n",
              "    </tr>\n",
              "    <tr>\n",
              "      <th>4</th>\n",
              "      <td>14/12/2020</td>\n",
              "      <td>2020-50</td>\n",
              "      <td>1757</td>\n",
              "      <td>71</td>\n",
              "      <td>Afghanistan</td>\n",
              "      <td>AF</td>\n",
              "      <td>AFG</td>\n",
              "      <td>38041757.0</td>\n",
              "      <td>Asia</td>\n",
              "      <td>9.01</td>\n",
              "      <td>1.866370</td>\n",
              "      <td>0.039870</td>\n",
              "      <td>-0.141524</td>\n",
              "    </tr>\n",
              "    <tr>\n",
              "      <th>5</th>\n",
              "      <td>07/12/2020</td>\n",
              "      <td>2020-49</td>\n",
              "      <td>1672</td>\n",
              "      <td>137</td>\n",
              "      <td>Afghanistan</td>\n",
              "      <td>AF</td>\n",
              "      <td>AFG</td>\n",
              "      <td>38041757.0</td>\n",
              "      <td>Asia</td>\n",
              "      <td>7.22</td>\n",
              "      <td>3.601306</td>\n",
              "      <td>0.042652</td>\n",
              "      <td>-0.071271</td>\n",
              "    </tr>\n",
              "  </tbody>\n",
              "</table>\n",
              "</div>"
            ],
            "text/plain": [
              "      dateRep year_week  ...  deaths_weekly_MinMaxScale  deaths_weekly_StandardScale\n",
              "0  11/01/2021   2021-01  ...                   0.039870                    -0.141524\n",
              "1  04/01/2021   2020-53  ...                   0.039407                    -0.153233\n",
              "2  28/12/2020   2020-52  ...                   0.040587                    -0.123429\n",
              "3  21/12/2020   2020-51  ...                   0.041556                    -0.098947\n",
              "4  14/12/2020   2020-50  ...                   0.039870                    -0.141524\n",
              "5  07/12/2020   2020-49  ...                   0.042652                    -0.071271\n",
              "\n",
              "[6 rows x 13 columns]"
            ]
          },
          "metadata": {
            "tags": []
          },
          "execution_count": 13
        }
      ]
    },
    {
      "cell_type": "code",
      "metadata": {
        "colab": {
          "base_uri": "https://localhost:8080/",
          "height": 328
        },
        "id": "T43dDxti5qvo",
        "outputId": "8f9e6255-1ced-4efe-f7f4-723e211cf86c"
      },
      "source": [
        "df_rate_continent_sscale= df_data.groupby(['continentExp'])['deaths_weekly_StandardScale'].sum()\r\n",
        "df_rate_continent_sscale.plot.bar()"
      ],
      "execution_count": null,
      "outputs": [
        {
          "output_type": "execute_result",
          "data": {
            "text/plain": [
              "<matplotlib.axes._subplots.AxesSubplot at 0x7f1cf57f20b8>"
            ]
          },
          "metadata": {
            "tags": []
          },
          "execution_count": 14
        },
        {
          "output_type": "display_data",
          "data": {
            "image/png": "[encoded data removed]",
            "text/plain": [
              "<Figure size 432x288 with 1 Axes>"
            ]
          },
          "metadata": {
            "tags": [],
            "needs_background": "light"
          }
        }
      ]
    },
    {
      "cell_type": "markdown",
      "metadata": {
        "id": "PZ39I8sRrATi"
      },
      "source": [
        "**Insights from Analysis**"
      ]
    },
    {
      "cell_type": "code",
      "metadata": {
        "id": "loU8UgG0ffpH"
      },
      "source": [
        ""
      ],
      "execution_count": null,
      "outputs": []
    },
    {
      "cell_type": "markdown",
      "metadata": {
        "id": "fEaQ2u7067y4"
      },
      "source": [
        "1. We have imported data csv.file from Google Drive and named it df_data. \r\n",
        "\r\n",
        "2. There are 9719 rows in this dataset, with 0-9 a total of 10 features. After removing the NAs, there are 9513 rows left. \r\n",
        "\r\n",
        "3. We've created a new feature called \"fatality_rate\" to measure the fatality rates per million population. Summing them up and plotting them versus country, we can have a general idea about the fatality rate per million population per country. However, there are too many countries on the x-asix and the graph seems rather messey. \r\n",
        "\r\n",
        "4. We then plot deaths_weekly per year_week to understand the impacts based on time. It seems like from year_week 2020-43 to 2021-01, the deaths_weekly keeps increasing. \r\n",
        "\r\n",
        "5. We've created a bar plot based on deaths_weekly per continentExp to understand the geographic impacts. From the graph, we can see that America holds the most deaths as of now, over 0.8 million, while Oceania holds the least deaths. However, due to scaling issue, we are not able to obtain the approximate death numbers for Oceania from the graph. \r\n",
        "\r\n",
        "6. We've used a min_max scaling feature to transform feature \"deaths_weekly\" into a new feature called \"deaths_weekly_MinMaxScale\". After ploting deaths_weekly_MinMaxScale versus continentExp, it seems like Europe now holds the highest deaths_weekly_MinMaxScale. This does not match our results from No.5. It seems like min_max scaling feature does not work very well for this example. \r\n",
        "\r\n",
        "6. We've then used a standard scaling feature to transform feature \"deaths_weekly\" into a new feature called \"deaths_weekly_StandardScale\". There are negative numbers for any values smaller than mean=0 after scalling, which does not seem to be applicable if we would like to use a groupby function to count the sum of deaths_weekly for each continent. "
      ]
    }
  ]
}