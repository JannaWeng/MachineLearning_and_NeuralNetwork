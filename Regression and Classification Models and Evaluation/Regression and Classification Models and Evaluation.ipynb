{
  "nbformat": 4,
  "nbformat_minor": 0,
  "metadata": {
    "kernelspec": {
      "display_name": "Python 3",
      "language": "python",
      "name": "python3"
    },
    "language_info": {
      "codemirror_mode": {
        "name": "ipython",
        "version": 3
      },
      "file_extension": ".py",
      "mimetype": "text/x-python",
      "name": "python",
      "nbconvert_exporter": "python",
      "pygments_lexer": "ipython3",
      "version": "3.6.4"
    },
    "colab": {
      "name": "Assignment03_Weng.ipynb",
      "provenance": [],
      "collapsed_sections": []
    }
  },
  "cells": [
    {
      "cell_type": "markdown",
      "metadata": {
        "id": "ahY50uIyxPze"
      },
      "source": [
        "## **Project 2 Introduction**\n"
      ]
    },
    {
      "cell_type": "markdown",
      "metadata": {
        "id": "RdS1hMlPwogR"
      },
      "source": [
        "Jump-Start for the Bank Marketing Study<br>\n",
        "as described in Marketing Data Science: Modeling Techniques<br>\n",
        "for Predictive Analytics with R and Python (Miller 2015)"
      ]
    },
    {
      "cell_type": "markdown",
      "metadata": {
        "id": "Q4NiV-tdwogV"
      },
      "source": [
        "jump-start code revised by Thomas W. Milller (2018/10/07)"
      ]
    },
    {
      "cell_type": "markdown",
      "metadata": {
        "id": "vqrFXiU5wogV"
      },
      "source": [
        "Scikit Learn documentation for this assignment:<br>\n",
        "http://scikit-learn.org/stable/auto_examples/classification/<br>\n",
        "  plot_classifier_comparison.html<br>\n",
        "http://scikit-learn.org/stable/modules/generated/<br>\n",
        "  sklearn.naive_bayes.BernoulliNB.html#sklearn.naive_bayes.BernoulliNB.score<br>\n",
        "http://scikit-learn.org/stable/modules/generated/<br>\n",
        "  sklearn.linear_model.LogisticRegression.html<br>\n",
        "http://scikit-learn.org/stable/modules/model_evaluation.html <br>\n",
        "http://scikit-learn.org/stable/modules/generated/<br>\n",
        " sklearn.model_selection.KFold.html"
      ]
    },
    {
      "cell_type": "markdown",
      "metadata": {
        "id": "ac1tW9NlwogW"
      },
      "source": [
        "prepare for Python version 3x features and functions<br>\n",
        "comment out for Python 3.x execution<br>\n",
        "from __future__ import division, print_function<br>\n",
        "from future_builtins import ascii, filter, hex, map, oct, zip"
      ]
    },
    {
      "cell_type": "markdown",
      "metadata": {
        "id": "BdIqwn_qx5L9"
      },
      "source": [
        "# **Ingest & EDA**"
      ]
    },
    {
      "cell_type": "markdown",
      "metadata": {
        "id": "ZqbdLPqtwogW"
      },
      "source": [
        "seed value for random number generators to obtain reproducible results"
      ]
    },
    {
      "cell_type": "code",
      "metadata": {
        "id": "F4C56uAzwogW"
      },
      "source": [
        "RANDOM_SEED = 1"
      ],
      "execution_count": null,
      "outputs": []
    },
    {
      "cell_type": "markdown",
      "metadata": {
        "id": "dhIlnoAcwogX"
      },
      "source": [
        "import base packages into the namespace for this program"
      ]
    },
    {
      "cell_type": "code",
      "metadata": {
        "id": "xtoQgRHywogX"
      },
      "source": [
        "import numpy as np\n",
        "import pandas as pd"
      ],
      "execution_count": null,
      "outputs": []
    },
    {
      "cell_type": "markdown",
      "metadata": {
        "id": "sW5-C1KhwogX"
      },
      "source": [
        "initial work with the smaller data set"
      ]
    },
    {
      "cell_type": "code",
      "metadata": {
        "id": "rvrZfyClwogX",
        "colab": {
          "base_uri": "https://localhost:8080/"
        },
        "outputId": "4567e74f-b40d-4c5a-dda2-235485dd0fd3"
      },
      "source": [
        "from google.colab import drive \n",
        "drive.mount('/content/gdrive')\n",
        "bank=pd.read_csv('gdrive/My Drive/bank.csv', sep=\";\")  # start with smaller data set\n",
        "# examine the shape of original input data\n",
        "print(bank.shape)"
      ],
      "execution_count": null,
      "outputs": [
        {
          "output_type": "stream",
          "text": [
            "Drive already mounted at /content/gdrive; to attempt to forcibly remount, call drive.mount(\"/content/gdrive\", force_remount=True).\n",
            "(4521, 17)\n"
          ],
          "name": "stdout"
        }
      ]
    },
    {
      "cell_type": "markdown",
      "metadata": {
        "id": "-P810nNqwogX"
      },
      "source": [
        "drop observations with missing data, if any"
      ]
    },
    {
      "cell_type": "code",
      "metadata": {
        "id": "vBy3wHjQwogY",
        "colab": {
          "base_uri": "https://localhost:8080/"
        },
        "outputId": "0674580a-b645-4223-b716-6f93f05563ad"
      },
      "source": [
        "bank.dropna()\n",
        "# examine the shape of input data after dropping missing data\n",
        "print(bank.shape)"
      ],
      "execution_count": null,
      "outputs": [
        {
          "output_type": "stream",
          "text": [
            "(4521, 17)\n"
          ],
          "name": "stdout"
        }
      ]
    },
    {
      "cell_type": "markdown",
      "metadata": {
        "id": "N8HxHDW2wogY"
      },
      "source": [
        "look at the list of column names, note that y is the response"
      ]
    },
    {
      "cell_type": "code",
      "metadata": {
        "id": "alQMBOgXwogY",
        "colab": {
          "base_uri": "https://localhost:8080/"
        },
        "outputId": "9829677c-7f59-4031-a89d-033b8df99972"
      },
      "source": [
        "list(bank.columns.values)"
      ],
      "execution_count": null,
      "outputs": [
        {
          "output_type": "execute_result",
          "data": {
            "text/plain": [
              "['age',\n",
              " 'job',\n",
              " 'marital',\n",
              " 'education',\n",
              " 'default',\n",
              " 'balance',\n",
              " 'housing',\n",
              " 'loan',\n",
              " 'contact',\n",
              " 'day',\n",
              " 'month',\n",
              " 'duration',\n",
              " 'campaign',\n",
              " 'pdays',\n",
              " 'previous',\n",
              " 'poutcome',\n",
              " 'response']"
            ]
          },
          "metadata": {
            "tags": []
          },
          "execution_count": 5
        }
      ]
    },
    {
      "cell_type": "markdown",
      "metadata": {
        "id": "WgByNu-8wogY"
      },
      "source": [
        "look at the beginning of the DataFrame"
      ]
    },
    {
      "cell_type": "code",
      "metadata": {
        "id": "oaCHxqo3wogY",
        "colab": {
          "base_uri": "https://localhost:8080/",
          "height": 218
        },
        "outputId": "b816c114-19a5-49d6-f9d9-de0a686efb96"
      },
      "source": [
        "bank.head()"
      ],
      "execution_count": null,
      "outputs": [
        {
          "output_type": "execute_result",
          "data": {
            "text/html": [
              "<div>\n",
              "<style scoped>\n",
              "    .dataframe tbody tr th:only-of-type {\n",
              "        vertical-align: middle;\n",
              "    }\n",
              "\n",
              "    .dataframe tbody tr th {\n",
              "        vertical-align: top;\n",
              "    }\n",
              "\n",
              "    .dataframe thead th {\n",
              "        text-align: right;\n",
              "    }\n",
              "</style>\n",
              "<table border=\"1\" class=\"dataframe\">\n",
              "  <thead>\n",
              "    <tr style=\"text-align: right;\">\n",
              "      <th></th>\n",
              "      <th>age</th>\n",
              "      <th>job</th>\n",
              "      <th>marital</th>\n",
              "      <th>education</th>\n",
              "      <th>default</th>\n",
              "      <th>balance</th>\n",
              "      <th>housing</th>\n",
              "      <th>loan</th>\n",
              "      <th>contact</th>\n",
              "      <th>day</th>\n",
              "      <th>month</th>\n",
              "      <th>duration</th>\n",
              "      <th>campaign</th>\n",
              "      <th>pdays</th>\n",
              "      <th>previous</th>\n",
              "      <th>poutcome</th>\n",
              "      <th>response</th>\n",
              "    </tr>\n",
              "  </thead>\n",
              "  <tbody>\n",
              "    <tr>\n",
              "      <th>0</th>\n",
              "      <td>30</td>\n",
              "      <td>unemployed</td>\n",
              "      <td>married</td>\n",
              "      <td>primary</td>\n",
              "      <td>no</td>\n",
              "      <td>1787</td>\n",
              "      <td>no</td>\n",
              "      <td>no</td>\n",
              "      <td>cellular</td>\n",
              "      <td>19</td>\n",
              "      <td>oct</td>\n",
              "      <td>79</td>\n",
              "      <td>1</td>\n",
              "      <td>-1</td>\n",
              "      <td>0</td>\n",
              "      <td>unknown</td>\n",
              "      <td>no</td>\n",
              "    </tr>\n",
              "    <tr>\n",
              "      <th>1</th>\n",
              "      <td>33</td>\n",
              "      <td>services</td>\n",
              "      <td>married</td>\n",
              "      <td>secondary</td>\n",
              "      <td>no</td>\n",
              "      <td>4789</td>\n",
              "      <td>yes</td>\n",
              "      <td>yes</td>\n",
              "      <td>cellular</td>\n",
              "      <td>11</td>\n",
              "      <td>may</td>\n",
              "      <td>220</td>\n",
              "      <td>1</td>\n",
              "      <td>339</td>\n",
              "      <td>4</td>\n",
              "      <td>failure</td>\n",
              "      <td>no</td>\n",
              "    </tr>\n",
              "    <tr>\n",
              "      <th>2</th>\n",
              "      <td>35</td>\n",
              "      <td>management</td>\n",
              "      <td>single</td>\n",
              "      <td>tertiary</td>\n",
              "      <td>no</td>\n",
              "      <td>1350</td>\n",
              "      <td>yes</td>\n",
              "      <td>no</td>\n",
              "      <td>cellular</td>\n",
              "      <td>16</td>\n",
              "      <td>apr</td>\n",
              "      <td>185</td>\n",
              "      <td>1</td>\n",
              "      <td>330</td>\n",
              "      <td>1</td>\n",
              "      <td>failure</td>\n",
              "      <td>no</td>\n",
              "    </tr>\n",
              "    <tr>\n",
              "      <th>3</th>\n",
              "      <td>30</td>\n",
              "      <td>management</td>\n",
              "      <td>married</td>\n",
              "      <td>tertiary</td>\n",
              "      <td>no</td>\n",
              "      <td>1476</td>\n",
              "      <td>yes</td>\n",
              "      <td>yes</td>\n",
              "      <td>unknown</td>\n",
              "      <td>3</td>\n",
              "      <td>jun</td>\n",
              "      <td>199</td>\n",
              "      <td>4</td>\n",
              "      <td>-1</td>\n",
              "      <td>0</td>\n",
              "      <td>unknown</td>\n",
              "      <td>no</td>\n",
              "    </tr>\n",
              "    <tr>\n",
              "      <th>4</th>\n",
              "      <td>59</td>\n",
              "      <td>blue-collar</td>\n",
              "      <td>married</td>\n",
              "      <td>secondary</td>\n",
              "      <td>no</td>\n",
              "      <td>0</td>\n",
              "      <td>yes</td>\n",
              "      <td>no</td>\n",
              "      <td>unknown</td>\n",
              "      <td>5</td>\n",
              "      <td>may</td>\n",
              "      <td>226</td>\n",
              "      <td>1</td>\n",
              "      <td>-1</td>\n",
              "      <td>0</td>\n",
              "      <td>unknown</td>\n",
              "      <td>no</td>\n",
              "    </tr>\n",
              "  </tbody>\n",
              "</table>\n",
              "</div>"
            ],
            "text/plain": [
              "   age          job  marital  education  ... pdays  previous poutcome response\n",
              "0   30   unemployed  married    primary  ...    -1         0  unknown       no\n",
              "1   33     services  married  secondary  ...   339         4  failure       no\n",
              "2   35   management   single   tertiary  ...   330         1  failure       no\n",
              "3   30   management  married   tertiary  ...    -1         0  unknown       no\n",
              "4   59  blue-collar  married  secondary  ...    -1         0  unknown       no\n",
              "\n",
              "[5 rows x 17 columns]"
            ]
          },
          "metadata": {
            "tags": []
          },
          "execution_count": 6
        }
      ]
    },
    {
      "cell_type": "markdown",
      "metadata": {
        "id": "WDiJvxlPwogY"
      },
      "source": [
        "mapping function to convert text no/yes to integer 0/1"
      ]
    },
    {
      "cell_type": "code",
      "metadata": {
        "id": "h84gwLozwogZ"
      },
      "source": [
        "convert_to_binary = {'no' : 0, 'yes' : 1}"
      ],
      "execution_count": null,
      "outputs": []
    },
    {
      "cell_type": "markdown",
      "metadata": {
        "id": "LPKpmH8SwogZ"
      },
      "source": [
        "define binary variable for having credit in default"
      ]
    },
    {
      "cell_type": "code",
      "metadata": {
        "id": "019g5mDTwogZ"
      },
      "source": [
        "default = bank['default'].map(convert_to_binary)"
      ],
      "execution_count": null,
      "outputs": []
    },
    {
      "cell_type": "markdown",
      "metadata": {
        "id": "Hicz_tmZwogZ"
      },
      "source": [
        "define binary variable for having a mortgage or housing loan"
      ]
    },
    {
      "cell_type": "code",
      "metadata": {
        "id": "UeQEClnIwogZ"
      },
      "source": [
        "housing = bank['housing'].map(convert_to_binary)"
      ],
      "execution_count": null,
      "outputs": []
    },
    {
      "cell_type": "markdown",
      "metadata": {
        "id": "TPaH7tvrwogZ"
      },
      "source": [
        "define binary variable for having a personal loan"
      ]
    },
    {
      "cell_type": "code",
      "metadata": {
        "id": "qBGxbnQ4woga"
      },
      "source": [
        "loan = bank['loan'].map(convert_to_binary)"
      ],
      "execution_count": null,
      "outputs": []
    },
    {
      "cell_type": "markdown",
      "metadata": {
        "id": "SJVYlUy9woga"
      },
      "source": [
        "define response variable to use in the model"
      ]
    },
    {
      "cell_type": "code",
      "metadata": {
        "id": "plYTn9bNwoga"
      },
      "source": [
        "response = bank['response'].map(convert_to_binary)"
      ],
      "execution_count": null,
      "outputs": []
    },
    {
      "cell_type": "markdown",
      "metadata": {
        "id": "W6urLxsCwoga"
      },
      "source": [
        "gather three explanatory variables and response into a numpy array <br>\n",
        "here we use .T to obtain the transpose for the structure we want"
      ]
    },
    {
      "cell_type": "code",
      "metadata": {
        "id": "lktjqtDSebll"
      },
      "source": [
        "model_data = np.array([np.array(default), np.array(housing), np.array(loan), \n",
        "    np.array(response)]).T"
      ],
      "execution_count": null,
      "outputs": []
    },
    {
      "cell_type": "markdown",
      "metadata": {
        "id": "wmkKIJ2Pwoga"
      },
      "source": [
        "examine the shape of model_data, which we will use in subsequent modeling"
      ]
    },
    {
      "cell_type": "code",
      "metadata": {
        "id": "uwdABPLnwoga",
        "colab": {
          "base_uri": "https://localhost:8080/"
        },
        "outputId": "a15b7a54-1360-48d9-8155-e44f18b510f5"
      },
      "source": [
        "print(model_data.shape)"
      ],
      "execution_count": null,
      "outputs": [
        {
          "output_type": "stream",
          "text": [
            "(4521, 4)\n"
          ],
          "name": "stdout"
        }
      ]
    },
    {
      "cell_type": "code",
      "metadata": {
        "id": "6cvATEIY3Jj3"
      },
      "source": [
        "x=model_data[:, 0:3]\n",
        "y=model_data[:,3]"
      ],
      "execution_count": null,
      "outputs": []
    },
    {
      "cell_type": "code",
      "metadata": {
        "id": "yoNRj71P3tGV"
      },
      "source": [
        "from sklearn.model_selection import train_test_split\n",
        "x_train, x_test, y_train, y_test = train_test_split(\n",
        "     x, y, test_size=0.3, random_state=42)"
      ],
      "execution_count": null,
      "outputs": []
    },
    {
      "cell_type": "markdown",
      "metadata": {
        "id": "DJqeT1sNwogb"
      },
      "source": [
        "the rest of the program should set up the modeling methods<br>\n",
        "and evaluation within a cross-validation design"
      ]
    },
    {
      "cell_type": "markdown",
      "metadata": {
        "id": "5MnO5jzFyDFZ"
      },
      "source": [
        "# **Model & Evaluate**"
      ]
    },
    {
      "cell_type": "markdown",
      "metadata": {
        "id": "-8Gg_eaU27Y0"
      },
      "source": [
        "1. Logistics Regression Model and Evaluation"
      ]
    },
    {
      "cell_type": "code",
      "metadata": {
        "id": "LJbB9sWc2-6Y"
      },
      "source": [
        "from sklearn.linear_model import LogisticRegression\n",
        "log_reg = LogisticRegression()\n",
        "log_reg.fit(x_train, y_train)\n",
        "y_predict1=log_reg.predict(x_test)"
      ],
      "execution_count": null,
      "outputs": []
    },
    {
      "cell_type": "code",
      "metadata": {
        "colab": {
          "base_uri": "https://localhost:8080/"
        },
        "id": "4LBVENzVCUnW",
        "outputId": "631286f6-6e3c-4c60-9f1c-d5f56172aa26"
      },
      "source": [
        "from sklearn.model_selection import cross_val_score\n",
        "from numpy import mean\n",
        "score1=cross_val_score(log_reg, x_train, y_train, scoring=\"roc_auc\", cv = 7)\n",
        "print(score1)\n",
        "print(mean(score1))"
      ],
      "execution_count": null,
      "outputs": [
        {
          "output_type": "stream",
          "text": [
            "[0.55658654 0.63052885 0.64801154 0.63765546 0.52477893 0.58840497\n",
            " 0.61713245]\n",
            "0.6004426770326189\n"
          ],
          "name": "stdout"
        }
      ]
    },
    {
      "cell_type": "markdown",
      "metadata": {
        "id": "pnefGErOGRx0"
      },
      "source": [
        "2. Naïve Bayes Classification Model and Evaluation"
      ]
    },
    {
      "cell_type": "code",
      "metadata": {
        "id": "KZLe4Zs7GenD"
      },
      "source": [
        "from sklearn.naive_bayes import GaussianNB\n",
        "gnb=GaussianNB()\n",
        "gnb.fit(x_train, y_train)\n",
        "y_predict2=gnb.predict(x_test)"
      ],
      "execution_count": null,
      "outputs": []
    },
    {
      "cell_type": "code",
      "metadata": {
        "colab": {
          "base_uri": "https://localhost:8080/"
        },
        "id": "XT7-ytPIH6gL",
        "outputId": "1d7c7fc1-d13d-423c-ff61-2c4c354287f4"
      },
      "source": [
        "score2=cross_val_score(gnb, x_train, y_train, scoring=\"roc_auc\", cv = 7)\n",
        "print(score2)\n",
        "print(mean(score2))"
      ],
      "execution_count": null,
      "outputs": [
        {
          "output_type": "stream",
          "text": [
            "[0.56413462 0.60038462 0.64966662 0.63566936 0.55367192 0.58485837\n",
            " 0.62701565]\n",
            "0.6022001646506896\n"
          ],
          "name": "stdout"
        }
      ]
    },
    {
      "cell_type": "markdown",
      "metadata": {
        "id": "TSMu7KoBJmHy"
      },
      "source": [
        "3. K-Neighbors Classification Model and Evaluation"
      ]
    },
    {
      "cell_type": "code",
      "metadata": {
        "id": "BnIQljmeJw76"
      },
      "source": [
        "from sklearn.neighbors import KNeighborsClassifier\n",
        "knc=KNeighborsClassifier(n_neighbors=5)\n",
        "knc.fit(x_train, y_train)\n",
        "y_predict3=knc.predict(x_test)"
      ],
      "execution_count": null,
      "outputs": []
    },
    {
      "cell_type": "code",
      "metadata": {
        "colab": {
          "base_uri": "https://localhost:8080/"
        },
        "id": "n1JxLJY3KDx-",
        "outputId": "12a1362c-d21a-427d-d94f-2aa5f2d6cadf"
      },
      "source": [
        "score3=cross_val_score(knc, x_train, y_train, scoring=\"roc_auc\", cv = 7)\n",
        "print(score3)\n",
        "print(mean(score3))"
      ],
      "execution_count": null,
      "outputs": [
        {
          "output_type": "stream",
          "text": [
            "[0.57682692 0.62413462 0.39750319 0.51636166 0.54622405 0.53012248\n",
            " 0.62458032]\n",
            "0.5451076049547463\n"
          ],
          "name": "stdout"
        }
      ]
    },
    {
      "cell_type": "markdown",
      "metadata": {
        "id": "TfRO_B3oyD0N"
      },
      "source": [
        "# **Exposition, Problem Description, and Management Recommendations**"
      ]
    },
    {
      "cell_type": "markdown",
      "metadata": {
        "id": "LseKNPyHIeDm"
      },
      "source": [
        "We've built three classification models, including logistics classifier, Naïve Bayes classifier, and k-neighbors classifier, to predict the response if the client subscribes to a term deposit in a marketing contact or phone call, based on the 3 feature \"yes\" or \"no\" inputs: credit default, housing loan and personal loan. \n",
        "\n",
        "\n",
        "There are no missing values in this dataset, so we assume this is a cleaned dataset and we skip any data cleanning process.\n",
        "\n",
        "We've also evaluated all four regression models with AUC during cross-validation. Results are listed per below:\n",
        "\n",
        "*   Logistics Classifier: 0.6004426770326189\n",
        "*   Naïve Bayes Classifier: 0.6022001646506896\n",
        "*   K-Neighbors Classifier: 0.5451076049547463\n",
        "\n",
        "The closer the AUC value to 1, the better the models are. Thus, based on the above comparisons, my recommendation is to choose naïve bayes classifier for prediction purpose."
      ]
    },
    {
      "cell_type": "code",
      "metadata": {
        "colab": {
          "base_uri": "https://localhost:8080/"
        },
        "id": "9i_JoSQneOF1",
        "outputId": "30d5ed25-239b-4d35-c391-c11d8a32d0cf"
      },
      "source": [
        "x_com=np.array([[1,1,1],[1,1,0],[1,0,1],[0,1,1],[0,0,1],[0,1,0],[1,0,0],[0,0,0]])\n",
        "a = gnb.predict(x_com)\n",
        "for i in range(len(a-1)) :\n",
        "  if a[i] == 1:\n",
        "    print(x_com[i])"
      ],
      "execution_count": null,
      "outputs": [
        {
          "output_type": "stream",
          "text": [
            "[1 1 1]\n",
            "[1 1 0]\n",
            "[1 0 1]\n",
            "[1 0 0]\n"
          ],
          "name": "stdout"
        }
      ]
    },
    {
      "cell_type": "markdown",
      "metadata": {
        "id": "gQNmym4If3x6"
      },
      "source": [
        "As per above result from naïve bayes classifier model, potential customers with credit default will have a higher potential to subscribe to term deposit, details are listed as per below:\n",
        "\n",
        "*   Has credit default, Has housing loan, has personal loan\n",
        "*   Has credit default, Has housing loan, no personal loan\n",
        "*   Has credit default, no housing loan, has personal loan\n",
        "*   Has credit default, no housing loan, no personal loan\n"
      ]
    }
  ]
}