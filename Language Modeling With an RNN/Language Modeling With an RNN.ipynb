{
  "nbformat": 4,
  "nbformat_minor": 0,
  "metadata": {
    "colab": {
      "name": "Assignment08_Weng.ipynb",
      "provenance": [],
      "collapsed_sections": []
    },
    "kernelspec": {
      "name": "python3",
      "display_name": "Python 3"
    }
  },
  "cells": [
    {
      "cell_type": "markdown",
      "metadata": {
        "id": "2zpMjkoL0eAV"
      },
      "source": [
        "# **INGEST**"
      ]
    },
    {
      "cell_type": "code",
      "metadata": {
        "id": "RnJ6AWFW0rJ6"
      },
      "source": [
        "from google.colab import drive \n",
        "import numpy as np\n",
        "import pandas as pd\n",
        "import seaborn as sns\n",
        "import re\n",
        "from nltk.corpus import stopwords\n",
        "import tensorflow as tf\n",
        "from tensorflow.keras.preprocessing.text import Tokenizer\n",
        "from tensorflow.keras.preprocessing.sequence import pad_sequences\n",
        "from tensorflow.keras import layers, Sequential\n",
        "from tensorflow.keras import optimizers\n",
        "import matplotlib.pyplot as plt\n"
      ],
      "execution_count": null,
      "outputs": []
    },
    {
      "cell_type": "code",
      "metadata": {
        "colab": {
          "base_uri": "https://localhost:8080/"
        },
        "id": "B4eyx5Dn09vu",
        "outputId": "8abc3aa3-2c85-48e0-82e2-0ea660f5f4d4"
      },
      "source": [
        "drive.mount('/content/gdrive')\n",
        "train=pd.read_csv('gdrive/My Drive/Data/train.csv')\n",
        "test=pd.read_csv('gdrive/My Drive/Data/test.csv')"
      ],
      "execution_count": null,
      "outputs": [
        {
          "output_type": "stream",
          "text": [
            "Drive already mounted at /content/gdrive; to attempt to forcibly remount, call drive.mount(\"/content/gdrive\", force_remount=True).\n"
          ],
          "name": "stdout"
        }
      ]
    },
    {
      "cell_type": "markdown",
      "metadata": {
        "id": "-EX_aHB40eKk"
      },
      "source": [
        "# **EDA**"
      ]
    },
    {
      "cell_type": "markdown",
      "metadata": {
        "id": "EYMh2QxX1wAJ"
      },
      "source": [
        "Understand the data\n",
        "\n",
        "\n"
      ]
    },
    {
      "cell_type": "code",
      "metadata": {
        "colab": {
          "base_uri": "https://localhost:8080/"
        },
        "id": "n4gKsx6bAst3",
        "outputId": "c0b8c06f-8854-47f5-d039-ba4ba232a76f"
      },
      "source": [
        "train.info()"
      ],
      "execution_count": null,
      "outputs": [
        {
          "output_type": "stream",
          "text": [
            "<class 'pandas.core.frame.DataFrame'>\n",
            "RangeIndex: 7613 entries, 0 to 7612\n",
            "Data columns (total 5 columns):\n",
            " #   Column    Non-Null Count  Dtype \n",
            "---  ------    --------------  ----- \n",
            " 0   id        7613 non-null   int64 \n",
            " 1   keyword   7552 non-null   object\n",
            " 2   location  5080 non-null   object\n",
            " 3   text      7613 non-null   object\n",
            " 4   target    7613 non-null   int64 \n",
            "dtypes: int64(2), object(3)\n",
            "memory usage: 297.5+ KB\n"
          ],
          "name": "stdout"
        }
      ]
    },
    {
      "cell_type": "code",
      "metadata": {
        "colab": {
          "base_uri": "https://localhost:8080/",
          "height": 339
        },
        "id": "X9d4f7PxftE8",
        "outputId": "c740c046-a9a7-4c96-a0c7-2eda80409ff0"
      },
      "source": [
        "class_dist = train.target.value_counts()\n",
        "sns.barplot(class_dist.index,class_dist)"
      ],
      "execution_count": null,
      "outputs": [
        {
          "output_type": "stream",
          "text": [
            "/usr/local/lib/python3.7/dist-packages/seaborn/_decorators.py:43: FutureWarning: Pass the following variables as keyword args: x, y. From version 0.12, the only valid positional argument will be `data`, and passing other arguments without an explicit keyword will result in an error or misinterpretation.\n",
            "  FutureWarning\n"
          ],
          "name": "stderr"
        },
        {
          "output_type": "execute_result",
          "data": {
            "text/plain": [
              "<matplotlib.axes._subplots.AxesSubplot at 0x7f7760a0d190>"
            ]
          },
          "metadata": {
            "tags": []
          },
          "execution_count": 4
        },
        {
          "output_type": "display_data",
          "data": {
            "image/png": "[encoded data removed]",
            "text/plain": [
              "<Figure size 432x288 with 1 Axes>"
            ]
          },
          "metadata": {
            "tags": [],
            "needs_background": "light"
          }
        }
      ]
    },
    {
      "cell_type": "code",
      "metadata": {
        "id": "zLjwodoIPXvB"
      },
      "source": [
        "train_x = train['text'].copy()\n",
        "train_y = train['target'].copy()"
      ],
      "execution_count": null,
      "outputs": []
    },
    {
      "cell_type": "markdown",
      "metadata": {
        "id": "6h0GMUoSC0WC"
      },
      "source": [
        "Data cleaning"
      ]
    },
    {
      "cell_type": "code",
      "metadata": {
        "id": "XbGckiOLOGb5"
      },
      "source": [
        "stop = stopwords.words('english')\n",
        "\n",
        "def clean(text):\n",
        "    text = re.sub(r'http\\S+', ' ', text)\n",
        "    text = re.sub(r'<.*?>', ' ', text)    \n",
        "    text = re.sub(r'#\\w+', ' ', text)    \n",
        "    text = re.sub(r'@\\w+', ' ', text)\n",
        "    text = re.sub(r'\\d+', ' ', text)\n",
        "    text = text.split()\n",
        "    text = ' '.join([word for word in text if word not in stop])\n",
        "    return text"
      ],
      "execution_count": null,
      "outputs": []
    },
    {
      "cell_type": "code",
      "metadata": {
        "id": "FaXLkI7iOv3T",
        "colab": {
          "base_uri": "https://localhost:8080/"
        },
        "outputId": "1a34397b-12de-4b23-935f-f7e96428de13"
      },
      "source": [
        "train_x_cleaned = train_x.apply(clean)\n",
        "train_x_cleaned.head()"
      ],
      "execution_count": null,
      "outputs": [
        {
          "output_type": "execute_result",
          "data": {
            "text/plain": [
              "0                Our Deeds Reason May ALLAH Forgive us\n",
              "1               Forest fire near La Ronge Sask. Canada\n",
              "2    All residents asked 'shelter place' notified o...\n",
              "3        , people receive evacuation orders California\n",
              "4          Just got sent photo Ruby smoke pours school\n",
              "Name: text, dtype: object"
            ]
          },
          "metadata": {
            "tags": []
          },
          "execution_count": 7
        }
      ]
    },
    {
      "cell_type": "code",
      "metadata": {
        "id": "pkVXubaTO-hQ",
        "colab": {
          "base_uri": "https://localhost:8080/"
        },
        "outputId": "7b34c847-9188-4377-af0b-0a52750f8158"
      },
      "source": [
        "max_len = max(train_x_cleaned.apply(len))\n",
        "print('max length: {}'.format(max_len))"
      ],
      "execution_count": null,
      "outputs": [
        {
          "output_type": "stream",
          "text": [
            "max length: 141\n"
          ],
          "name": "stdout"
        }
      ]
    },
    {
      "cell_type": "markdown",
      "metadata": {
        "id": "BlB07FjBDLcw"
      },
      "source": [
        "Tokenize"
      ]
    },
    {
      "cell_type": "code",
      "metadata": {
        "id": "pFLu3e6717PL"
      },
      "source": [
        "tokenizer = Tokenizer()\n",
        "tokenizer.fit_on_texts(train_x_cleaned)\n",
        "vocab_size = len(tokenizer.word_index) + 1\n",
        "x = tokenizer.texts_to_sequences(train_x_cleaned)\n",
        "x = pad_sequences(x, max_len, padding='post')\n",
        "y = train_y"
      ],
      "execution_count": null,
      "outputs": []
    },
    {
      "cell_type": "code",
      "metadata": {
        "id": "CVQORZfbHHWP"
      },
      "source": [
        "test_x = test['text'].copy()\n",
        "test_x = test_x.apply(clean)\n",
        "test_x = tokenizer.texts_to_sequences(test_x)\n",
        "test_x = pad_sequences(test_x, max_len, padding='post')"
      ],
      "execution_count": null,
      "outputs": []
    },
    {
      "cell_type": "markdown",
      "metadata": {
        "id": "pp8W4BvB0eP_"
      },
      "source": [
        "# **MODEL & EVALUATE**"
      ]
    },
    {
      "cell_type": "code",
      "metadata": {
        "id": "Xb4V293fX2jG"
      },
      "source": [
        "epoch_size =10\n",
        "batch_size = 32\n",
        "embedding_dim = 16\n",
        "optimizer = optimizers.Adam(lr=3e-4)"
      ],
      "execution_count": null,
      "outputs": []
    },
    {
      "cell_type": "markdown",
      "metadata": {
        "id": "WdfP1PQwRu2s"
      },
      "source": [
        "GRU "
      ]
    },
    {
      "cell_type": "code",
      "metadata": {
        "id": "Zl2kB7_k3bK8",
        "colab": {
          "base_uri": "https://localhost:8080/"
        },
        "outputId": "fa41a5c8-39b6-4d11-b9ab-e0cc3516a0e7"
      },
      "source": [
        "model = Sequential([\n",
        "    layers.Embedding(vocab_size, embedding_dim, input_length=max_len),\n",
        "    layers.Bidirectional(layers.GRU(256, return_sequences=True)),\n",
        "    layers.GlobalMaxPool1D(),\n",
        "    layers.Dense(64, activation='relu'),\n",
        "    layers.Dropout(0.4),\n",
        "    layers.Dense(2, activation='sigmoid')\n",
        "])\n",
        "model.summary()"
      ],
      "execution_count": null,
      "outputs": [
        {
          "output_type": "stream",
          "text": [
            "Model: \"sequential\"\n",
            "_________________________________________________________________\n",
            "Layer (type)                 Output Shape              Param #   \n",
            "=================================================================\n",
            "embedding (Embedding)        (None, 141, 16)           223152    \n",
            "_________________________________________________________________\n",
            "bidirectional (Bidirectional (None, 141, 512)          420864    \n",
            "_________________________________________________________________\n",
            "global_max_pooling1d (Global (None, 512)               0         \n",
            "_________________________________________________________________\n",
            "dense (Dense)                (None, 64)                32832     \n",
            "_________________________________________________________________\n",
            "dropout (Dropout)            (None, 64)                0         \n",
            "_________________________________________________________________\n",
            "dense_1 (Dense)              (None, 2)                 130       \n",
            "=================================================================\n",
            "Total params: 676,978\n",
            "Trainable params: 676,978\n",
            "Non-trainable params: 0\n",
            "_________________________________________________________________\n"
          ],
          "name": "stdout"
        }
      ]
    },
    {
      "cell_type": "code",
      "metadata": {
        "id": "4tEmLJKb5Hl6",
        "colab": {
          "base_uri": "https://localhost:8080/"
        },
        "outputId": "20f63e76-db10-437e-cedd-249abf66abfd"
      },
      "source": [
        "model.compile(loss='sparse_categorical_crossentropy', optimizer = 'adam', metrics=['accuracy'])\n",
        "history1=model.fit(x, y, epochs=epoch_size, validation_split=0.1)"
      ],
      "execution_count": null,
      "outputs": [
        {
          "output_type": "stream",
          "text": [
            "Epoch 1/10\n",
            "215/215 [==============================] - 144s 654ms/step - loss: 0.6460 - accuracy: 0.6013 - val_loss: 0.4455 - val_accuracy: 0.7979\n",
            "Epoch 2/10\n",
            "215/215 [==============================] - 138s 644ms/step - loss: 0.3348 - accuracy: 0.8672 - val_loss: 0.4624 - val_accuracy: 0.7966\n",
            "Epoch 3/10\n",
            "215/215 [==============================] - 139s 648ms/step - loss: 0.2019 - accuracy: 0.9322 - val_loss: 0.5495 - val_accuracy: 0.7677\n",
            "Epoch 4/10\n",
            "215/215 [==============================] - 138s 641ms/step - loss: 0.1370 - accuracy: 0.9506 - val_loss: 0.5987 - val_accuracy: 0.7520\n",
            "Epoch 5/10\n",
            "215/215 [==============================] - 138s 643ms/step - loss: 0.1004 - accuracy: 0.9669 - val_loss: 0.8000 - val_accuracy: 0.7638\n",
            "Epoch 6/10\n",
            "215/215 [==============================] - 138s 641ms/step - loss: 0.0849 - accuracy: 0.9688 - val_loss: 0.7876 - val_accuracy: 0.7559\n",
            "Epoch 7/10\n",
            "215/215 [==============================] - 137s 639ms/step - loss: 0.0616 - accuracy: 0.9779 - val_loss: 1.2064 - val_accuracy: 0.7323\n",
            "Epoch 8/10\n",
            "215/215 [==============================] - 137s 637ms/step - loss: 0.0713 - accuracy: 0.9731 - val_loss: 1.0372 - val_accuracy: 0.7205\n",
            "Epoch 9/10\n",
            "215/215 [==============================] - 137s 639ms/step - loss: 0.0671 - accuracy: 0.9723 - val_loss: 1.0655 - val_accuracy: 0.7546\n",
            "Epoch 10/10\n",
            "215/215 [==============================] - 138s 640ms/step - loss: 0.0491 - accuracy: 0.9762 - val_loss: 1.1685 - val_accuracy: 0.7441\n"
          ],
          "name": "stdout"
        }
      ]
    },
    {
      "cell_type": "code",
      "metadata": {
        "id": "-QKc5R50WJuL"
      },
      "source": [
        "test_pred1 = np.argmax(model.predict(test_x), axis=1)"
      ],
      "execution_count": null,
      "outputs": []
    },
    {
      "cell_type": "code",
      "metadata": {
        "colab": {
          "base_uri": "https://localhost:8080/",
          "height": 297
        },
        "id": "4RyuSD6JjFY2",
        "outputId": "de3d4d47-5724-42eb-90fa-d38019c57091"
      },
      "source": [
        "fig = plt.figure()\n",
        "plt.subplot(2,1,1)\n",
        "plt.plot(history1.history['accuracy'])\n",
        "plt.plot(history1.history['val_accuracy'])\n",
        "plt.title('GRU accuracy')\n",
        "plt.ylabel('accuracy')\n",
        "plt.xlabel('epoch')\n",
        "plt.legend(['train', 'valid'], loc='lower right')\n",
        "\n",
        "plt.subplot(2,1,2)\n",
        "plt.plot(history1.history['loss'])\n",
        "plt.plot(history1.history['val_loss'])\n",
        "plt.title('GRU accuracy')\n",
        "plt.ylabel('loss')\n",
        "plt.xlabel('epoch')\n",
        "plt.legend(['train', 'valid'], loc='upper right')\n",
        "\n",
        "plt.tight_layout()"
      ],
      "execution_count": null,
      "outputs": [
        {
          "output_type": "display_data",
          "data": {
            "image/png": "[encoded data removed]",
            "text/plain": [
              "<Figure size 432x288 with 2 Axes>"
            ]
          },
          "metadata": {
            "tags": [],
            "needs_background": "light"
          }
        }
      ]
    },
    {
      "cell_type": "markdown",
      "metadata": {
        "id": "et1i2D4QXJz2"
      },
      "source": [
        "LSTM"
      ]
    },
    {
      "cell_type": "code",
      "metadata": {
        "id": "6-Lse-PlXJGx",
        "colab": {
          "base_uri": "https://localhost:8080/"
        },
        "outputId": "a5eb41d1-9feb-41ae-b73b-96864fc36b62"
      },
      "source": [
        "model = Sequential([\n",
        "    layers.Embedding(vocab_size, embedding_dim, input_length=max_len),\n",
        "    layers.Bidirectional(layers.LSTM(256, return_sequences=True)),\n",
        "    layers.GlobalMaxPool1D(),\n",
        "    layers.Dense(64, activation='relu'),\n",
        "    layers.Dropout(0.4),\n",
        "    layers.Dense(2, activation='sigmoid')\n",
        "])\n",
        "model.summary()"
      ],
      "execution_count": null,
      "outputs": [
        {
          "output_type": "stream",
          "text": [
            "Model: \"sequential_1\"\n",
            "_________________________________________________________________\n",
            "Layer (type)                 Output Shape              Param #   \n",
            "=================================================================\n",
            "embedding_1 (Embedding)      (None, 141, 16)           223152    \n",
            "_________________________________________________________________\n",
            "bidirectional_1 (Bidirection (None, 141, 512)          559104    \n",
            "_________________________________________________________________\n",
            "global_max_pooling1d_1 (Glob (None, 512)               0         \n",
            "_________________________________________________________________\n",
            "dense_2 (Dense)              (None, 64)                32832     \n",
            "_________________________________________________________________\n",
            "dropout_1 (Dropout)          (None, 64)                0         \n",
            "_________________________________________________________________\n",
            "dense_3 (Dense)              (None, 2)                 130       \n",
            "=================================================================\n",
            "Total params: 815,218\n",
            "Trainable params: 815,218\n",
            "Non-trainable params: 0\n",
            "_________________________________________________________________\n"
          ],
          "name": "stdout"
        }
      ]
    },
    {
      "cell_type": "code",
      "metadata": {
        "id": "e62vXCMYXk8x",
        "colab": {
          "base_uri": "https://localhost:8080/"
        },
        "outputId": "4be05fdc-82e8-4d0a-8ae2-69953134e50a"
      },
      "source": [
        "model.compile(loss='sparse_categorical_crossentropy', optimizer = 'adam', metrics=['accuracy'])\n",
        "history2=model.fit(x, y, epochs=epoch_size, validation_split=0.1)"
      ],
      "execution_count": null,
      "outputs": [
        {
          "output_type": "stream",
          "text": [
            "Epoch 1/10\n",
            "215/215 [==============================] - 188s 859ms/step - loss: 0.6610 - accuracy: 0.5881 - val_loss: 0.4534 - val_accuracy: 0.7979\n",
            "Epoch 2/10\n",
            "215/215 [==============================] - 184s 858ms/step - loss: 0.3544 - accuracy: 0.8696 - val_loss: 0.4519 - val_accuracy: 0.7861\n",
            "Epoch 3/10\n",
            "215/215 [==============================] - 184s 855ms/step - loss: 0.2313 - accuracy: 0.9206 - val_loss: 0.5700 - val_accuracy: 0.7441\n",
            "Epoch 4/10\n",
            "215/215 [==============================] - 184s 857ms/step - loss: 0.1552 - accuracy: 0.9468 - val_loss: 0.6401 - val_accuracy: 0.7480\n",
            "Epoch 5/10\n",
            "215/215 [==============================] - 184s 856ms/step - loss: 0.1085 - accuracy: 0.9626 - val_loss: 0.6659 - val_accuracy: 0.7703\n",
            "Epoch 6/10\n",
            "215/215 [==============================] - 184s 854ms/step - loss: 0.0816 - accuracy: 0.9699 - val_loss: 1.1787 - val_accuracy: 0.7493\n",
            "Epoch 7/10\n",
            "215/215 [==============================] - 184s 856ms/step - loss: 0.0635 - accuracy: 0.9736 - val_loss: 0.8035 - val_accuracy: 0.7572\n",
            "Epoch 8/10\n",
            "215/215 [==============================] - 187s 871ms/step - loss: 0.0596 - accuracy: 0.9763 - val_loss: 1.1329 - val_accuracy: 0.7559\n",
            "Epoch 9/10\n",
            "215/215 [==============================] - 188s 874ms/step - loss: 0.0570 - accuracy: 0.9740 - val_loss: 1.3331 - val_accuracy: 0.7454\n",
            "Epoch 10/10\n",
            "215/215 [==============================] - 189s 880ms/step - loss: 0.0440 - accuracy: 0.9782 - val_loss: 0.8945 - val_accuracy: 0.7612\n"
          ],
          "name": "stdout"
        }
      ]
    },
    {
      "cell_type": "code",
      "metadata": {
        "id": "6GbfVdFdfCMh"
      },
      "source": [
        "test_pred2 = np.argmax(model.predict(test_x), axis=1)"
      ],
      "execution_count": null,
      "outputs": []
    },
    {
      "cell_type": "code",
      "metadata": {
        "colab": {
          "base_uri": "https://localhost:8080/",
          "height": 297
        },
        "id": "YcLMoHQyjN-d",
        "outputId": "555b509b-51a3-4d3a-baee-2753ba9fb9ce"
      },
      "source": [
        "fig = plt.figure()\n",
        "plt.subplot(2,1,1)\n",
        "plt.plot(history2.history['accuracy'])\n",
        "plt.plot(history2\n",
        "         .history['val_accuracy'])\n",
        "plt.title('LSTM accuracy')\n",
        "plt.ylabel('accuracy')\n",
        "plt.xlabel('epoch')\n",
        "plt.legend(['train', 'valid'], loc='lower right')\n",
        "\n",
        "plt.subplot(2,1,2)\n",
        "plt.plot(history2.history['loss'])\n",
        "plt.plot(history2.history['val_loss'])\n",
        "plt.title('LSTM accuracy')\n",
        "plt.ylabel('loss')\n",
        "plt.xlabel('epoch')\n",
        "plt.legend(['train', 'valid'], loc='upper right')\n",
        "\n",
        "plt.tight_layout()"
      ],
      "execution_count": null,
      "outputs": [
        {
          "output_type": "display_data",
          "data": {
            "image/png": "[encoded data removed]",
            "text/plain": [
              "<Figure size 432x288 with 2 Axes>"
            ]
          },
          "metadata": {
            "tags": [],
            "needs_background": "light"
          }
        }
      ]
    },
    {
      "cell_type": "markdown",
      "metadata": {
        "id": "-QRFKAgD0eV7"
      },
      "source": [
        "# **CONCLUSION**"
      ]
    },
    {
      "cell_type": "markdown",
      "metadata": {
        "id": "Bdt-EfPIgv0v"
      },
      "source": [
        "We've created 2 RNN models: GRU and LSTM to identify disasters from Tweets. It seems like both of the models have achieved very high accuracy: around 97%. However, it seems like overfittings exist in both models from the lower accuracy for validation data set. I think early stop can be implemented in order to prevent the models from overfitting. "
      ]
    }
  ]
}